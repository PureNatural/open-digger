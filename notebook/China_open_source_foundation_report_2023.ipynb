{
 "cells": [
  {
   "cell_type": "code",
   "execution_count": 1,
   "id": "8c226615",
   "metadata": {},
   "outputs": [],
   "source": [
    "var openDigger = require('../src/open_digger');\n",
    "var year = 2023, startMonth = 1, endMonth = 12, startYear = 2019\n",
    "var years = Array.from({ length: year - startYear + 1 }, (_, i) => i + startYear); // [2018, 2019, 2020, 2021, 2022]\n",
    "var baseOptions = {\n",
    "    startYear, endYear: year,\n",
    "    startMonth, endMonth,\n",
    "    groupTimeRange: 'year',\n",
    "    order: 'DESC'\n",
    "};"
   ]
  },
  {
   "cell_type": "markdown",
   "id": "7a5ca49e",
   "metadata": {},
   "source": [
    "## 基金会洞察"
   ]
  },
  {
   "cell_type": "markdown",
   "id": "2af24950-6b86-4c83-9c4d-662f3c48b352",
   "metadata": {},
   "source": [
    "### 全球基金会旗下项目OpenRank Top 10"
   ]
  },
  {
   "cell_type": "code",
   "execution_count": 2,
   "id": "c3589969-4b09-4006-8cbb-81297620dc87",
   "metadata": {},
   "outputs": [
    {
     "name": "stdout",
     "output_type": "stream",
     "text": [
      "┌─────────┬────────────┬──────────┬────────────────────────────────┬─────────────┐\n",
      "│ (index) │     id     │ platform │              name              │  openrank   │\n",
      "├─────────┼────────────┼──────────┼────────────────────────────────┼─────────────┤\n",
      "│    0    │ '20580498' │ 'GitHub' │    'kubernetes/kubernetes'     │ [ 5374.14 ] │\n",
      "│    1    │ '99919302' │ 'GitHub' │         'apache/doris'         │ [ 4307.26 ] │\n",
      "│    2    │ '33884891' │ 'GitHub' │        'apache/airflow'        │ [ 3642.9 ]  │\n",
      "│    3    │ '10919030' │ 'Gitee'  │       'openharmony/docs'       │ [ 3277.69 ] │\n",
      "│    4    │ '16184957' │ 'Gitee'  │ 'openharmony/arkui_ace_engine' │ [ 2818.09 ] │\n",
      "│    5    │ '27193779' │ 'GitHub' │         'nodejs/node'          │ [ 2736.37 ] │\n",
      "│    6    │ '17165658' │ 'GitHub' │         'apache/spark'         │ [ 2654.02 ] │\n",
      "│    7    │ '51905353' │ 'GitHub' │         'apache/arrow'         │ [ 2219.95 ] │\n",
      "│    8    │ '50904245' │ 'GitHub' │         'apache/beam'          │ [ 2188.52 ] │\n",
      "│    9    │ '76474200' │ 'GitHub' │         'apache/hudi'          │ [ 2124.67 ] │\n",
      "└─────────┴────────────┴──────────┴────────────────────────────────┴─────────────┘\n"
     ]
    }
   ],
   "source": [
    "openDigger.index.openrank.getRepoOpenrank({\n",
    "    labelIntersect: ['Foundation'],\n",
    "    startYear: year, endYear: year, startMonth: 1, endMonth: 12,\n",
    "    groupTimeRange: 'year', limit: 10, order: 'DESC',\n",
    "}).then(data => console.table(data));"
   ]
  },
  {
   "cell_type": "code",
   "execution_count": 3,
   "id": "b9b84f3d-deb4-40f1-9e19-237da4c6b91c",
   "metadata": {},
   "outputs": [],
   "source": [
    "var processFoundationFieldData = (label, title) => {\n",
    "    var years = [2019, 2020, 2021, 2022, 2023];\n",
    "    openDigger.index.openrank.getRepoOpenrank({\n",
    "        ...baseOptions, labelIntersect: label, limit: 20\n",
    "    }).then(data => {\n",
    "        openDigger.render.plotly(data.map(row => {\n",
    "            return {\n",
    "                x: years,\n",
    "                y: row.openrank,\n",
    "                name: row.name\n",
    "            };\n",
    "        }), {title: `OpenRank of ${title} 2019-2023`});\n",
    "    });\n",
    "};"
   ]
  },
  {
   "cell_type": "markdown",
   "id": "056fe2f4-ac14-44d4-91d6-9230900b580f",
   "metadata": {},
   "source": [
    "### 全球基金会旗下项目OpenRank Top 10 变化趋势"
   ]
  },
  {
   "cell_type": "code",
   "execution_count": 4,
   "id": "97b3d7c2-578a-447c-8cfd-4a87c2a8ebef",
   "metadata": {},
   "outputs": [
    {
     "data": {
      "application/vnd.plotly.v1+json": {
       "data": [
        {
         "name": "kubernetes/kubernetes",
         "x": [
          2019,
          2020,
          2021,
          2022,
          2023
         ],
         "y": [
          9364.88,
          7951.31,
          7187.94,
          5306.63,
          5374.14
         ]
        },
        {
         "name": "apache/doris",
         "x": [
          2019,
          2020,
          2021,
          2022,
          2023
         ],
         "y": [
          500.37,
          961.46,
          940.77,
          2296.17,
          4307.26
         ]
        },
        {
         "name": "apache/airflow",
         "x": [
          2019,
          2020,
          2021,
          2022,
          2023
         ],
         "y": [
          1587.27,
          2775.71,
          3699.36,
          3550.43,
          3642.9
         ]
        },
        {
         "name": "openharmony/docs",
         "x": [
          2019,
          2020,
          2021,
          2022,
          2023
         ],
         "y": [
          0,
          0,
          0,
          0,
          3277.69
         ]
        },
        {
         "name": "openharmony/arkui_ace_engine",
         "x": [
          2019,
          2020,
          2021,
          2022,
          2023
         ],
         "y": [
          0,
          0,
          0,
          115.9,
          2818.09
         ]
        },
        {
         "name": "nodejs/node",
         "x": [
          2019,
          2020,
          2021,
          2022,
          2023
         ],
         "y": [
          3400.41,
          3037.94,
          2433.13,
          2495.59,
          2736.37
         ]
        },
        {
         "name": "apache/spark",
         "x": [
          2019,
          2020,
          2021,
          2022,
          2023
         ],
         "y": [
          3050.64,
          3010.47,
          2618.08,
          2322,
          2654.02
         ]
        },
        {
         "name": "apache/arrow",
         "x": [
          2019,
          2020,
          2021,
          2022,
          2023
         ],
         "y": [
          1379.24,
          1427.37,
          1506.71,
          1722.31,
          2219.95
         ]
        },
        {
         "name": "apache/beam",
         "x": [
          2019,
          2020,
          2021,
          2022,
          2023
         ],
         "y": [
          2207.61,
          2267.55,
          1933.53,
          2365.16,
          2188.52
         ]
        },
        {
         "name": "apache/hudi",
         "x": [
          2019,
          2020,
          2021,
          2022,
          2023
         ],
         "y": [
          309.07,
          975.52,
          1345.85,
          2097.64,
          2124.67
         ]
        },
        {
         "name": "apache/superset",
         "x": [
          2019,
          2020,
          2021,
          2022,
          2023
         ],
         "y": [
          1336.51,
          1679.48,
          2489.91,
          2334.19,
          2092.32
         ]
        },
        {
         "name": "milvus-io/milvus",
         "x": [
          2019,
          2020,
          2021,
          2022,
          2023
         ],
         "y": [
          65.9,
          732.49,
          1065.29,
          1560.34,
          2001.11
         ]
        },
        {
         "name": "apache/kafka",
         "x": [
          2019,
          2020,
          2021,
          2022,
          2023
         ],
         "y": [
          1698.92,
          1750.61,
          1625.16,
          1348.65,
          1849.97
         ]
        },
        {
         "name": "apache/flink",
         "x": [
          2019,
          2020,
          2021,
          2022,
          2023
         ],
         "y": [
          2072.08,
          2501.17,
          2426.81,
          2298.86,
          1816.72
         ]
        },
        {
         "name": "electron/electron",
         "x": [
          2019,
          2020,
          2021,
          2022,
          2023
         ],
         "y": [
          2824.05,
          2761.41,
          2266.04,
          1982.32,
          1773.31
         ]
        },
        {
         "name": "apache/iceberg",
         "x": [
          2019,
          2020,
          2021,
          2022,
          2023
         ],
         "y": [
          378.61,
          787.15,
          1235.38,
          1750.5,
          1747.12
         ]
        },
        {
         "name": "apache/shardingsphere",
         "x": [
          2019,
          2020,
          2021,
          2022,
          2023
         ],
         "y": [
          815.76,
          1443.01,
          1561.73,
          2037.85,
          1662.8
         ]
        },
        {
         "name": "o3de/o3de",
         "x": [
          2019,
          2020,
          2021,
          2022,
          2023
         ],
         "y": [
          0,
          0,
          862.38,
          2946.44,
          1599.94
         ]
        },
        {
         "name": "apache/tvm",
         "x": [
          2019,
          2020,
          2021,
          2022,
          2023
         ],
         "y": [
          298.61,
          1833.76,
          1989.64,
          2249.37,
          1564.11
         ]
        },
        {
         "name": "apache/nuttx",
         "x": [
          2019,
          2020,
          2021,
          2022,
          2023
         ],
         "y": [
          7.1,
          653.98,
          956.6,
          1095.96,
          1476.16
         ]
        }
       ],
       "layout": {
        "autosize": true,
        "title": {
         "text": "OpenRank of Foundation 2019-2023"
        },
        "xaxis": {
         "autorange": true,
         "range": [
          2018.7358490566037,
          2023.2641509433963
         ],
         "type": "linear"
        },
        "yaxis": {
         "autorange": true,
         "range": [
          -772.8299029126213,
          10137.70990291262
         ],
         "type": "linear"
        }
       }
      },
      "image/png": "[encoded data removed]"
     },
     "execution_count": 4,
     "metadata": {},
     "output_type": "execute_result"
    }
   ],
   "source": [
    "processFoundationFieldData(['Foundation'], 'Foundation');"
   ]
  },
  {
   "cell_type": "markdown",
   "id": "efdefa34-ded3-4b93-89f4-e346760f8cfa",
   "metadata": {},
   "source": [
    "### 各基金会 OpenRank 变化趋势"
   ]
  },
  {
   "cell_type": "code",
   "execution_count": 5,
   "id": "05e71093-9285-4bae-a80f-be3ff6219d56",
   "metadata": {},
   "outputs": [
    {
     "data": {
      "application/vnd.plotly.v1+json": {
       "data": [
        {
         "name": "Apache Software Foundation",
         "x": [
          2019,
          2020,
          2021,
          2022,
          2023
         ],
         "y": [
          56732.41,
          67266.38,
          72290.39,
          81163.37,
          86901.02
         ]
        },
        {
         "name": "OpenAtom Foundation",
         "x": [
          2019,
          2020,
          2021,
          2022,
          2023
         ],
         "y": [
          3335.97,
          7110.8,
          14133.74,
          36454.94,
          54174.26
         ]
        },
        {
         "name": "Cloud Native Computing Foundation",
         "x": [
          2019,
          2020,
          2021,
          2022,
          2023
         ],
         "y": [
          13413.16,
          13855.52,
          14391.08,
          13170.47,
          12503.67
         ]
        },
        {
         "name": "OpenJS Foundation",
         "x": [
          2019,
          2020,
          2021,
          2022,
          2023
         ],
         "y": [
          20343.38,
          18692.49,
          14253.16,
          10937.04,
          9699.54
         ]
        },
        {
         "name": "Linux Foundation",
         "x": [
          2019,
          2020,
          2021,
          2022,
          2023
         ],
         "y": [
          6382.87,
          8692.62,
          8760.45,
          8825.72,
          8170.75
         ]
        },
        {
         "name": "LF AI & Data Foundation",
         "x": [
          2019,
          2020,
          2021,
          2022,
          2023
         ],
         "y": [
          1993.78,
          3892.33,
          5302.94,
          6226.58,
          7177.29
         ]
        },
        {
         "name": "Eclipse Foundation",
         "x": [
          2019,
          2020,
          2021,
          2022,
          2023
         ],
         "y": [
          13339.74,
          14695.9,
          10389.18,
          8472.87,
          6381.37
         ]
        },
        {
         "name": "Hyperledger Foundation",
         "x": [
          2019,
          2020,
          2021,
          2022,
          2023
         ],
         "y": [
          3781.05,
          5361.8,
          5567.69,
          6121.97,
          5667.5
         ]
        },
        {
         "name": "OpenSSF Foundation",
         "x": [
          2019,
          2020,
          2021,
          2022,
          2023
         ],
         "y": [
          37.18,
          257.97,
          1378.68,
          2712.18,
          3246.13
         ]
        },
        {
         "name": "O3DE Foundation",
         "x": [
          2019,
          2020,
          2021,
          2022,
          2023
         ],
         "y": [
          0,
          0,
          1171.42,
          3909.09,
          2665.15
         ]
        },
        {
         "name": "RICSV Foundation",
         "x": [
          2019,
          2020,
          2021,
          2022,
          2023
         ],
         "y": [
          1062.88,
          1437.85,
          2022.18,
          1963.23,
          2663.75
         ]
        },
        {
         "name": "LF Edge Foundation",
         "x": [
          2019,
          2020,
          2021,
          2022,
          2023
         ],
         "y": [
          1747.63,
          2984.33,
          3133.56,
          2629.43,
          2491.58
         ]
        },
        {
         "name": "OpenInfra Foundation",
         "x": [
          2019,
          2020,
          2021,
          2022,
          2023
         ],
         "y": [
          1473.42,
          1278.28,
          1379.46,
          1466.82,
          1486.73
         ]
        },
        {
         "name": "LF Networking Foundation",
         "x": [
          2019,
          2020,
          2021,
          2022,
          2023
         ],
         "y": [
          123.56,
          178.29,
          229.44,
          294.59,
          426.77
         ]
        },
        {
         "name": "FinOps Foundation",
         "x": [
          2019,
          2020,
          2021,
          2022,
          2023
         ],
         "y": [
          0,
          24.29,
          99.01,
          128.14,
          83.52
         ]
        }
       ],
       "layout": {
        "autosize": true,
        "title": {
         "text": "OpenRank of Foundations 2019-2023"
        },
        "xaxis": {
         "autorange": true,
         "range": [
          -0.26645435244161364,
          4.266454352441613
         ],
         "type": "category"
        },
        "yaxis": {
         "autorange": true,
         "range": [
          -7171.443398058253,
          94072.46339805826
         ],
         "type": "linear"
        }
       }
      },
      "image/png": "[encoded data removed]"
     },
     "execution_count": 5,
     "metadata": {},
     "output_type": "execute_result"
    }
   ],
   "source": [
    "openDigger.index.openrank.getRepoOpenrank({\n",
    "    labelUnion: [':foundations'],\n",
    "    startYear: 2019, endYear: 2023, endMonth: 12,\n",
    "    groupBy: 'Foundation',\n",
    "    groupTimeRange: 'year',\n",
    "    order: 'DESC',\n",
    "    limit: -1\n",
    "}).then(data => {\n",
    "    var data = data.filter(i => i.id.startsWith(':foundations'));\n",
    "    openDigger.render.plotly(data.map(row => {\n",
    "        return {\n",
    "            x: years,\n",
    "            y: row.openrank,\n",
    "            name: row.name\n",
    "        };\n",
    "    }), {title: `OpenRank of Foundations 2019-2023`, xaxis: { type: 'category' }});\n",
    "})"
   ]
  },
  {
   "cell_type": "markdown",
   "id": "035a4967-6e5a-4558-b3ea-5d24b06a55eb",
   "metadata": {},
   "source": [
    "### 中国基金会旗下项目OpenRank Top 10"
   ]
  },
  {
   "cell_type": "code",
   "execution_count": 6,
   "id": "47cb02bf-9313-4c97-92b4-a6ff7c79c6e7",
   "metadata": {},
   "outputs": [
    {
     "name": "stdout",
     "output_type": "stream",
     "text": [
      "┌─────────┬─────────────┬──────────┬──────────────────────────────────┬─────────────┐\n",
      "│ (index) │     id      │ platform │               name               │  openrank   │\n",
      "├─────────┼─────────────┼──────────┼──────────────────────────────────┼─────────────┤\n",
      "│    0    │ '99919302'  │ 'GitHub' │          'apache/doris'          │ [ 4307.26 ] │\n",
      "│    1    │ '10919030'  │ 'Gitee'  │        'openharmony/docs'        │ [ 3277.69 ] │\n",
      "│    2    │ '16184957'  │ 'Gitee'  │  'openharmony/arkui_ace_engine'  │ [ 2818.09 ] │\n",
      "│    3    │ '208728772' │ 'GitHub' │        'milvus-io/milvus'        │ [ 2001.11 ] │\n",
      "│    4    │ '20587599'  │ 'GitHub' │          'apache/flink'          │ [ 1816.72 ] │\n",
      "│    5    │ '49876476'  │ 'GitHub' │     'apache/shardingsphere'      │ [ 1662.8 ]  │\n",
      "│    6    │ '212382406' │ 'GitHub' │          'apache/ozone'          │ [ 1281.57 ] │\n",
      "│    7    │ '158975124' │ 'GitHub' │          'apache/iotdb'          │ [ 1265.72 ] │\n",
      "│    8    │ '16184969'  │ 'Gitee'  │ 'openharmony/graphic_graphic_2d' │ [ 1239.6 ]  │\n",
      "│    9    │ '62117812'  │ 'GitHub' │         'apache/pulsar'          │ [ 1227.93 ] │\n",
      "└─────────┴─────────────┴──────────┴──────────────────────────────────┴─────────────┘\n"
     ]
    }
   ],
   "source": [
    "openDigger.index.openrank.getRepoOpenrank({\n",
    "    labelIntersect: [':regions/CN', 'Foundation'],\n",
    "    startYear: year, endYear: year, startMonth: 1, endMonth: 12,\n",
    "    groupTimeRange: 'year', limit: 10, order: 'DESC',\n",
    "}).then(data => console.table(data));"
   ]
  },
  {
   "cell_type": "markdown",
   "id": "604dec1e-038c-4d9e-86e5-e72228ef56b7",
   "metadata": {},
   "source": [
    "### 中国基金会旗下项目OpenRank Top 10 变化趋势"
   ]
  },
  {
   "cell_type": "code",
   "execution_count": 7,
   "id": "f7c44d7d-9f3d-4e96-bdf4-3a78fec96a9e",
   "metadata": {},
   "outputs": [
    {
     "data": {
      "application/vnd.plotly.v1+json": {
       "data": [
        {
         "name": "apache/doris",
         "x": [
          2019,
          2020,
          2021,
          2022,
          2023
         ],
         "y": [
          500.37,
          961.46,
          940.77,
          2296.17,
          4307.26
         ]
        },
        {
         "name": "openharmony/docs",
         "x": [
          2019,
          2020,
          2021,
          2022,
          2023
         ],
         "y": [
          0,
          0,
          0,
          0,
          3277.69
         ]
        },
        {
         "name": "openharmony/arkui_ace_engine",
         "x": [
          2019,
          2020,
          2021,
          2022,
          2023
         ],
         "y": [
          0,
          0,
          0,
          115.9,
          2818.09
         ]
        },
        {
         "name": "milvus-io/milvus",
         "x": [
          2019,
          2020,
          2021,
          2022,
          2023
         ],
         "y": [
          65.9,
          732.49,
          1065.29,
          1560.34,
          2001.11
         ]
        },
        {
         "name": "apache/flink",
         "x": [
          2019,
          2020,
          2021,
          2022,
          2023
         ],
         "y": [
          2072.08,
          2501.17,
          2426.81,
          2298.86,
          1816.72
         ]
        },
        {
         "name": "apache/shardingsphere",
         "x": [
          2019,
          2020,
          2021,
          2022,
          2023
         ],
         "y": [
          815.76,
          1443.01,
          1561.73,
          2037.85,
          1662.8
         ]
        },
        {
         "name": "apache/ozone",
         "x": [
          2019,
          2020,
          2021,
          2022,
          2023
         ],
         "y": [
          157.18,
          896.16,
          961.8,
          976.65,
          1281.57
         ]
        },
        {
         "name": "apache/iotdb",
         "x": [
          2019,
          2020,
          2021,
          2022,
          2023
         ],
         "y": [
          311.38,
          691,
          920.99,
          1362.77,
          1265.72
         ]
        },
        {
         "name": "openharmony/graphic_graphic_2d",
         "x": [
          2019,
          2020,
          2021,
          2022,
          2023
         ],
         "y": [
          0,
          0,
          18.11,
          696.04,
          1239.6
         ]
        },
        {
         "name": "apache/pulsar",
         "x": [
          2019,
          2020,
          2021,
          2022,
          2023
         ],
         "y": [
          1189.56,
          1469.98,
          1915.46,
          2153.15,
          1227.93
         ]
        },
        {
         "name": "openeuler/docs",
         "x": [
          2019,
          2020,
          2021,
          2022,
          2023
         ],
         "y": [
          0,
          101.7,
          237.26,
          358.16,
          1206.9
         ]
        },
        {
         "name": "kata-containers/kata-containers",
         "x": [
          2019,
          2020,
          2021,
          2022,
          2023
         ],
         "y": [
          21.77,
          273.75,
          780.98,
          1043.13,
          1192.65
         ]
        },
        {
         "name": "openharmony/xts_acts",
         "x": [
          2019,
          2020,
          2021,
          2022,
          2023
         ],
         "y": [
          0,
          7.89,
          224.55,
          1008.51,
          1186.06
         ]
        },
        {
         "name": "apache/apisix",
         "x": [
          2019,
          2020,
          2021,
          2022,
          2023
         ],
         "y": [
          106.82,
          649.12,
          997.37,
          1228.65,
          1122.6
         ]
        },
        {
         "name": "NervJS/taro",
         "x": [
          2019,
          2020,
          2021,
          2022,
          2023
         ],
         "y": [
          2140.7,
          1807.54,
          1322.41,
          1134.36,
          1112.71
         ]
        },
        {
         "name": "apache/dolphinscheduler",
         "x": [
          2019,
          2020,
          2021,
          2022,
          2023
         ],
         "y": [
          220.41,
          1034.1,
          1041.25,
          1655.2,
          1040.89
         ]
        },
        {
         "name": "openharmony/arkcompiler_ets_runtime",
         "x": [
          2019,
          2020,
          2021,
          2022,
          2023
         ],
         "y": [
          0,
          0,
          44.83,
          861.22,
          961.99
         ]
        },
        {
         "name": "apache/dubbo",
         "x": [
          2019,
          2020,
          2021,
          2022,
          2023
         ],
         "y": [
          1168.61,
          797.27,
          976.49,
          811.91,
          950.79
         ]
        },
        {
         "name": "openharmony/interface_sdk-js",
         "x": [
          2019,
          2020,
          2021,
          2022,
          2023
         ],
         "y": [
          0,
          0,
          0,
          415.04,
          910.91
         ]
        },
        {
         "name": "goharbor/harbor",
         "x": [
          2019,
          2020,
          2021,
          2022,
          2023
         ],
         "y": [
          1421.83,
          1652.73,
          1131.39,
          970.25,
          885.04
         ]
        }
       ],
       "layout": {
        "autosize": true,
        "title": {
         "text": "OpenRank of China Foundation 2019-2023"
        },
        "xaxis": {
         "autorange": true,
         "range": [
          2018.7312098351495,
          2023.2687901648505
         ],
         "type": "linear"
        },
        "yaxis": {
         "autorange": true,
         "range": [
          -355.4534951456311,
          4662.713495145631
         ],
         "type": "linear"
        }
       }
      },
      "image/png": "[encoded data removed]"
     },
     "execution_count": 7,
     "metadata": {},
     "output_type": "execute_result"
    }
   ],
   "source": [
    "processFoundationFieldData([':regions/CN', 'Foundation'], 'China Foundation');"
   ]
  },
  {
   "cell_type": "markdown",
   "id": "7f58fcfb-bce5-44c0-8e51-784f5f3f4ffb",
   "metadata": {},
   "source": [
    "## 各基金会旗下项目OpenRank TOP 10 榜单"
   ]
  },
  {
   "cell_type": "markdown",
   "id": "7ae3542b-f630-41bf-86b8-9842482a4116",
   "metadata": {},
   "source": [
    "### CNCF"
   ]
  },
  {
   "cell_type": "code",
   "execution_count": 8,
   "id": "07aa63b1-0af3-4410-97f5-33da46c3e27f",
   "metadata": {},
   "outputs": [
    {
     "name": "stdout",
     "output_type": "stream",
     "text": [
      "┌─────────┬─────────────┬──────────┬───────────────────────────┬─────────────┐\n",
      "│ (index) │     id      │ platform │           name            │  openrank   │\n",
      "├─────────┼─────────────┼──────────┼───────────────────────────┼─────────────┤\n",
      "│    0    │ '20580498'  │ 'GitHub' │  'kubernetes/kubernetes'  │ [ 5374.14 ] │\n",
      "│    1    │ '50613991'  │ 'GitHub' │     'goharbor/harbor'     │ [ 885.04 ]  │\n",
      "│    2    │ '311639195' │ 'GitHub' │   'karmada-io/karmada'    │ [ 764.61 ]  │\n",
      "│    3    │ '135516270' │ 'GitHub' │       'k3s-io/k3s'        │  [ 708.3 ]  │\n",
      "│    4    │ '48833910'  │ 'GitHub' │        'tikv/tikv'        │ [ 571.98 ]  │\n",
      "│    5    │ '278954673' │ 'GitHub' │ 'fluid-cloudnative/fluid' │ [ 481.83 ]  │\n",
      "│    6    │ '175592968' │ 'GitHub' │   'volcano-sh/volcano'    │ [ 442.74 ]  │\n",
      "│    7    │ '150713223' │ 'GitHub' │    'kubeedge/kubeedge'    │ [ 427.09 ]  │\n",
      "│    8    │ '224908244' │ 'GitHub' │    'WasmEdge/WasmEdge'    │ [ 419.79 ]  │\n",
      "│    9    │ '265800635' │ 'GitHub' │   'openyurtio/openyurt'   │ [ 395.31 ]  │\n",
      "└─────────┴─────────────┴──────────┴───────────────────────────┴─────────────┘\n"
     ]
    }
   ],
   "source": [
    "openDigger.index.openrank.getRepoOpenrank({\n",
    "    labelUnion: [':foundations/linux_foundation/cncf'],\n",
    "    startYear: year, endYear: year, startMonth: 1, endMonth: 12,\n",
    "    groupTimeRange: 'year', limit: 10, order: 'DESC',\n",
    "}).then(data => console.table(data));"
   ]
  },
  {
   "cell_type": "markdown",
   "id": "6d06808a-4eac-4604-864e-d7b69ea6e905",
   "metadata": {},
   "source": [
    "### lfai"
   ]
  },
  {
   "cell_type": "code",
   "execution_count": 9,
   "id": "473bf4b1-834a-4e1e-82fb-c7ea2b725bde",
   "metadata": {},
   "outputs": [
    {
     "name": "stdout",
     "output_type": "stream",
     "text": [
      "┌─────────┬─────────────┬──────────┬─────────────────────┬─────────────┐\n",
      "│ (index) │     id      │ platform │        name         │  openrank   │\n",
      "├─────────┼─────────────┼──────────┼─────────────────────┼─────────────┤\n",
      "│    0    │ '208728772' │ 'GitHub' │ 'milvus-io/milvus'  │ [ 2001.11 ] │\n",
      "│    1    │ '241400276' │ 'GitHub' │  'onnx/onnx-mlir'   │ [ 545.57 ]  │\n",
      "│    2    │ '182067506' │ 'GitHub' │  'kedro-org/kedro'  │ [ 497.22 ]  │\n",
      "│    3    │ '216628419' │ 'GitHub' │  'flyteorg/flyte'   │ [ 465.66 ]  │\n",
      "│    4    │ '163346054' │ 'GitHub' │ 'ludwig-ai/ludwig'  │ [ 450.25 ]  │\n",
      "│    5    │ '102692863' │ 'GitHub' │     'onnx/onnx'     │ [ 430.56 ]  │\n",
      "│    6    │ '178075572' │ 'GitHub' │   'kserve/kserve'   │ [ 392.14 ]  │\n",
      "│    7    │ '167349656' │ 'GitHub' │ 'FederatedAI/FATE'  │ [ 325.01 ]  │\n",
      "│    8    │ '438303578' │ 'GitHub' │ 'docarray/docarray' │ [ 305.25 ]  │\n",
      "│    9    │ '161133770' │ 'GitHub' │  'feast-dev/feast'  │ [ 290.84 ]  │\n",
      "└─────────┴─────────────┴──────────┴─────────────────────┴─────────────┘\n"
     ]
    }
   ],
   "source": [
    "openDigger.index.openrank.getRepoOpenrank({\n",
    "    labelUnion: [':foundations/linux_foundation/lfai'],\n",
    "    startYear: year, endYear: year, startMonth: 1, endMonth: 12,\n",
    "    groupTimeRange: 'year', limit: 10, order: 'DESC',\n",
    "}).then(data => console.table(data));"
   ]
  },
  {
   "cell_type": "markdown",
   "id": "e6d2bb23-0157-4bcd-8fe4-8d02cb9c9740",
   "metadata": {},
   "source": [
    "### OpenAtom"
   ]
  },
  {
   "cell_type": "code",
   "execution_count": 10,
   "id": "f679febc-07be-4818-9182-e100e6ace057",
   "metadata": {},
   "outputs": [
    {
     "name": "stdout",
     "output_type": "stream",
     "text": [
      "┌─────────┬──────────────────────────────────┬──────────┬───────────────┬──────────────┐\n",
      "│ (index) │                id                │ platform │     name      │   openrank   │\n",
      "├─────────┼──────────────────────────────────┼──────────┼───────────────┼──────────────┤\n",
      "│    0    │ ':companies/huawei/openharmony'  │  'All'   │ 'openHarmony' │ [ 30336.33 ] │\n",
      "│    1    │  ':companies/huawei/openeuler'   │  'All'   │  'openEuler'  │ [ 16728.81 ] │\n",
      "│    2    │   ':companies/alibaba/anolis'    │  'All'   │   'Anolis'    │ [ 3868.82 ]  │\n",
      "│    3    │  ':foundations/openatom/nervjs'  │  'All'   │   'NervJS'    │ [ 1343.36 ]  │\n",
      "│    4    │   ':foundations/openatom/ubml'   │  'All'   │    'UBML'     │  [ 318.23 ]  │\n",
      "│    5    │      ':companies/360/pika'       │  'All'   │    'Pika'     │  [ 270.55 ]  │\n",
      "│    6    │  ':companies/antgroup/tongsuo'   │  'All'   │   'Tongsuo'   │  [ 215.75 ]  │\n",
      "│    7    │ ':foundations/openatom/openv2x'  │  'All'   │   'OpenV2X'   │  [ 167.04 ]  │\n",
      "│    8    │ ':foundations/openatom/tkestack' │  'All'   │  'TKEStack'   │  [ 132.88 ]  │\n",
      "│    9    │  ':companies/baidu/xuperchain'   │  'All'   │ 'XuperChain'  │  [ 118.02 ]  │\n",
      "└─────────┴──────────────────────────────────┴──────────┴───────────────┴──────────────┘\n"
     ]
    }
   ],
   "source": [
    "openDigger.index.openrank.getRepoOpenrank({\n",
    "    labelUnion: [':foundations/openatom'],\n",
    "    startYear: year, endYear: year, startMonth: 1, endMonth: 12,groupBy: 'Project',\n",
    "    groupTimeRange: 'year', limit: 10, order: 'DESC',\n",
    "}).then(data => console.table(data));"
   ]
  },
  {
   "cell_type": "markdown",
   "id": "d906aa82-ab2a-4bbd-a4a7-2501cd596849",
   "metadata": {},
   "source": [
    "### Apache"
   ]
  },
  {
   "cell_type": "code",
   "execution_count": 11,
   "id": "a9f3d383-fad0-45e4-a138-a2741b31d3c8",
   "metadata": {},
   "outputs": [
    {
     "name": "stdout",
     "output_type": "stream",
     "text": [
      "┌─────────┬─────────────┬──────────┬───────────────────┬─────────────┐\n",
      "│ (index) │     id      │ platform │       name        │  openrank   │\n",
      "├─────────┼─────────────┼──────────┼───────────────────┼─────────────┤\n",
      "│    0    │ '99919302'  │ 'GitHub' │  'apache/doris'   │ [ 4307.26 ] │\n",
      "│    1    │ '33884891'  │ 'GitHub' │ 'apache/airflow'  │ [ 3642.9 ]  │\n",
      "│    2    │ '17165658'  │ 'GitHub' │  'apache/spark'   │ [ 2654.02 ] │\n",
      "│    3    │ '51905353'  │ 'GitHub' │  'apache/arrow'   │ [ 2219.95 ] │\n",
      "│    4    │ '50904245'  │ 'GitHub' │   'apache/beam'   │ [ 2188.52 ] │\n",
      "│    5    │ '76474200'  │ 'GitHub' │   'apache/hudi'   │ [ 2124.67 ] │\n",
      "│    6    │ '39464018'  │ 'GitHub' │ 'apache/superset' │ [ 2092.32 ] │\n",
      "│    7    │  '2211243'  │ 'GitHub' │  'apache/kafka'   │ [ 1849.97 ] │\n",
      "│    8    │ '20587599'  │ 'GitHub' │  'apache/flink'   │ [ 1816.72 ] │\n",
      "│    9    │ '158256479' │ 'GitHub' │ 'apache/iceberg'  │ [ 1747.12 ] │\n",
      "└─────────┴─────────────┴──────────┴───────────────────┴─────────────┘\n"
     ]
    }
   ],
   "source": [
    "openDigger.index.openrank.getRepoOpenrank({\n",
    "    labelUnion: [':foundations/apache'],\n",
    "    startYear: year, endYear: year, startMonth: 1, endMonth: 12,\n",
    "    groupTimeRange: 'year', limit: 10, order: 'DESC',\n",
    "}).then(data => console.table(data));"
   ]
  },
  {
   "cell_type": "markdown",
   "id": "1128305f-b42d-468c-9dd9-7543d5480001",
   "metadata": {},
   "source": [
    "### Eclipse"
   ]
  },
  {
   "cell_type": "code",
   "execution_count": 12,
   "id": "27ba3be8-a461-44df-8087-5bbfeb185665",
   "metadata": {},
   "outputs": [
    {
     "name": "stdout",
     "output_type": "stream",
     "text": [
      "┌─────────┬─────────────┬──────────┬──────────────────────────┬────────────┐\n",
      "│ (index) │     id      │ platform │           name           │  openrank  │\n",
      "├─────────┼─────────────┼──────────┼──────────────────────────┼────────────┤\n",
      "│    0    │ '108592307' │ 'GitHub' │      'eclipse/sumo'      │ [ 482.79 ] │\n",
      "│    1    │  '2045207'  │ 'GitHub' │ 'eclipse/jetty.project'  │ [ 394.61 ] │\n",
      "│    2    │ '53077478'  │ 'GitHub' │      'eclipse/omr'       │ [ 276.75 ] │\n",
      "│    3    │ '15237269'  │ 'GitHub' │      'eclipse/kura'      │ [ 276.2 ]  │\n",
      "│    4    │ '32935745'  │ 'GitHub' │      'eclipse/che'       │ [ 256.25 ] │\n",
      "│    5    │  '1553758'  │ 'GitHub' │     'eclipse/xtext'      │ [ 179.33 ] │\n",
      "│    6    │ '45860898'  │ 'GitHub' │    'eclipse/hawkbit'     │ [ 178.6 ]  │\n",
      "│    7    │ '259645903' │ 'GitHub' │  'eclipse/kiso-testing'  │ [ 164.86 ] │\n",
      "│    8    │ '53614190'  │ 'GitHub' │   'eclipse/mosquitto'    │ [ 164.32 ] │\n",
      "│    9    │ '62056780'  │ 'GitHub' │ 'eclipse/eclipse.jdt.ls' │ [ 154.84 ] │\n",
      "└─────────┴─────────────┴──────────┴──────────────────────────┴────────────┘\n"
     ]
    }
   ],
   "source": [
    "openDigger.index.openrank.getRepoOpenrank({\n",
    "    labelUnion: [':foundations/eclipse'],\n",
    "    startYear: year, endYear: year, startMonth: 1, endMonth: 12,\n",
    "    groupTimeRange: 'year', limit: 10, order: 'DESC',\n",
    "}).then(data => console.table(data));"
   ]
  },
  {
   "cell_type": "markdown",
   "id": "b8942770-8b1b-4bdf-b58b-4ddc0178054a",
   "metadata": {},
   "source": [
    "### OpenInfra"
   ]
  },
  {
   "cell_type": "code",
   "execution_count": 13,
   "id": "acb4f00a-91ad-4156-90af-57307979786e",
   "metadata": {},
   "outputs": [
    {
     "name": "stdout",
     "output_type": "stream",
     "text": [
      "┌─────────┬─────────────┬──────────┬─────────────────────────────────────────┬─────────────┐\n",
      "│ (index) │     id      │ platform │                  name                   │  openrank   │\n",
      "├─────────┼─────────────┼──────────┼─────────────────────────────────────────┼─────────────┤\n",
      "│    0    │ '113404957' │ 'GitHub' │    'kata-containers/kata-containers'    │ [ 1192.65 ] │\n",
      "│    1    │ '110539912' │ 'GitHub' │         'kata-containers/tests'         │ [ 160.55 ]  │\n",
      "│    2    │ '113113705' │ 'GitHub' │       'kata-containers/community'       │  [ 22.22 ]  │\n",
      "│    3    │ '293399774' │ 'GitHub' │      'kata-containers/cgroups-rs'       │  [ 19.34 ]  │\n",
      "│    4    │ '119962177' │ 'GitHub' │          'kata-containers/ci'           │  [ 11.56 ]  │\n",
      "│    5    │  '6929734'  │ 'GitHub' │           'openstack/cinder'            │  [ 9.06 ]   │\n",
      "│    6    │ '459823742' │ 'GitHub' │       'openstack/skyline-console'       │  [ 8.82 ]   │\n",
      "│    7    │ '112949842' │ 'GitHub' │ 'kata-containers/www.katacontainers.io' │  [ 5.95 ]   │\n",
      "│    8    │  '5320283'  │ 'GitHub' │        'openstack/requirements'         │  [ 4.65 ]   │\n",
      "│    9    │ '24245238'  │ 'GitHub' │           'openstack/manila'            │  [ 3.59 ]   │\n",
      "└─────────┴─────────────┴──────────┴─────────────────────────────────────────┴─────────────┘\n"
     ]
    }
   ],
   "source": [
    "openDigger.index.openrank.getRepoOpenrank({\n",
    "    labelUnion: [':foundations/openinfra'],\n",
    "    startYear: year, endYear: year, startMonth: 1, endMonth: 12,\n",
    "    groupTimeRange: 'year', limit: 10, order: 'DESC',\n",
    "}).then(data => console.table(data));"
   ]
  },
  {
   "cell_type": "markdown",
   "id": "4c63c2d5-a950-4854-baf9-892c5ff07e98",
   "metadata": {},
   "source": [
    "### OpenJs"
   ]
  },
  {
   "cell_type": "code",
   "execution_count": 14,
   "id": "10b4f56f-8471-4053-a69a-687407c356be",
   "metadata": {},
   "outputs": [
    {
     "name": "stdout",
     "output_type": "stream",
     "text": [
      "┌─────────┬─────────────┬──────────┬───────────────────────────────────────┬──────────────┐\n",
      "│ (index) │     id      │ platform │                 name                  │   openrank   │\n",
      "├─────────┼─────────────┼──────────┼───────────────────────────────────────┼──────────────┤\n",
      "│    0    │  '4542716'  │ 'GitHub' │            'NixOS/nixpkgs'            │ [ 22368.27 ] │\n",
      "│    1    │ '12888993'  │ 'GitHub' │         'home-assistant/core'         │ [ 15681.98 ] │\n",
      "│    2    │ '41881900'  │ 'GitHub' │          'microsoft/vscode'           │ [ 13271.41 ] │\n",
      "│    3    │ '72685026'  │ 'GitHub' │      'MicrosoftDocs/azure-docs'       │ [ 10400.56 ] │\n",
      "│    4    │ '65600975'  │ 'GitHub' │           'pytorch/pytorch'           │ [ 10182.45 ] │\n",
      "│    5    │ '15634981'  │ 'GitHub' │          'godotengine/godot'          │ [ 9906.06 ]  │\n",
      "│    6    │ '31792824'  │ 'GitHub' │           'flutter/flutter'           │ [ 9367.81 ]  │\n",
      "│    7    │ '19745004'  │ 'GitHub' │              'odoo/odoo'              │ [ 9325.34 ]  │\n",
      "│    8    │ '632909818' │ 'GitHub' │ 'elidianaandrade/dio-lab-open-source' │  [ 8447.2 ]  │\n",
      "│    9    │ '197275551' │ 'GitHub' │        'microsoft/winget-pkgs'        │ [ 8269.27 ]  │\n",
      "└─────────┴─────────────┴──────────┴───────────────────────────────────────┴──────────────┘\n"
     ]
    }
   ],
   "source": [
    "openDigger.index.openrank.getRepoOpenrank({\n",
    "    labelUnion: [':foundations/openjs'],\n",
    "    startYear: year, endYear: year, startMonth: 1, endMonth: 12,\n",
    "    groupTimeRange: 'year', limit: 10, order: 'DESC',\n",
    "}).then(data => console.table(data));"
   ]
  },
  {
   "cell_type": "markdown",
   "id": "3eeee08a-be7a-4f70-ab6b-15e9c93366c3",
   "metadata": {},
   "source": [
    "## 近5年各基金会旗下项目OpenRank变化趋势"
   ]
  },
  {
   "cell_type": "code",
   "execution_count": 15,
   "id": "87cfdc5e",
   "metadata": {},
   "outputs": [],
   "source": [
    "var processTechFieldData = (label, title) => {\n",
    "    var years = [2019, 2020, 2021, 2022, 2023];\n",
    "    openDigger.index.openrank.getRepoOpenrank({\n",
    "        ...baseOptions, labelIntersect: [label], limit: 20\n",
    "    }).then(data => {\n",
    "        openDigger.render.plotly(data.map(row => {\n",
    "            return {\n",
    "                x: years,\n",
    "                y: row.openrank,\n",
    "                name: row.name\n",
    "            };\n",
    "        }), {title: `OpenRank of ${title} 2019-2023`});\n",
    "    });\n",
    "};"
   ]
  },
  {
   "cell_type": "markdown",
   "id": "d570a66a",
   "metadata": {},
   "source": [
    "### CNCF"
   ]
  },
  {
   "cell_type": "code",
   "execution_count": 16,
   "id": "cf4625e7",
   "metadata": {},
   "outputs": [
    {
     "data": {
      "application/vnd.plotly.v1+json": {
       "data": [
        {
         "name": "kubernetes/kubernetes",
         "x": [
          2019,
          2020,
          2021,
          2022,
          2023
         ],
         "y": [
          9364.88,
          7951.31,
          7187.94,
          5306.63,
          5374.14
         ]
        },
        {
         "name": "goharbor/harbor",
         "x": [
          2019,
          2020,
          2021,
          2022,
          2023
         ],
         "y": [
          1421.83,
          1652.73,
          1131.39,
          970.25,
          885.04
         ]
        },
        {
         "name": "karmada-io/karmada",
         "x": [
          2019,
          2020,
          2021,
          2022,
          2023
         ],
         "y": [
          0,
          0,
          331.87,
          838.23,
          764.61
         ]
        },
        {
         "name": "k3s-io/k3s",
         "x": [
          2019,
          2020,
          2021,
          2022,
          2023
         ],
         "y": [
          567.05,
          783.76,
          739.12,
          726.55,
          708.3
         ]
        },
        {
         "name": "tikv/tikv",
         "x": [
          2019,
          2020,
          2021,
          2022,
          2023
         ],
         "y": [
          865.96,
          828.78,
          735.06,
          778.06,
          571.98
         ]
        },
        {
         "name": "fluid-cloudnative/fluid",
         "x": [
          2019,
          2020,
          2021,
          2022,
          2023
         ],
         "y": [
          0,
          89.72,
          296.96,
          381.54,
          481.83
         ]
        },
        {
         "name": "volcano-sh/volcano",
         "x": [
          2019,
          2020,
          2021,
          2022,
          2023
         ],
         "y": [
          197.53,
          295.67,
          427.96,
          444.43,
          442.74
         ]
        },
        {
         "name": "kubeedge/kubeedge",
         "x": [
          2019,
          2020,
          2021,
          2022,
          2023
         ],
         "y": [
          562.8,
          611.48,
          492.18,
          510.63,
          427.09
         ]
        },
        {
         "name": "WasmEdge/WasmEdge",
         "x": [
          2019,
          2020,
          2021,
          2022,
          2023
         ],
         "y": [
          0.86,
          34.32,
          198.43,
          512.32,
          419.79
         ]
        },
        {
         "name": "openyurtio/openyurt",
         "x": [
          2019,
          2020,
          2021,
          2022,
          2023
         ],
         "y": [
          0,
          61.38,
          281.51,
          282.85,
          395.31
         ]
        },
        {
         "name": "cubefs/cubefs",
         "x": [
          2019,
          2020,
          2021,
          2022,
          2023
         ],
         "y": [
          96.31,
          292.5,
          157.17,
          140.5,
          392.39
         ]
        },
        {
         "name": "kubeovn/kube-ovn",
         "x": [
          2019,
          2020,
          2021,
          2022,
          2023
         ],
         "y": [
          60.4,
          125.14,
          206.43,
          334,
          372.94
         ]
        },
        {
         "name": "kubevela/kubevela",
         "x": [
          2019,
          2020,
          2021,
          2022,
          2023
         ],
         "y": [
          0,
          140.12,
          514.75,
          555.13,
          343.82
         ]
        },
        {
         "name": "dragonflyoss/Dragonfly2",
         "x": [
          2019,
          2020,
          2021,
          2022,
          2023
         ],
         "y": [
          0,
          0,
          129.14,
          207.1,
          207.41
         ]
        },
        {
         "name": "openkruise/kruise",
         "x": [
          2019,
          2020,
          2021,
          2022,
          2023
         ],
         "y": [
          84.37,
          153.72,
          222.54,
          173.24,
          197.4
         ]
        },
        {
         "name": "v6d-io/v6d",
         "x": [
          2019,
          2020,
          2021,
          2022,
          2023
         ],
         "y": [
          0,
          17.64,
          121.65,
          127.94,
          162.09
         ]
        },
        {
         "name": "chaos-mesh/chaos-mesh",
         "x": [
          2019,
          2020,
          2021,
          2022,
          2023
         ],
         "y": [
          1.6,
          379.52,
          440.21,
          419.83,
          148.05
         ]
        },
        {
         "name": "chaosblade-io/chaosblade",
         "x": [
          2019,
          2020,
          2021,
          2022,
          2023
         ],
         "y": [
          90.08,
          69.7,
          68.23,
          72.9,
          70.38
         ]
        },
        {
         "name": "superedge/superedge",
         "x": [
          2019,
          2020,
          2021,
          2022,
          2023
         ],
         "y": [
          0,
          4.29,
          119.62,
          84.59,
          46.11
         ]
        },
        {
         "name": "openelb/openelb",
         "x": [
          2019,
          2020,
          2021,
          2022,
          2023
         ],
         "y": [
          18.44,
          23.9,
          29.27,
          51.67,
          32.79
         ]
        }
       ],
       "layout": {
        "autosize": true,
        "title": {
         "text": "OpenRank of CNCF 2019-2023"
        },
        "xaxis": {
         "autorange": true,
         "range": [
          2018.7391707204076,
          2023.2608292795924
         ],
         "type": "linear"
        },
        "yaxis": {
         "autorange": true,
         "range": [
          -772.8299029126213,
          10137.70990291262
         ],
         "type": "linear"
        }
       }
      },
      "image/png": "[encoded data removed]"
     },
     "execution_count": 16,
     "metadata": {},
     "output_type": "execute_result"
    }
   ],
   "source": [
    "processTechFieldData(':foundations/linux_foundation/cncf', 'CNCF');"
   ]
  },
  {
   "cell_type": "markdown",
   "id": "25b4311c",
   "metadata": {},
   "source": [
    "### lfai"
   ]
  },
  {
   "cell_type": "code",
   "execution_count": 17,
   "id": "596bd89f",
   "metadata": {},
   "outputs": [
    {
     "data": {
      "application/vnd.plotly.v1+json": {
       "data": [
        {
         "name": "milvus-io/milvus",
         "x": [
          2019,
          2020,
          2021,
          2022,
          2023
         ],
         "y": [
          65.9,
          732.49,
          1065.29,
          1560.34,
          2001.11
         ]
        },
        {
         "name": "onnx/onnx-mlir",
         "x": [
          2019,
          2020,
          2021,
          2022,
          2023
         ],
         "y": [
          0,
          227.47,
          375.48,
          553.31,
          545.57
         ]
        },
        {
         "name": "kedro-org/kedro",
         "x": [
          2019,
          2020,
          2021,
          2022,
          2023
         ],
         "y": [
          0,
          0,
          0,
          411.63,
          497.22
         ]
        },
        {
         "name": "flyteorg/flyte",
         "x": [
          2019,
          2020,
          2021,
          2022,
          2023
         ],
         "y": [
          0,
          0,
          239.87,
          325.12,
          465.66
         ]
        },
        {
         "name": "ludwig-ai/ludwig",
         "x": [
          2019,
          2020,
          2021,
          2022,
          2023
         ],
         "y": [
          0,
          27.29,
          244.7,
          433.15,
          450.25
         ]
        },
        {
         "name": "onnx/onnx",
         "x": [
          2019,
          2020,
          2021,
          2022,
          2023
         ],
         "y": [
          451.7,
          436.88,
          399.22,
          400.31,
          430.56
         ]
        },
        {
         "name": "kserve/kserve",
         "x": [
          2019,
          2020,
          2021,
          2022,
          2023
         ],
         "y": [
          0,
          0,
          102.13,
          395.91,
          392.14
         ]
        },
        {
         "name": "FederatedAI/FATE",
         "x": [
          2019,
          2020,
          2021,
          2022,
          2023
         ],
         "y": [
          169.62,
          496.78,
          392.19,
          416.07,
          325.01
         ]
        },
        {
         "name": "docarray/docarray",
         "x": [
          2019,
          2020,
          2021,
          2022,
          2023
         ],
         "y": [
          0,
          0,
          0,
          56.22,
          305.25
         ]
        },
        {
         "name": "feast-dev/feast",
         "x": [
          2019,
          2020,
          2021,
          2022,
          2023
         ],
         "y": [
          0,
          290.68,
          433.59,
          581.29,
          290.84
         ]
        },
        {
         "name": "flyteorg/flytekit",
         "x": [
          2019,
          2020,
          2021,
          2022,
          2023
         ],
         "y": [
          0,
          0,
          143.76,
          184.64,
          278.02
         ]
        },
        {
         "name": "OpenLineage/OpenLineage",
         "x": [
          2019,
          2020,
          2021,
          2022,
          2023
         ],
         "y": [
          0,
          2.89,
          101.5,
          289.05,
          242.56
         ]
        },
        {
         "name": "nnstreamer/nntrainer",
         "x": [
          2019,
          2020,
          2021,
          2022,
          2023
         ],
         "y": [
          0,
          121.65,
          241.09,
          167.15,
          223.71
         ]
        },
        {
         "name": "FlagAI-Open/FlagAI",
         "x": [
          2019,
          2020,
          2021,
          2022,
          2023
         ],
         "y": [
          0,
          0,
          0,
          40.95,
          189.99
         ]
        },
        {
         "name": "nnstreamer/nnstreamer",
         "x": [
          2019,
          2020,
          2021,
          2022,
          2023
         ],
         "y": [
          0,
          243.12,
          258.73,
          194.88,
          189.73
         ]
        },
        {
         "name": "Trusted-AI/adversarial-robustness-toolbox",
         "x": [
          2019,
          2020,
          2021,
          2022,
          2023
         ],
         "y": [
          0,
          149.74,
          293.19,
          189.69,
          182.87
         ]
        },
        {
         "name": "kedro-org/kedro-viz",
         "x": [
          2019,
          2020,
          2021,
          2022,
          2023
         ],
         "y": [
          0,
          0,
          0,
          195.01,
          178.72
         ]
        },
        {
         "name": "JanusGraph/janusgraph",
         "x": [
          2019,
          2020,
          2021,
          2022,
          2023
         ],
         "y": [
          331.29,
          255,
          230.88,
          146.29,
          171.45
         ]
        },
        {
         "name": "elyra-ai/canvas",
         "x": [
          2019,
          2020,
          2021,
          2022,
          2023
         ],
         "y": [
          0,
          84.26,
          147.44,
          150.95,
          158.58
         ]
        },
        {
         "name": "milvus-io/pymilvus",
         "x": [
          2019,
          2020,
          2021,
          2022,
          2023
         ],
         "y": [
          13.1,
          52.46,
          83.51,
          100.62,
          156.45
         ]
        }
       ],
       "layout": {
        "autosize": true,
        "title": {
         "text": "OpenRank of lfai 2019-2023"
        },
        "xaxis": {
         "autorange": true,
         "range": [
          2018.7292576419213,
          2023.2707423580787
         ],
         "type": "linear"
        },
        "yaxis": {
         "autorange": true,
         "range": [
          -165.14014563106795,
          2166.250145631068
         ],
         "type": "linear"
        }
       }
      },
      "image/png": "[encoded data removed]"
     },
     "execution_count": 17,
     "metadata": {},
     "output_type": "execute_result"
    }
   ],
   "source": [
    "processTechFieldData(':foundations/linux_foundation/lfai', 'lfai');"
   ]
  },
  {
   "cell_type": "markdown",
   "id": "1b74a531",
   "metadata": {},
   "source": [
    "### OpenAtom"
   ]
  },
  {
   "cell_type": "code",
   "execution_count": 18,
   "id": "b00b899b",
   "metadata": {},
   "outputs": [
    {
     "data": {
      "application/vnd.plotly.v1+json": {
       "data": [
        {
         "name": "openHarmony",
         "x": [
          2019,
          2020,
          2021,
          2022,
          2023
         ],
         "y": [
          0,
          145.13,
          3586.7,
          18913.33,
          30336.33
         ]
        },
        {
         "name": "openEuler",
         "x": [
          2019,
          2020,
          2021,
          2022,
          2023
         ],
         "y": [
          17.36,
          3550.76,
          7558.51,
          12382.89,
          16728.81
         ]
        },
        {
         "name": "Anolis",
         "x": [
          2019,
          2020,
          2021,
          2022,
          2023
         ],
         "y": [
          0,
          0,
          41.17,
          2161.16,
          3868.82
         ]
        },
        {
         "name": "NervJS",
         "x": [
          2019,
          2020,
          2021,
          2022,
          2023
         ],
         "y": [
          2644.91,
          2148.63,
          1597.76,
          1329.09,
          1343.36
         ]
        },
        {
         "name": "UBML",
         "x": [
          2019,
          2020,
          2021,
          2022,
          2023
         ],
         "y": [
          0,
          0,
          27.05,
          89.51,
          318.23
         ]
        },
        {
         "name": "Pika",
         "x": [
          2019,
          2020,
          2021,
          2022,
          2023
         ],
         "y": [
          149.94,
          113.86,
          71.19,
          51.3,
          270.55
         ]
        },
        {
         "name": "Tongsuo",
         "x": [
          2019,
          2020,
          2021,
          2022,
          2023
         ],
         "y": [
          0,
          0,
          0,
          95.01,
          215.75
         ]
        },
        {
         "name": "OpenV2X",
         "x": [
          2019,
          2020,
          2021,
          2022,
          2023
         ],
         "y": [
          0,
          0,
          0,
          93.88,
          167.04
         ]
        },
        {
         "name": "TKEStack",
         "x": [
          2019,
          2020,
          2021,
          2022,
          2023
         ],
         "y": [
          32.13,
          522.77,
          532.89,
          352.71,
          132.88
         ]
        },
        {
         "name": "XuperChain",
         "x": [
          2019,
          2020,
          2021,
          2022,
          2023
         ],
         "y": [
          165.42,
          276.41,
          295.57,
          267.68,
          118.02
         ]
        },
        {
         "name": "OpenCloudOS",
         "x": [
          2019,
          2020,
          2021,
          2022,
          2023
         ],
         "y": [
          0,
          0,
          2.12,
          82.16,
          114.99
         ]
        },
        {
         "name": "Hap.js",
         "x": [
          2019,
          2020,
          2021,
          2022,
          2023
         ],
         "y": [
          0,
          0,
          0,
          82.85,
          114.17
         ]
        },
        {
         "name": "OpenKona",
         "x": [
          2019,
          2020,
          2021,
          2022,
          2023
         ],
         "y": [
          2.53,
          9.74,
          49.4,
          51.82,
          102.78
         ]
        },
        {
         "name": "Others",
         "x": [
          2019,
          2020,
          2021,
          2022,
          2023
         ],
         "y": [
          0,
          0,
          0,
          5.75,
          50.01
         ]
        },
        {
         "name": "GreatSQL",
         "x": [
          2019,
          2020,
          2021,
          2022,
          2023
         ],
         "y": [
          0,
          0,
          3.19,
          11.58,
          42.09
         ]
        },
        {
         "name": "Linglong",
         "x": [
          2019,
          2020,
          2021,
          2022,
          2023
         ],
         "y": [
          0,
          0,
          0,
          2.54,
          33.2
         ]
        },
        {
         "name": "Vearch",
         "x": [
          2019,
          2020,
          2021,
          2022,
          2023
         ],
         "y": [
          28.1,
          157.43,
          227.68,
          114.7,
          29.87
         ]
        },
        {
         "name": "Open Block",
         "x": [
          2019,
          2020,
          2021,
          2022,
          2023
         ],
         "y": [
          0,
          0,
          9.63,
          63.96,
          29.24
         ]
        },
        {
         "name": "AliOS Things",
         "x": [
          2019,
          2020,
          2021,
          2022,
          2023
         ],
         "y": [
          194.75,
          83.96,
          46.7,
          210.21,
          25.41
         ]
        },
        {
         "name": "TobudOS",
         "x": [
          2019,
          2020,
          2021,
          2022,
          2023
         ],
         "y": [
          0,
          0,
          10.12,
          24.63,
          25.24
         ]
        },
        {
         "name": "MetaToC",
         "x": [
          2019,
          2020,
          2021,
          2022,
          2023
         ],
         "y": [
          0,
          0,
          0,
          19.48,
          25.12
         ]
        },
        {
         "name": "Cloud HPC",
         "x": [
          2019,
          2020,
          2021,
          2022,
          2023
         ],
         "y": [
          0,
          0,
          0,
          0,
          18.74
         ]
        },
        {
         "name": "Carsmos",
         "x": [
          2019,
          2020,
          2021,
          2022,
          2023
         ],
         "y": [
          0,
          0,
          0,
          0,
          15.84
         ]
        },
        {
         "name": "MiniBlink",
         "x": [
          2019,
          2020,
          2021,
          2022,
          2023
         ],
         "y": [
          89.1,
          62.43,
          35.31,
          20.14,
          14.55
         ]
        },
        {
         "name": "ZTDBP",
         "x": [
          2019,
          2020,
          2021,
          2022,
          2023
         ],
         "y": [
          0,
          0,
          0,
          0,
          14.31
         ]
        },
        {
         "name": "ZettaStor",
         "x": [
          2019,
          2020,
          2021,
          2022,
          2023
         ],
         "y": [
          0,
          0,
          0,
          0,
          7.56
         ]
        },
        {
         "name": "TBase",
         "x": [
          2019,
          2020,
          2021,
          2022,
          2023
         ],
         "y": [
          11.04,
          37.34,
          26.08,
          23.31,
          7.03
         ]
        },
        {
         "name": "OpenNJet",
         "x": [
          2019,
          2020,
          2021,
          2022,
          2023
         ],
         "y": [
          0,
          0,
          0,
          0,
          3.16
         ]
        },
        {
         "name": "HyperBench",
         "x": [
          2019,
          2020,
          2021,
          2022,
          2023
         ],
         "y": [
          0,
          0,
          3.76,
          4.7,
          0.76
         ]
        },
        {
         "name": "EasyBaaS",
         "x": [
          2019,
          2020,
          2021,
          2022,
          2023
         ],
         "y": [
          0,
          0,
          0,
          0,
          0.41
         ]
        },
        {
         "name": "RT-Thread Nano",
         "x": [
          2019,
          2020,
          2021,
          2022,
          2023
         ],
         "y": [
          0.69,
          2.34,
          8.93,
          0.56,
          0
         ]
        }
       ],
       "layout": {
        "autosize": true,
        "title": {
         "text": "OpenRank of OpenAtom Project 2019-2023"
        },
        "xaxis": {
         "autorange": true,
         "range": [
          -0.25666460012399256,
          4.256664600123993
         ],
         "type": "category"
        },
        "yaxis": {
         "autorange": true,
         "range": [
          -2503.4835436893204,
          32839.81354368932
         ],
         "type": "linear"
        }
       }
      },
      "image/png": "[encoded data removed]"
     },
     "execution_count": 18,
     "metadata": {},
     "output_type": "execute_result"
    }
   ],
   "source": [
    "openDigger.index.openrank.getRepoOpenrank({\n",
    "    labelUnion: [':foundations/openatom'],\n",
    "    startYear: 2019, endYear: 2023, endMonth: 12,\n",
    "    groupBy: 'Project',\n",
    "    groupTimeRange: 'year',\n",
    "    order: 'DESC',\n",
    "    limit: -1\n",
    "}).then(data => {\n",
    "    // var data = data.filter(i => i.id.startsWith(':technology'));\n",
    "    openDigger.render.plotly(data.map(row => {\n",
    "        return {\n",
    "            x: years,\n",
    "            y: row.openrank,\n",
    "            name: row.name\n",
    "        };\n",
    "    }), {title: `OpenRank of OpenAtom Project 2019-2023`, xaxis: { type: 'category' }});\n",
    "})"
   ]
  },
  {
   "cell_type": "markdown",
   "id": "0f5f565f",
   "metadata": {},
   "source": [
    "### Apache"
   ]
  },
  {
   "cell_type": "code",
   "execution_count": 19,
   "id": "23fe84fc",
   "metadata": {},
   "outputs": [
    {
     "data": {
      "application/vnd.plotly.v1+json": {
       "data": [
        {
         "name": "apache/doris",
         "x": [
          2019,
          2020,
          2021,
          2022,
          2023
         ],
         "y": [
          500.37,
          961.46,
          940.77,
          2296.17,
          4307.26
         ]
        },
        {
         "name": "apache/airflow",
         "x": [
          2019,
          2020,
          2021,
          2022,
          2023
         ],
         "y": [
          1587.27,
          2775.71,
          3699.36,
          3550.43,
          3642.9
         ]
        },
        {
         "name": "apache/spark",
         "x": [
          2019,
          2020,
          2021,
          2022,
          2023
         ],
         "y": [
          3050.64,
          3010.47,
          2618.08,
          2322,
          2654.02
         ]
        },
        {
         "name": "apache/arrow",
         "x": [
          2019,
          2020,
          2021,
          2022,
          2023
         ],
         "y": [
          1379.24,
          1427.37,
          1506.71,
          1722.31,
          2219.95
         ]
        },
        {
         "name": "apache/beam",
         "x": [
          2019,
          2020,
          2021,
          2022,
          2023
         ],
         "y": [
          2207.61,
          2267.55,
          1933.53,
          2365.16,
          2188.52
         ]
        },
        {
         "name": "apache/hudi",
         "x": [
          2019,
          2020,
          2021,
          2022,
          2023
         ],
         "y": [
          309.07,
          975.52,
          1345.85,
          2097.64,
          2124.67
         ]
        },
        {
         "name": "apache/superset",
         "x": [
          2019,
          2020,
          2021,
          2022,
          2023
         ],
         "y": [
          1336.51,
          1679.48,
          2489.91,
          2334.19,
          2092.32
         ]
        },
        {
         "name": "apache/kafka",
         "x": [
          2019,
          2020,
          2021,
          2022,
          2023
         ],
         "y": [
          1698.92,
          1750.61,
          1625.16,
          1348.65,
          1849.97
         ]
        },
        {
         "name": "apache/flink",
         "x": [
          2019,
          2020,
          2021,
          2022,
          2023
         ],
         "y": [
          2072.08,
          2501.17,
          2426.81,
          2298.86,
          1816.72
         ]
        },
        {
         "name": "apache/iceberg",
         "x": [
          2019,
          2020,
          2021,
          2022,
          2023
         ],
         "y": [
          378.61,
          787.15,
          1235.38,
          1750.5,
          1747.12
         ]
        },
        {
         "name": "apache/shardingsphere",
         "x": [
          2019,
          2020,
          2021,
          2022,
          2023
         ],
         "y": [
          815.76,
          1443.01,
          1561.73,
          2037.85,
          1662.8
         ]
        },
        {
         "name": "apache/tvm",
         "x": [
          2019,
          2020,
          2021,
          2022,
          2023
         ],
         "y": [
          298.61,
          1833.76,
          1989.64,
          2249.37,
          1564.11
         ]
        },
        {
         "name": "apache/nuttx",
         "x": [
          2019,
          2020,
          2021,
          2022,
          2023
         ],
         "y": [
          7.1,
          653.98,
          956.6,
          1095.96,
          1476.16
         ]
        },
        {
         "name": "apache/pinot",
         "x": [
          2019,
          2020,
          2021,
          2022,
          2023
         ],
         "y": [
          700.58,
          847.39,
          1052.71,
          1249.77,
          1354.94
         ]
        },
        {
         "name": "apache/ozone",
         "x": [
          2019,
          2020,
          2021,
          2022,
          2023
         ],
         "y": [
          157.18,
          896.16,
          961.8,
          976.65,
          1281.57
         ]
        },
        {
         "name": "apache/druid",
         "x": [
          2019,
          2020,
          2021,
          2022,
          2023
         ],
         "y": [
          1261.78,
          1024.86,
          1065.04,
          1078.3,
          1270.79
         ]
        },
        {
         "name": "apache/iotdb",
         "x": [
          2019,
          2020,
          2021,
          2022,
          2023
         ],
         "y": [
          311.38,
          691,
          920.99,
          1362.77,
          1265.72
         ]
        },
        {
         "name": "apache/pulsar",
         "x": [
          2019,
          2020,
          2021,
          2022,
          2023
         ],
         "y": [
          1189.56,
          1469.98,
          1915.46,
          2153.15,
          1227.93
         ]
        },
        {
         "name": "apache/arrow-datafusion",
         "x": [
          2019,
          2020,
          2021,
          2022,
          2023
         ],
         "y": [
          0,
          0,
          324.25,
          712.4,
          1137.87
         ]
        },
        {
         "name": "apache/apisix",
         "x": [
          2019,
          2020,
          2021,
          2022,
          2023
         ],
         "y": [
          106.82,
          649.12,
          997.37,
          1228.65,
          1122.6
         ]
        }
       ],
       "layout": {
        "autosize": true,
        "title": {
         "text": "OpenRank of Apache 2019-2023"
        },
        "xaxis": {
         "autorange": true,
         "range": [
          2018.7394900068919,
          2023.2605099931081
         ],
         "type": "linear"
        },
        "yaxis": {
         "autorange": true,
         "range": [
          -355.4534951456311,
          4662.713495145631
         ],
         "type": "linear"
        }
       }
      },
      "image/png": "[encoded data removed]"
     },
     "execution_count": 19,
     "metadata": {},
     "output_type": "execute_result"
    }
   ],
   "source": [
    "processTechFieldData(':foundations/apache', 'Apache');"
   ]
  },
  {
   "cell_type": "markdown",
   "id": "84227883-6ca5-44ab-8133-89bdb28a1724",
   "metadata": {},
   "source": [
    "### Eclipse"
   ]
  },
  {
   "cell_type": "code",
   "execution_count": 20,
   "id": "c3c2d555-564a-4d2f-b098-56a09a30e071",
   "metadata": {},
   "outputs": [
    {
     "data": {
      "application/vnd.plotly.v1+json": {
       "data": [
        {
         "name": "eclipse/sumo",
         "x": [
          2019,
          2020,
          2021,
          2022,
          2023
         ],
         "y": [
          421.15,
          523.07,
          573.06,
          652.45,
          482.79
         ]
        },
        {
         "name": "eclipse/jetty.project",
         "x": [
          2019,
          2020,
          2021,
          2022,
          2023
         ],
         "y": [
          620.34,
          561.28,
          528.4,
          449.83,
          394.61
         ]
        },
        {
         "name": "eclipse/omr",
         "x": [
          2019,
          2020,
          2021,
          2022,
          2023
         ],
         "y": [
          622.47,
          632.28,
          349.96,
          372.9,
          276.75
         ]
        },
        {
         "name": "eclipse/kura",
         "x": [
          2019,
          2020,
          2021,
          2022,
          2023
         ],
         "y": [
          177.34,
          196.07,
          200.9,
          237.44,
          276.2
         ]
        },
        {
         "name": "eclipse/che",
         "x": [
          2019,
          2020,
          2021,
          2022,
          2023
         ],
         "y": [
          1064.78,
          941.22,
          574.1,
          284.93,
          256.25
         ]
        },
        {
         "name": "eclipse/xtext",
         "x": [
          2019,
          2020,
          2021,
          2022,
          2023
         ],
         "y": [
          54.79,
          82.58,
          49.81,
          19.16,
          179.33
         ]
        },
        {
         "name": "eclipse/hawkbit",
         "x": [
          2019,
          2020,
          2021,
          2022,
          2023
         ],
         "y": [
          241.3,
          183.71,
          177.67,
          84.31,
          178.6
         ]
        },
        {
         "name": "eclipse/kiso-testing",
         "x": [
          2019,
          2020,
          2021,
          2022,
          2023
         ],
         "y": [
          0,
          0,
          4.78,
          131.74,
          164.86
         ]
        },
        {
         "name": "eclipse/mosquitto",
         "x": [
          2019,
          2020,
          2021,
          2022,
          2023
         ],
         "y": [
          286.2,
          272.28,
          274.48,
          186.15,
          164.32
         ]
        },
        {
         "name": "eclipse/eclipse.jdt.ls",
         "x": [
          2019,
          2020,
          2021,
          2022,
          2023
         ],
         "y": [
          194.63,
          181.59,
          168.48,
          187.82,
          154.84
         ]
        },
        {
         "name": "eclipse/jkube",
         "x": [
          2019,
          2020,
          2021,
          2022,
          2023
         ],
         "y": [
          4.63,
          129.39,
          200.42,
          238.74,
          148.03
         ]
        },
        {
         "name": "eclipse/lsp4e",
         "x": [
          2019,
          2020,
          2021,
          2022,
          2023
         ],
         "y": [
          0,
          0,
          9.08,
          95.6,
          141.47
         ]
        },
        {
         "name": "eclipse/kapua",
         "x": [
          2019,
          2020,
          2021,
          2022,
          2023
         ],
         "y": [
          282.3,
          202.63,
          138.77,
          79.53,
          133.98
         ]
        },
        {
         "name": "eclipse/capella",
         "x": [
          2019,
          2020,
          2021,
          2022,
          2023
         ],
         "y": [
          0,
          143.43,
          158.73,
          132.56,
          127.81
         ]
        },
        {
         "name": "eclipse/kuksa.val",
         "x": [
          2019,
          2020,
          2021,
          2022,
          2023
         ],
         "y": [
          0,
          56.8,
          67.31,
          63.96,
          120.14
         ]
        },
        {
         "name": "eclipse/dirigible",
         "x": [
          2019,
          2020,
          2021,
          2022,
          2023
         ],
         "y": [
          39.8,
          58.47,
          107.97,
          159.51,
          109.75
         ]
        },
        {
         "name": "eclipse/rdf4j",
         "x": [
          2019,
          2020,
          2021,
          2022,
          2023
         ],
         "y": [
          147.24,
          262.88,
          236.82,
          229.51,
          108.62
         ]
        },
        {
         "name": "eclipse/openvsx",
         "x": [
          2019,
          2020,
          2021,
          2022,
          2023
         ],
         "y": [
          0,
          73.41,
          77.73,
          89.41,
          97.58
         ]
        },
        {
         "name": "eclipse/paho.mqtt.c",
         "x": [
          2019,
          2020,
          2021,
          2022,
          2023
         ],
         "y": [
          132.74,
          183.85,
          124.47,
          91.13,
          95.57
         ]
        },
        {
         "name": "eclipse/chemclipse",
         "x": [
          2019,
          2020,
          2021,
          2022,
          2023
         ],
         "y": [
          28.48,
          65.28,
          96.45,
          77.98,
          72.81
         ]
        }
       ],
       "layout": {
        "autosize": true,
        "title": {
         "text": "OpenRank of Eclipse 2019-2023"
        },
        "xaxis": {
         "autorange": true,
         "range": [
          2018.7417261518494,
          2023.2582738481506
         ],
         "type": "linear"
        },
        "yaxis": {
         "autorange": true,
         "range": [
          -87.87019417475729,
          1152.6501941747572
         ],
         "type": "linear"
        }
       }
      },
      "image/png": "[encoded data removed]"
     },
     "execution_count": 20,
     "metadata": {},
     "output_type": "execute_result"
    }
   ],
   "source": [
    "processTechFieldData(':foundations/eclipse', 'Eclipse');"
   ]
  },
  {
   "cell_type": "markdown",
   "id": "170e85ff-3878-4452-8047-433c536d25aa",
   "metadata": {},
   "source": [
    "### OpenInfra"
   ]
  },
  {
   "cell_type": "code",
   "execution_count": 21,
   "id": "0c074d90-78de-4175-bac0-c878c91a3005",
   "metadata": {},
   "outputs": [
    {
     "data": {
      "application/vnd.plotly.v1+json": {
       "data": [
        {
         "name": "kata-containers/kata-containers",
         "x": [
          2019,
          2020,
          2021,
          2022,
          2023
         ],
         "y": [
          21.77,
          273.75,
          780.98,
          1043.13,
          1192.65
         ]
        },
        {
         "name": "kata-containers/tests",
         "x": [
          2019,
          2020,
          2021,
          2022,
          2023
         ],
         "y": [
          277.74,
          257.01,
          339.2,
          301.6,
          160.55
         ]
        },
        {
         "name": "kata-containers/community",
         "x": [
          2019,
          2020,
          2021,
          2022,
          2023
         ],
         "y": [
          31.46,
          22.72,
          19.82,
          20.57,
          22.22
         ]
        },
        {
         "name": "kata-containers/cgroups-rs",
         "x": [
          2019,
          2020,
          2021,
          2022,
          2023
         ],
         "y": [
          0,
          6.57,
          24.1,
          10.23,
          19.34
         ]
        },
        {
         "name": "kata-containers/ci",
         "x": [
          2019,
          2020,
          2021,
          2022,
          2023
         ],
         "y": [
          27.19,
          23.16,
          16.28,
          21.89,
          11.56
         ]
        },
        {
         "name": "openstack/cinder",
         "x": [
          2019,
          2020,
          2021,
          2022,
          2023
         ],
         "y": [
          1.43,
          0,
          0.89,
          1.53,
          9.06
         ]
        },
        {
         "name": "openstack/skyline-console",
         "x": [
          2019,
          2020,
          2021,
          2022,
          2023
         ],
         "y": [
          0,
          0,
          0,
          0.43,
          8.82
         ]
        },
        {
         "name": "kata-containers/www.katacontainers.io",
         "x": [
          2019,
          2020,
          2021,
          2022,
          2023
         ],
         "y": [
          9.52,
          19.97,
          14.52,
          11.68,
          5.95
         ]
        },
        {
         "name": "openstack/requirements",
         "x": [
          2019,
          2020,
          2021,
          2022,
          2023
         ],
         "y": [
          0.43,
          0.18,
          1.3,
          2.03,
          4.65
         ]
        },
        {
         "name": "openstack/manila",
         "x": [
          2019,
          2020,
          2021,
          2022,
          2023
         ],
         "y": [
          0.29,
          0.42,
          0.42,
          0,
          3.59
         ]
        },
        {
         "name": "openstack/python-novaclient",
         "x": [
          2019,
          2020,
          2021,
          2022,
          2023
         ],
         "y": [
          0,
          0,
          0,
          0.13,
          3.57
         ]
        },
        {
         "name": "openstack/openstack-ansible-os_octavia",
         "x": [
          2019,
          2020,
          2021,
          2022,
          2023
         ],
         "y": [
          0,
          0,
          0,
          1.45,
          3.18
         ]
        },
        {
         "name": "openstack/upstream-institute-virtual-environment",
         "x": [
          2019,
          2020,
          2021,
          2022,
          2023
         ],
         "y": [
          0.65,
          2.48,
          2.16,
          2.02,
          2.76
         ]
        },
        {
         "name": "openstack/tripleo-quickstart",
         "x": [
          2019,
          2020,
          2021,
          2022,
          2023
         ],
         "y": [
          0.13,
          0,
          0.33,
          0.52,
          2.76
         ]
        },
        {
         "name": "kata-containers/presentations",
         "x": [
          2019,
          2020,
          2021,
          2022,
          2023
         ],
         "y": [
          0,
          0,
          0,
          0,
          2.24
         ]
        },
        {
         "name": "openstack/ironic-python-agent",
         "x": [
          2019,
          2020,
          2021,
          2022,
          2023
         ],
         "y": [
          0,
          0,
          0.17,
          0.64,
          1.9
         ]
        },
        {
         "name": "openstack/kolla-ansible",
         "x": [
          2019,
          2020,
          2021,
          2022,
          2023
         ],
         "y": [
          3.91,
          2.82,
          2.6,
          0.75,
          1.84
         ]
        },
        {
         "name": "kata-containers/dbs-snapshot",
         "x": [
          2019,
          2020,
          2021,
          2022,
          2023
         ],
         "y": [
          0,
          0,
          0,
          0,
          1.82
         ]
        },
        {
         "name": "openstack/tripleo-ci",
         "x": [
          2019,
          2020,
          2021,
          2022,
          2023
         ],
         "y": [
          0,
          0,
          0.17,
          0.17,
          1.39
         ]
        },
        {
         "name": "openstack/ansible-collections-openstack",
         "x": [
          2019,
          2020,
          2021,
          2022,
          2023
         ],
         "y": [
          0,
          1.72,
          0.99,
          0.9,
          1.26
         ]
        }
       ],
       "layout": {
        "autosize": true,
        "title": {
         "text": "OpenRank of OpenInfra 2019-2023"
        },
        "xaxis": {
         "autorange": true,
         "range": [
          2018.722443559097,
          2023.277556440903
         ],
         "type": "linear"
        },
        "yaxis": {
         "autorange": true,
         "range": [
          -98.42257281553398,
          1291.0725728155342
         ],
         "type": "linear"
        }
       }
      },
      "image/png": "[encoded data removed]"
     },
     "execution_count": 21,
     "metadata": {},
     "output_type": "execute_result"
    }
   ],
   "source": [
    "processTechFieldData(':foundations/openinfra', 'OpenInfra');"
   ]
  },
  {
   "cell_type": "markdown",
   "id": "1b0b3271-a2b0-4d70-81bf-5f9907992ce4",
   "metadata": {},
   "source": [
    "### OpenJs"
   ]
  },
  {
   "cell_type": "code",
   "execution_count": 22,
   "id": "7293f924-b80b-438f-8f3c-72c9ad598588",
   "metadata": {},
   "outputs": [
    {
     "data": {
      "application/vnd.plotly.v1+json": {
       "data": [
        {
         "name": "nodejs/node",
         "x": [
          2019,
          2020,
          2021,
          2022,
          2023
         ],
         "y": [
          3400.41,
          3037.94,
          2433.13,
          2495.59,
          2736.37
         ]
        },
        {
         "name": "electron/electron",
         "x": [
          2019,
          2020,
          2021,
          2022,
          2023
         ],
         "y": [
          2824.05,
          2761.41,
          2266.04,
          1982.32,
          1773.31
         ]
        },
        {
         "name": "facebook/jest",
         "x": [
          2019,
          2020,
          2021,
          2022,
          2023
         ],
         "y": [
          1450.1,
          1157.52,
          828.28,
          882.51,
          626.51
         ]
        },
        {
         "name": "webdriverio/webdriverio",
         "x": [
          2019,
          2020,
          2021,
          2022,
          2023
         ],
         "y": [
          1004.59,
          732.69,
          598.32,
          366.72,
          617.95
         ]
        },
        {
         "name": "eslint/eslint",
         "x": [
          2019,
          2020,
          2021,
          2022,
          2023
         ],
         "y": [
          809.24,
          705.59,
          526.53,
          496.14,
          541.68
         ]
        },
        {
         "name": "appium/appium",
         "x": [
          2019,
          2020,
          2021,
          2022,
          2023
         ],
         "y": [
          990.47,
          727.75,
          530.05,
          501.84,
          437.7
         ]
        },
        {
         "name": "webpack/webpack",
         "x": [
          2019,
          2020,
          2021,
          2022,
          2023
         ],
         "y": [
          921,
          964.46,
          932.26,
          538.62,
          362.75
         ]
        },
        {
         "name": "fastify/fastify",
         "x": [
          2019,
          2020,
          2021,
          2022,
          2023
         ],
         "y": [
          350.84,
          399.46,
          380.34,
          371.98,
          354.14
         ]
        },
        {
         "name": "ampproject/amphtml",
         "x": [
          2019,
          2020,
          2021,
          2022,
          2023
         ],
         "y": [
          2772.75,
          2481.43,
          2169.22,
          884.62,
          342.96
         ]
        },
        {
         "name": "visgl/deck.gl",
         "x": [
          2019,
          2020,
          2021,
          2022,
          2023
         ],
         "y": [
          555.26,
          584.39,
          365.15,
          309.97,
          289.6
         ]
        },
        {
         "name": "NativeScript/NativeScript",
         "x": [
          2019,
          2020,
          2021,
          2022,
          2023
         ],
         "y": [
          871.67,
          662.98,
          444.05,
          256.72,
          199.24
         ]
        },
        {
         "name": "node-red/node-red",
         "x": [
          2019,
          2020,
          2021,
          2022,
          2023
         ],
         "y": [
          247.65,
          263.39,
          288.32,
          242.22,
          196.82
         ]
        },
        {
         "name": "nvm-sh/nvm",
         "x": [
          2019,
          2020,
          2021,
          2022,
          2023
         ],
         "y": [
          146.41,
          186.27,
          200.41,
          166.49,
          149
         ]
        },
        {
         "name": "keplergl/kepler.gl",
         "x": [
          2019,
          2020,
          2021,
          2022,
          2023
         ],
         "y": [
          319.1,
          287.41,
          198.08,
          195.64,
          133.49
         ]
        },
        {
         "name": "expressjs/express",
         "x": [
          2019,
          2020,
          2021,
          2022,
          2023
         ],
         "y": [
          179,
          210.03,
          150.09,
          141.58,
          125.87
         ]
        },
        {
         "name": "lodash/lodash",
         "x": [
          2019,
          2020,
          2021,
          2022,
          2023
         ],
         "y": [
          264.44,
          262.54,
          163.53,
          120.79,
          120.61
         ]
        },
        {
         "name": "loopbackio/loopback-next",
         "x": [
          2019,
          2020,
          2021,
          2022,
          2023
         ],
         "y": [
          950.76,
          920.95,
          292.03,
          123.77,
          116.77
         ]
        },
        {
         "name": "jquery/jquery",
         "x": [
          2019,
          2020,
          2021,
          2022,
          2023
         ],
         "y": [
          174.03,
          122.32,
          74.77,
          87.04,
          93.17
         ]
        },
        {
         "name": "ajv-validator/ajv",
         "x": [
          2019,
          2020,
          2021,
          2022,
          2023
         ],
         "y": [
          122.81,
          125.45,
          215.26,
          118.37,
          69.54
         ]
        },
        {
         "name": "moment/moment",
         "x": [
          2019,
          2020,
          2021,
          2022,
          2023
         ],
         "y": [
          273.25,
          372.94,
          94.38,
          66.07,
          64.73
         ]
        }
       ],
       "layout": {
        "autosize": true,
        "title": {
         "text": "OpenRank of OpenJs 2019-2023"
        },
        "xaxis": {
         "autorange": true,
         "range": [
          2018.739251040222,
          2023.260748959778
         ],
         "type": "linear"
        },
        "yaxis": {
         "autorange": true,
         "range": [
          -210.5445631067961,
          3675.684563106796
         ],
         "type": "linear"
        }
       }
      },
      "image/png": "[encoded data removed]"
     },
     "execution_count": 22,
     "metadata": {},
     "output_type": "execute_result"
    }
   ],
   "source": [
    "processTechFieldData(':foundations/linux_foundation/openjs', 'OpenJs');"
   ]
  },
  {
   "cell_type": "code",
   "execution_count": null,
   "id": "b8dfd218-0463-4f5c-b370-2a0dfd1b3950",
   "metadata": {},
   "outputs": [],
   "source": []
  }
 ],
 "metadata": {
  "kernelspec": {
   "display_name": "JavaScript (Node.js)",
   "language": "javascript",
   "name": "javascript"
  },
  "language_info": {
   "file_extension": ".js",
   "mimetype": "application/javascript",
   "name": "javascript",
   "version": "16.13.2"
  }
 },
 "nbformat": 4,
 "nbformat_minor": 5
}
