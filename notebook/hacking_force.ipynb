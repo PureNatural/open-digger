{
 "cells": [
  {
   "cell_type": "code",
   "execution_count": 1,
   "id": "018c9dc9-2b28-47a7-8afc-a5000b57747e",
   "metadata": {},
   "outputs": [],
   "source": [
    "var openDigger = require('../src/open_digger')"
   ]
  },
  {
   "cell_type": "markdown",
   "id": "c88e25f7-0f42-47b6-a567-974659241bae",
   "metadata": {},
   "source": [
    "# 开源码力榜 2024\n",
    "\n",
    "该文档用于开源码力榜相关需求开发工作。"
   ]
  },
  {
   "cell_type": "markdown",
   "id": "648b940f-8582-49ca-8698-9ce8f2953857",
   "metadata": {},
   "source": [
    "## 影响力 Top 20 查询\n",
    "\n",
    "该代码可用于中国开发者在 2024 上半年最活跃开发者排名查询，仅显示 Top 20。"
   ]
  },
  {
   "cell_type": "code",
   "execution_count": 2,
   "id": "ebd60ba4-a57f-4fd6-86ee-6340b481f205",
   "metadata": {},
   "outputs": [
    {
     "name": "stdout",
     "output_type": "stream",
     "text": [
      "┌─────────┬────────────┬──────────┬────────────────┬────────────┐\n",
      "│ (index) │     id     │ platform │      name      │  openrank  │\n",
      "├─────────┼────────────┼──────────┼────────────────┼────────────┤\n",
      "│    0    │ '7237365'  │ 'GitHub' │  'chenjiahan'  │ [ 301.69 ] │\n",
      "│    1    │ '79828097' │ 'GitHub' │  'windsonsea'  │ [ 257.37 ] │\n",
      "│    2    │ '5516298'  │ 'GitHub' │  'terrymanu'   │ [ 232.64 ] │\n",
      "│    3    │  '151335'  │ 'GitHub' │    'waruqi'    │ [ 204.1 ]  │\n",
      "│    4    │  '507615'  │ 'GitHub' │    'afc163'    │ [ 185.38 ] │\n",
      "│    5    │ '4178417'  │ 'GitHub' │  'andyzhangx'  │ [ 165.22 ] │\n",
      "│    6    │ '10363352' │ 'GitHub' │   'Goooler'    │ [ 156.04 ] │\n",
      "│    7    │ '18818196' │ 'GitHub' │   'tisonkun'   │ [ 148.17 ] │\n",
      "│    8    │ '11247099' │ 'GitHub' │    'antfu'     │ [ 140.84 ] │\n",
      "│    9    │ '9496702'  │ 'GitHub' │    'njzjz'     │ [ 140.69 ] │\n",
      "│   10    │ '21301288' │ 'GitHub' │   'ruibaby'    │ [ 133.44 ] │\n",
      "│   11    │  '873584'  │ 'GitHub' │    '88250'     │ [ 123.16 ] │\n",
      "│   12    │ '15884415' │ 'GitHub' │   'AlexV525'   │ [ 117.42 ] │\n",
      "│   13    │ '8336744'  │ 'GitHub' │   'JounQin'    │ [ 112.04 ] │\n",
      "│   14    │  '172584'  │ 'GitHub' │    'fisker'    │ [ 109.57 ] │\n",
      "│   15    │ '3468483'  │ 'GitHub' │ 'Brooooooklyn' │ [ 105.09 ] │\n",
      "│   16    │ '45163302' │ 'GitHub' │ 'weizhoublue'  │ [ 102.45 ] │\n",
      "│   17    │ '3746270'  │ 'GitHub' │  'linonetwo'   │ [ 86.97 ]  │\n",
      "│   18    │ '28390961' │ 'GitHub' │   'carlory'    │ [ 84.73 ]  │\n",
      "│   19    │ '22415594' │ 'GitHub' │  'ruanwenjun'  │ [ 82.44 ]  │\n",
      "└─────────┴────────────┴──────────┴────────────────┴────────────┘\n"
     ]
    }
   ],
   "source": [
    "openDigger.index.openrank.getUserOpenrank({labelUnion: [':regions/CN'],order: 'DESC', limit: 20, startYear: 2024, endYear: 2024, endMonth: 6}).then(data => console.table(data));"
   ]
  },
  {
   "cell_type": "code",
   "execution_count": null,
   "id": "f2501966-b8fb-4cef-bb36-a32232d20ab4",
   "metadata": {},
   "outputs": [],
   "source": []
  }
 ],
 "metadata": {
  "kernelspec": {
   "display_name": "JavaScript (Node.js)",
   "language": "javascript",
   "name": "javascript"
  },
  "language_info": {
   "file_extension": ".js",
   "mimetype": "application/javascript",
   "name": "javascript",
   "version": "16.13.2"
  }
 },
 "nbformat": 4,
 "nbformat_minor": 5
}
