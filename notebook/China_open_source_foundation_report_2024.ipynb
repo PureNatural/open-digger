{
 "cells": [
  {
   "cell_type": "code",
   "execution_count": 1,
   "id": "8c226615",
   "metadata": {},
   "outputs": [],
   "source": [
    "var openDigger = require('../src/open_digger');\n",
    "var year = 2024, startMonth = 1, endMonth = 12, startYear = 2020\n",
    "var years = Array.from({ length: year - startYear + 1 }, (_, i) => i + startYear); // [2018, 2019, 2020, 2021, 2022]\n",
    "var baseOptions = {\n",
    "    startYear, endYear: year,\n",
    "    startMonth, endMonth,\n",
    "    groupTimeRange: 'year',\n",
    "    order: 'DESC'\n",
    "};"
   ]
  },
  {
   "cell_type": "markdown",
   "id": "7a5ca49e",
   "metadata": {},
   "source": [
    "## 基金会洞察"
   ]
  },
  {
   "cell_type": "markdown",
   "id": "2af24950-6b86-4c83-9c4d-662f3c48b352",
   "metadata": {},
   "source": [
    "### 全球基金会旗下项目OpenRank Top 10"
   ]
  },
  {
   "cell_type": "code",
   "execution_count": 2,
   "id": "c3589969-4b09-4006-8cbb-81297620dc87",
   "metadata": {},
   "outputs": [
    {
     "name": "stdout",
     "output_type": "stream",
     "text": [
      "┌─────────┬────────────┬──────────┬──────────────────────────────────┬─────────────┐\n",
      "│ (index) │     id     │ platform │               name               │  openrank   │\n",
      "├─────────┼────────────┼──────────┼──────────────────────────────────┼─────────────┤\n",
      "│    0    │ '4542716'  │ 'GitHub' │         'NixOS/nixpkgs'          │ [ 23345.3 ] │\n",
      "│    1    │ '59771425' │ 'GitHub' │   'zephyrproject-rtos/zephyr'    │ [ 8445.03 ] │\n",
      "│    2    │ '10919030' │ 'Gitee'  │        'openharmony/docs'        │ [ 7920.28 ] │\n",
      "│    3    │ '15634981' │ 'GitHub' │       'godotengine/godot'        │ [ 7666.04 ] │\n",
      "│    4    │ '16184969' │ 'Gitee'  │ 'openharmony/graphic_graphic_2d' │ [ 4134.13 ] │\n",
      "│    5    │ '81598961' │ 'GitHub' │         'python/cpython'         │ [ 4124.69 ] │\n",
      "│    6    │ '16184957' │ 'Gitee'  │  'openharmony/arkui_ace_engine'  │ [ 4031.73 ] │\n",
      "│    7    │ '99919302' │ 'GitHub' │          'apache/doris'          │ [ 3965.48 ] │\n",
      "│    8    │ '20580498' │ 'GitHub' │     'kubernetes/kubernetes'      │ [ 3924.93 ] │\n",
      "│    9    │ '11218621' │ 'Gitee'  │      'openharmony/xts_acts'      │ [ 3069.22 ] │\n",
      "└─────────┴────────────┴──────────┴──────────────────────────────────┴─────────────┘\n"
     ]
    }
   ],
   "source": [
    "openDigger.index.openrank.getRepoOpenrank({\n",
    "    labelIntersect: ['Foundation'],\n",
    "    startYear: year, endYear: year, startMonth: 1, endMonth: 12,\n",
    "    groupTimeRange: 'year', limit: 10, order: 'DESC',\n",
    "}).then(data => console.table(data));"
   ]
  },
  {
   "cell_type": "code",
   "execution_count": 3,
   "id": "b9b84f3d-deb4-40f1-9e19-237da4c6b91c",
   "metadata": {},
   "outputs": [],
   "source": [
    "var processFoundationFieldData = (label, title) => {\n",
    "    var years = [2020, 2021, 2022, 2023, 2024];\n",
    "    openDigger.index.openrank.getRepoOpenrank({\n",
    "        ...baseOptions, labelIntersect: label, limit: 20\n",
    "    }).then(data => {\n",
    "        openDigger.render.plotly(data.map(row => {\n",
    "            return {\n",
    "                x: years,\n",
    "                y: row.openrank,\n",
    "                name: row.name\n",
    "            };\n",
    "        }), {title: `OpenRank of ${title} 2020-2024`});\n",
    "    });\n",
    "};"
   ]
  },
  {
   "cell_type": "markdown",
   "id": "056fe2f4-ac14-44d4-91d6-9230900b580f",
   "metadata": {},
   "source": [
    "### 全球基金会旗下项目OpenRank Top 10 变化趋势"
   ]
  },
  {
   "cell_type": "code",
   "execution_count": 4,
   "id": "97b3d7c2-578a-447c-8cfd-4a87c2a8ebef",
   "metadata": {},
   "outputs": [
    {
     "data": {
      "application/vnd.plotly.v1+json": {
       "data": [
        {
         "name": "NixOS/nixpkgs",
         "x": [
          2020,
          2021,
          2022,
          2023,
          2024
         ],
         "y": [
          10743.05,
          13551.57,
          14853.77,
          18075.14,
          23345.3
         ]
        },
        {
         "name": "zephyrproject-rtos/zephyr",
         "x": [
          2020,
          2021,
          2022,
          2023,
          2024
         ],
         "y": [
          4360.71,
          5117.19,
          6025.06,
          7224.24,
          8445.03
         ]
        },
        {
         "name": "openharmony/docs",
         "x": [
          2020,
          2021,
          2022,
          2023,
          2024
         ],
         "y": [
          0,
          389.77,
          2868.44,
          5203.18,
          7920.28
         ]
        },
        {
         "name": "godotengine/godot",
         "x": [
          2020,
          2021,
          2022,
          2023,
          2024
         ],
         "y": [
          4739.33,
          4839.34,
          5914.46,
          7705.45,
          7666.04
         ]
        },
        {
         "name": "openharmony/graphic_graphic_2d",
         "x": [
          2020,
          2021,
          2022,
          2023,
          2024
         ],
         "y": [
          0,
          44.26,
          1078.01,
          1996,
          4134.13
         ]
        },
        {
         "name": "python/cpython",
         "x": [
          2020,
          2021,
          2022,
          2023,
          2024
         ],
         "y": [
          1962.12,
          1886.38,
          3103.63,
          3688.05,
          4124.69
         ]
        },
        {
         "name": "openharmony/arkui_ace_engine",
         "x": [
          2020,
          2021,
          2022,
          2023,
          2024
         ],
         "y": [
          0,
          0,
          0,
          0,
          4031.73
         ]
        },
        {
         "name": "apache/doris",
         "x": [
          2020,
          2021,
          2022,
          2023,
          2024
         ],
         "y": [
          894.83,
          835.53,
          2069.31,
          3860.91,
          3965.48
         ]
        },
        {
         "name": "kubernetes/kubernetes",
         "x": [
          2020,
          2021,
          2022,
          2023,
          2024
         ],
         "y": [
          6635.27,
          6063.09,
          4422.02,
          4442.18,
          3924.93
         ]
        },
        {
         "name": "openharmony/xts_acts",
         "x": [
          2020,
          2021,
          2022,
          2023,
          2024
         ],
         "y": [
          11.27,
          309.22,
          1528.34,
          1834.14,
          3069.22
         ]
        },
        {
         "name": "apache/airflow",
         "x": [
          2020,
          2021,
          2022,
          2023,
          2024
         ],
         "y": [
          2072.85,
          2924.05,
          2716.74,
          2864.32,
          2867.69
         ]
        },
        {
         "name": "cilium/cilium",
         "x": [
          2020,
          2021,
          2022,
          2023,
          2024
         ],
         "y": [
          1455.35,
          1575.86,
          1789.09,
          2825.33,
          2842.98
         ]
        },
        {
         "name": "keycloak/keycloak",
         "x": [
          2020,
          2021,
          2022,
          2023,
          2024
         ],
         "y": [
          697.67,
          726.79,
          1633.27,
          2441.1,
          2687.79
         ]
        },
        {
         "name": "openharmony/interface_sdk-js",
         "x": [
          2020,
          2021,
          2022,
          2023,
          2024
         ],
         "y": [
          0,
          52.68,
          869.65,
          1968.59,
          2576.2
         ]
        },
        {
         "name": "backstage/backstage",
         "x": [
          2020,
          2021,
          2022,
          2023,
          2024
         ],
         "y": [
          238.49,
          1961.32,
          2570.9,
          2706.48,
          2573.87
         ]
        },
        {
         "name": "openharmony/communication_dsoftbus",
         "x": [
          2020,
          2021,
          2022,
          2023,
          2024
         ],
         "y": [
          0,
          201.82,
          941.44,
          1079.21,
          2552.72
         ]
        },
        {
         "name": "project-chip/connectedhomeip",
         "x": [
          2020,
          2021,
          2022,
          2023,
          2024
         ],
         "y": [
          350.93,
          1644.1,
          2905.47,
          2670.6,
          2518.11
         ]
        },
        {
         "name": "apache/spark",
         "x": [
          2020,
          2021,
          2022,
          2023,
          2024
         ],
         "y": [
          2734.85,
          2412.73,
          2187.92,
          2570.78,
          2485.28
         ]
        },
        {
         "name": "envoyproxy/envoy",
         "x": [
          2020,
          2021,
          2022,
          2023,
          2024
         ],
         "y": [
          2545.62,
          2633.19,
          2407.59,
          2555.24,
          2431.95
         ]
        },
        {
         "name": "openeuler/kernel",
         "x": [
          2020,
          2021,
          2022,
          2023,
          2024
         ],
         "y": [
          0,
          0,
          145.63,
          1370.29,
          2354.72
         ]
        }
       ],
       "layout": {
        "autosize": true,
        "title": {
         "text": "OpenRank of Foundation 2020-2024"
        },
        "xaxis": {
         "autorange": true,
         "range": [
          2019.7462658347513,
          2024.2537341652487
         ],
         "type": "linear"
        },
        "yaxis": {
         "autorange": true,
         "range": [
          -1926.5538834951458,
          25271.853883495147
         ],
         "type": "linear"
        }
       }
      },
      "image/png": "[encoded data removed]"
     },
     "execution_count": 4,
     "metadata": {},
     "output_type": "execute_result"
    }
   ],
   "source": [
    "processFoundationFieldData(['Foundation'], 'Foundation');"
   ]
  },
  {
   "cell_type": "markdown",
   "id": "efdefa34-ded3-4b93-89f4-e346760f8cfa",
   "metadata": {},
   "source": [
    "### 各基金会 OpenRank 变化趋势"
   ]
  },
  {
   "cell_type": "code",
   "execution_count": 5,
   "id": "05e71093-9285-4bae-a80f-be3ff6219d56",
   "metadata": {},
   "outputs": [
    {
     "data": {
      "application/vnd.plotly.v1+json": {
       "data": [
        {
         "name": "OpenAtom Foundation",
         "x": [
          2020,
          2021,
          2022,
          2023,
          2024
         ],
         "y": [
          7797.8,
          17882.81,
          50523.8,
          72390.69,
          104440.16
         ]
        },
        {
         "name": "Cloud Native Computing Foundation (CNCF)",
         "x": [
          2020,
          2021,
          2022,
          2023,
          2024
         ],
         "y": [
          84327.25,
          84628.36,
          83012.99,
          87461.33,
          83764.41
         ]
        },
        {
         "name": "Apache Software Foundation",
         "x": [
          2020,
          2021,
          2022,
          2023,
          2024
         ],
         "y": [
          59929.99,
          64802.56,
          72163.16,
          77250.54,
          75780.61
         ]
        },
        {
         "name": "Stichting NixOS Foundation",
         "x": [
          2020,
          2021,
          2022,
          2023,
          2024
         ],
         "y": [
          11837.57,
          14774.37,
          16173.58,
          19587.26,
          25270.31
         ]
        },
        {
         "name": "Linux Foundation",
         "x": [
          2020,
          2021,
          2022,
          2023,
          2024
         ],
         "y": [
          12628.96,
          13560.54,
          16529.55,
          20228.94,
          22149.02
         ]
        },
        {
         "name": "OpenJS Foundation",
         "x": [
          2020,
          2021,
          2022,
          2023,
          2024
         ],
         "y": [
          21967.59,
          17958.43,
          13961.21,
          12855.23,
          13008.11
         ]
        },
        {
         "name": "Godot Foundation",
         "x": [
          2020,
          2021,
          2022,
          2023,
          2024
         ],
         "y": [
          6516.74,
          6471.15,
          7512.75,
          10330.78,
          10172.4
         ]
        },
        {
         "name": "Python Software Foundation",
         "x": [
          2020,
          2021,
          2022,
          2023,
          2024
         ],
         "y": [
          4429.54,
          4127.05,
          5564.43,
          6057.56,
          6323.19
         ]
        },
        {
         "name": "LF AI & Data Foundation",
         "x": [
          2020,
          2021,
          2022,
          2023,
          2024
         ],
         "y": [
          3845.1,
          5276.5,
          6158.52,
          6764.33,
          6040.08
         ]
        },
        {
         "name": "Ruby Foundation",
         "x": [
          2020,
          2021,
          2022,
          2023,
          2024
         ],
         "y": [
          3603.66,
          4150.89,
          3835.94,
          4222.71,
          5045.08
         ]
        },
        {
         "name": "Hyperledger Foundation",
         "x": [
          2020,
          2021,
          2022,
          2023,
          2024
         ],
         "y": [
          4728.86,
          4465.56,
          4647.4,
          4381.81,
          3778.2
         ]
        },
        {
         "name": "Connectivity Standards Alliance",
         "x": [
          2020,
          2021,
          2022,
          2023,
          2024
         ],
         "y": [
          368.37,
          1694.24,
          3046.78,
          3100.67,
          3291.34
         ]
        },
        {
         "name": "RICSV Foundation",
         "x": [
          2020,
          2021,
          2022,
          2023,
          2024
         ],
         "y": [
          1329.55,
          1955.04,
          1831.07,
          2453.41,
          3011.26
         ]
        },
        {
         "name": "Eclipse Foundation",
         "x": [
          2020,
          2021,
          2022,
          2023,
          2024
         ],
         "y": [
          13641.86,
          9622.51,
          7850.08,
          5893.78,
          2882.32
         ]
        },
        {
         "name": "Gentoo Foundation",
         "x": [
          2020,
          2021,
          2022,
          2023,
          2024
         ],
         "y": [
          2690.19,
          2710.67,
          2544.27,
          2605.37,
          2730.44
         ]
        },
        {
         "name": "Bevy Foundation",
         "x": [
          2020,
          2021,
          2022,
          2023,
          2024
         ],
         "y": [
          435.98,
          1131.48,
          1628.55,
          1917.95,
          2659.57
         ]
        },
        {
         "name": "Trino Foundation",
         "x": [
          2020,
          2021,
          2022,
          2023,
          2024
         ],
         "y": [
          1750.76,
          2163.04,
          2534.71,
          2588.33,
          2532.79
         ]
        },
        {
         "name": "OpenSSF Foundation",
         "x": [
          2020,
          2021,
          2022,
          2023,
          2024
         ],
         "y": [
          246.16,
          1192.76,
          2394.16,
          2969.19,
          2515.36
         ]
        },
        {
         "name": "PHP Foundation",
         "x": [
          2020,
          2021,
          2022,
          2023,
          2024
         ],
         "y": [
          913.74,
          1522.71,
          1986.11,
          2016.35,
          2444.74
         ]
        },
        {
         "name": "GirlScript Foundation",
         "x": [
          2020,
          2021,
          2022,
          2023,
          2024
         ],
         "y": [
          0,
          0,
          0,
          0,
          1958.3
         ]
        },
        {
         "name": "Anoma Foundation",
         "x": [
          2020,
          2021,
          2022,
          2023,
          2024
         ],
         "y": [
          0.8,
          7.01,
          311.08,
          1893.75,
          1768.63
         ]
        },
        {
         "name": "LF Edge Foundation",
         "x": [
          2020,
          2021,
          2022,
          2023,
          2024
         ],
         "y": [
          2844.6,
          2757.15,
          2286.18,
          2348.02,
          1716.41
         ]
        },
        {
         "name": "Open 3D Foundation",
         "x": [
          2020,
          2021,
          2022,
          2023,
          2024
         ],
         "y": [
          0,
          1102.48,
          3694.24,
          2498.36,
          996.38
         ]
        },
        {
         "name": "OpenInfra Foundation",
         "x": [
          2020,
          2021,
          2022,
          2023,
          2024
         ],
         "y": [
          1257.68,
          1346.43,
          1398.89,
          1437.48,
          984.25
         ]
        },
        {
         "name": "LF Networking Foundation",
         "x": [
          2020,
          2021,
          2022,
          2023,
          2024
         ],
         "y": [
          153.1,
          185.53,
          227.13,
          364.33,
          344.36
         ]
        },
        {
         "name": "Free EBook Foundation",
         "x": [
          2020,
          2021,
          2022,
          2023,
          2024
         ],
         "y": [
          346.78,
          314.98,
          530.39,
          456.81,
          226.83
         ]
        },
        {
         "name": "FinOps Foundation",
         "x": [
          2020,
          2021,
          2022,
          2023,
          2024
         ],
         "y": [
          22.92,
          100.03,
          127.71,
          78.23,
          61.53
         ]
        }
       ],
       "layout": {
        "autosize": true,
        "title": {
         "text": "OpenRank of Foundations 2020-2024"
        },
        "xaxis": {
         "autorange": true,
         "range": [
          -0.2550758919771339,
          4.255075891977134
         ],
         "type": "category"
        },
        "yaxis": {
         "autorange": true,
         "range": [
          -8618.848155339807,
          113059.0081553398
         ],
         "type": "linear"
        }
       }
      },
      "image/png": "[encoded data removed]"
     },
     "execution_count": 5,
     "metadata": {},
     "output_type": "execute_result"
    }
   ],
   "source": [
    "openDigger.index.openrank.getRepoOpenrank({\n",
    "    labelUnion: [':foundations'],\n",
    "    startYear: 2020, endYear: 2024, endMonth: 12,\n",
    "    groupBy: 'Foundation',\n",
    "    groupTimeRange: 'year',\n",
    "    order: 'DESC',\n",
    "    limit: -1\n",
    "}).then(data => {\n",
    "    var data = data.filter(i => i.id.startsWith(':foundations'));\n",
    "    openDigger.render.plotly(data.map(row => {\n",
    "        return {\n",
    "            x: years,\n",
    "            y: row.openrank,\n",
    "            name: row.name\n",
    "        };\n",
    "    }), {title: `OpenRank of Foundations 2020-2024`, xaxis: { type: 'category' }});\n",
    "})"
   ]
  },
  {
   "cell_type": "markdown",
   "id": "035a4967-6e5a-4558-b3ea-5d24b06a55eb",
   "metadata": {},
   "source": [
    "### 中国基金会旗下项目OpenRank Top 10"
   ]
  },
  {
   "cell_type": "code",
   "execution_count": 6,
   "id": "47cb02bf-9313-4c97-92b4-a6ff7c79c6e7",
   "metadata": {},
   "outputs": [
    {
     "name": "stdout",
     "output_type": "stream",
     "text": [
      "┌─────────┬─────────────┬──────────┬────────────────────────────────────────┬─────────────┐\n",
      "│ (index) │     id      │ platform │                  name                  │  openrank   │\n",
      "├─────────┼─────────────┼──────────┼────────────────────────────────────────┼─────────────┤\n",
      "│    0    │ '10919030'  │ 'Gitee'  │           'openharmony/docs'           │ [ 7920.28 ] │\n",
      "│    1    │ '16184969'  │ 'Gitee'  │    'openharmony/graphic_graphic_2d'    │ [ 4134.13 ] │\n",
      "│    2    │ '16184957'  │ 'Gitee'  │     'openharmony/arkui_ace_engine'     │ [ 4031.73 ] │\n",
      "│    3    │ '99919302'  │ 'GitHub' │             'apache/doris'             │ [ 3965.48 ] │\n",
      "│    4    │ '11218621'  │ 'Gitee'  │         'openharmony/xts_acts'         │ [ 3069.22 ] │\n",
      "│    5    │ '16184977'  │ 'Gitee'  │     'openharmony/interface_sdk-js'     │ [ 2576.2 ]  │\n",
      "│    6    │ '16184960'  │ 'Gitee'  │  'openharmony/communication_dsoftbus'  │ [ 2552.72 ] │\n",
      "│    7    │  '7696525'  │ 'Gitee'  │           'openeuler/kernel'           │ [ 2354.72 ] │\n",
      "│    8    │ '208728772' │ 'GitHub' │           'milvus-io/milvus'           │ [ 1955.52 ] │\n",
      "│    9    │ '17812932'  │ 'Gitee'  │ 'openharmony/arkcompiler_ets_frontend' │ [ 1893.53 ] │\n",
      "└─────────┴─────────────┴──────────┴────────────────────────────────────────┴─────────────┘\n"
     ]
    }
   ],
   "source": [
    "openDigger.index.openrank.getRepoOpenrank({\n",
    "    labelIntersect: [':regions/CN', 'Foundation'],\n",
    "    startYear: year, endYear: year, startMonth: 1, endMonth: 12,\n",
    "    groupTimeRange: 'year', limit: 10, order: 'DESC',\n",
    "}).then(data => console.table(data));"
   ]
  },
  {
   "cell_type": "markdown",
   "id": "604dec1e-038c-4d9e-86e5-e72228ef56b7",
   "metadata": {},
   "source": [
    "### 中国基金会旗下项目OpenRank Top 10 变化趋势"
   ]
  },
  {
   "cell_type": "code",
   "execution_count": 7,
   "id": "f7c44d7d-9f3d-4e96-bdf4-3a78fec96a9e",
   "metadata": {},
   "outputs": [
    {
     "data": {
      "application/vnd.plotly.v1+json": {
       "data": [
        {
         "name": "openharmony/docs",
         "x": [
          2020,
          2021,
          2022,
          2023,
          2024
         ],
         "y": [
          0,
          389.77,
          2868.44,
          5203.18,
          7920.28
         ]
        },
        {
         "name": "openharmony/graphic_graphic_2d",
         "x": [
          2020,
          2021,
          2022,
          2023,
          2024
         ],
         "y": [
          0,
          44.26,
          1078.01,
          1996,
          4134.13
         ]
        },
        {
         "name": "openharmony/arkui_ace_engine",
         "x": [
          2020,
          2021,
          2022,
          2023,
          2024
         ],
         "y": [
          0,
          0,
          0,
          0,
          4031.73
         ]
        },
        {
         "name": "apache/doris",
         "x": [
          2020,
          2021,
          2022,
          2023,
          2024
         ],
         "y": [
          894.83,
          835.53,
          2069.31,
          3860.91,
          3965.48
         ]
        },
        {
         "name": "openharmony/xts_acts",
         "x": [
          2020,
          2021,
          2022,
          2023,
          2024
         ],
         "y": [
          11.27,
          309.22,
          1528.34,
          1834.14,
          3069.22
         ]
        },
        {
         "name": "openharmony/interface_sdk-js",
         "x": [
          2020,
          2021,
          2022,
          2023,
          2024
         ],
         "y": [
          0,
          52.68,
          869.65,
          1968.59,
          2576.2
         ]
        },
        {
         "name": "openharmony/communication_dsoftbus",
         "x": [
          2020,
          2021,
          2022,
          2023,
          2024
         ],
         "y": [
          0,
          201.82,
          941.44,
          1079.21,
          2552.72
         ]
        },
        {
         "name": "openeuler/kernel",
         "x": [
          2020,
          2021,
          2022,
          2023,
          2024
         ],
         "y": [
          0,
          0,
          145.63,
          1370.29,
          2354.72
         ]
        },
        {
         "name": "milvus-io/milvus",
         "x": [
          2020,
          2021,
          2022,
          2023,
          2024
         ],
         "y": [
          663.66,
          943.65,
          1345.49,
          1741.56,
          1955.52
         ]
        },
        {
         "name": "openharmony/arkcompiler_ets_frontend",
         "x": [
          2020,
          2021,
          2022,
          2023,
          2024
         ],
         "y": [
          0,
          23.3,
          296.6,
          575.54,
          1893.53
         ]
        },
        {
         "name": "openharmony/window_window_manager",
         "x": [
          2020,
          2021,
          2022,
          2023,
          2024
         ],
         "y": [
          0,
          0,
          0,
          0,
          1499.48
         ]
        },
        {
         "name": "openharmony/ability_ability_runtime",
         "x": [
          2020,
          2021,
          2022,
          2023,
          2024
         ],
         "y": [
          0,
          36.52,
          809.82,
          1081.02,
          1391.41
         ]
        },
        {
         "name": "apache/flink",
         "x": [
          2020,
          2021,
          2022,
          2023,
          2024
         ],
         "y": [
          2289.77,
          2188.18,
          2059.34,
          1658.51,
          1390.9
         ]
        },
        {
         "name": "openharmony/arkcompiler_ets_runtime",
         "x": [
          2020,
          2021,
          2022,
          2023,
          2024
         ],
         "y": [
          0,
          0,
          0,
          0,
          1327.23
         ]
        },
        {
         "name": "openharmony/multimedia_audio_framework",
         "x": [
          2020,
          2021,
          2022,
          2023,
          2024
         ],
         "y": [
          0,
          40.17,
          301.54,
          552.51,
          1301.05
         ]
        },
        {
         "name": "anolis/cloud-kernel",
         "x": [
          2020,
          2021,
          2022,
          2023,
          2024
         ],
         "y": [
          0,
          0,
          0,
          789.92,
          1111.56
         ]
        },
        {
         "name": "apache/ozone",
         "x": [
          2020,
          2021,
          2022,
          2023,
          2024
         ],
         "y": [
          841.12,
          921.51,
          949.42,
          1218.16,
          1103.78
         ]
        },
        {
         "name": "apache/shardingsphere",
         "x": [
          2020,
          2021,
          2022,
          2023,
          2024
         ],
         "y": [
          1250.27,
          1358.14,
          1735.15,
          1428.65,
          1039.95
         ]
        },
        {
         "name": "openharmony/multimedia_av_codec",
         "x": [
          2020,
          2021,
          2022,
          2023,
          2024
         ],
         "y": [
          0,
          0,
          0,
          260.87,
          975.75
         ]
        },
        {
         "name": "openharmony/arkcompiler_runtime_core",
         "x": [
          2020,
          2021,
          2022,
          2023,
          2024
         ],
         "y": [
          0,
          0,
          0,
          0,
          963.98
         ]
        }
       ],
       "layout": {
        "autosize": true,
        "title": {
         "text": "OpenRank of China Foundation 2020-2024"
        },
        "xaxis": {
         "autorange": true,
         "range": [
          2019.7446892991861,
          2024.2553107008139
         ],
         "type": "linear"
        },
        "yaxis": {
         "autorange": true,
         "range": [
          -653.6153398058252,
          8573.895339805826
         ],
         "type": "linear"
        }
       }
      },
      "image/png": "[encoded data removed]"
     },
     "execution_count": 7,
     "metadata": {},
     "output_type": "execute_result"
    }
   ],
   "source": [
    "processFoundationFieldData([':regions/CN', 'Foundation'], 'China Foundation');"
   ]
  },
  {
   "cell_type": "markdown",
   "id": "7f58fcfb-bce5-44c0-8e51-784f5f3f4ffb",
   "metadata": {},
   "source": [
    "## 各基金会旗下项目OpenRank TOP 10 榜单"
   ]
  },
  {
   "cell_type": "markdown",
   "id": "7ae3542b-f630-41bf-86b8-9842482a4116",
   "metadata": {},
   "source": [
    "### CNCF"
   ]
  },
  {
   "cell_type": "code",
   "execution_count": 8,
   "id": "07aa63b1-0af3-4410-97f5-33da46c3e27f",
   "metadata": {},
   "outputs": [
    {
     "name": "stdout",
     "output_type": "stream",
     "text": [
      "┌─────────┬─────────────┬──────────┬──────────────────────────────────────────────────┬─────────────┐\n",
      "│ (index) │     id      │ platform │                       name                       │  openrank   │\n",
      "├─────────┼─────────────┼──────────┼──────────────────────────────────────────────────┼─────────────┤\n",
      "│    0    │ '20580498'  │ 'GitHub' │             'kubernetes/kubernetes'              │ [ 3924.93 ] │\n",
      "│    1    │ '48109239'  │ 'GitHub' │                 'cilium/cilium'                  │ [ 2842.98 ] │\n",
      "│    2    │ '11125589'  │ 'GitHub' │               'keycloak/keycloak'                │ [ 2687.79 ] │\n",
      "│    3    │ '236095576' │ 'GitHub' │              'backstage/backstage'               │ [ 2573.87 ] │\n",
      "│    4    │ '65214191'  │ 'GitHub' │                'envoyproxy/envoy'                │ [ 2431.95 ] │\n",
      "│    5    │ '51478266'  │ 'GitHub' │               'kubernetes/website'               │ [ 2238.74 ] │\n",
      "│    6    │ '196414933' │ 'GitHub' │ 'open-telemetry/opentelemetry-collector-contrib' │ [ 2064.27 ] │\n",
      "│    7    │ '120896210' │ 'GitHub' │                'argoproj/argo-cd'                │ [ 1791.63 ] │\n",
      "│    8    │ '74175805'  │ 'GitHub' │                  'istio/istio'                   │  [ 1609 ]   │\n",
      "│    9    │ '76686583'  │ 'GitHub' │               'kubevirt/kubevirt'                │ [ 1277.57 ] │\n",
      "└─────────┴─────────────┴──────────┴──────────────────────────────────────────────────┴─────────────┘\n"
     ]
    }
   ],
   "source": [
    "openDigger.index.openrank.getRepoOpenrank({\n",
    "    labelUnion: [':foundations/linux_foundation/cncf'],\n",
    "    startYear: year, endYear: year, startMonth: 1, endMonth: 12,\n",
    "    groupTimeRange: 'year', limit: 10, order: 'DESC',\n",
    "}).then(data => console.table(data));"
   ]
  },
  {
   "cell_type": "markdown",
   "id": "6d06808a-4eac-4604-864e-d7b69ea6e905",
   "metadata": {},
   "source": [
    "### lfai"
   ]
  },
  {
   "cell_type": "code",
   "execution_count": 9,
   "id": "473bf4b1-834a-4e1e-82fb-c7ea2b725bde",
   "metadata": {},
   "outputs": [
    {
     "name": "stdout",
     "output_type": "stream",
     "text": [
      "┌─────────┬─────────────┬──────────┬───────────────────────────┬─────────────┐\n",
      "│ (index) │     id      │ platform │           name            │  openrank   │\n",
      "├─────────┼─────────────┼──────────┼───────────────────────────┼─────────────┤\n",
      "│    0    │ '208728772' │ 'GitHub' │    'milvus-io/milvus'     │ [ 1955.52 ] │\n",
      "│    1    │ '182849188' │ 'GitHub' │     'delta-io/delta'      │ [ 845.73 ]  │\n",
      "│    2    │ '216628419' │ 'GitHub' │     'flyteorg/flyte'      │ [ 634.85 ]  │\n",
      "│    3    │ '203634431' │ 'GitHub' │    'flyteorg/flytekit'    │ [ 494.36 ]  │\n",
      "│    4    │ '182067506' │ 'GitHub' │     'kedro-org/kedro'     │ [ 374.19 ]  │\n",
      "│    5    │ '178075572' │ 'GitHub' │      'kserve/kserve'      │ [ 370.36 ]  │\n",
      "│    6    │ '241400276' │ 'GitHub' │     'onnx/onnx-mlir'      │ [ 354.37 ]  │\n",
      "│    7    │ '258933250' │ 'GitHub' │    'delta-io/delta-rs'    │ [ 352.64 ]  │\n",
      "│    8    │ '161133770' │ 'GitHub' │     'feast-dev/feast'     │ [ 342.22 ]  │\n",
      "│    9    │ '306977038' │ 'GitHub' │ 'OpenLineage/OpenLineage' │ [ 332.92 ]  │\n",
      "└─────────┴─────────────┴──────────┴───────────────────────────┴─────────────┘\n"
     ]
    }
   ],
   "source": [
    "openDigger.index.openrank.getRepoOpenrank({\n",
    "    labelUnion: [':foundations/linux_foundation/lfai'],\n",
    "    startYear: year, endYear: year, startMonth: 1, endMonth: 12,\n",
    "    groupTimeRange: 'year', limit: 10, order: 'DESC',\n",
    "}).then(data => console.table(data));"
   ]
  },
  {
   "cell_type": "markdown",
   "id": "e6d2bb23-0157-4bcd-8fe4-8d02cb9c9740",
   "metadata": {},
   "source": [
    "### OpenAtom"
   ]
  },
  {
   "cell_type": "code",
   "execution_count": 10,
   "id": "f679febc-07be-4818-9182-e100e6ace057",
   "metadata": {},
   "outputs": [
    {
     "name": "stdout",
     "output_type": "stream",
     "text": [
      "┌─────────┬────────────────────────────────────┬──────────┬───────────────┬──────────────┐\n",
      "│ (index) │                 id                 │ platform │     name      │   openrank   │\n",
      "├─────────┼────────────────────────────────────┼──────────┼───────────────┼──────────────┤\n",
      "│    0    │  ':companies/huawei/openharmony'   │  'All'   │ 'OpenHarmony' │ [ 67975.58 ] │\n",
      "│    1    │   ':companies/huawei/openeuler'    │  'All'   │  'openEuler'  │ [ 24874.03 ] │\n",
      "│    2    │    ':companies/alibaba/anolis'     │  'All'   │  'Anolis OS'  │ [ 4436.64 ]  │\n",
      "│    3    │  ':companies/openkylin/openkylin'  │  'All'   │  'openKylin'  │ [ 4258.34 ]  │\n",
      "│    4    │    ':foundations/openatom/taro'    │  'All'   │    'Taro'     │  [ 628.48 ]  │\n",
      "│    5    │    ':foundations/openatom/ubml'    │  'All'   │    'UBML'     │  [ 418.35 ]  │\n",
      "│    6    │     ':companies/360/pikiwidb'      │  'All'   │  'PikiwiDB'   │  [ 299.21 ]  │\n",
      "│    7    │ ':foundations/openatom/open_solon' │  'All'   │  'OpenSolon'  │  [ 184.84 ]  │\n",
      "│    8    │              'Others'              │  'All'   │   'Others'    │  [ 179.06 ]  │\n",
      "│    9    │   ':companies/antgroup/tongsuo'    │  'All'   │   'Tongsuo'   │  [ 160.58 ]  │\n",
      "└─────────┴────────────────────────────────────┴──────────┴───────────────┴──────────────┘\n"
     ]
    }
   ],
   "source": [
    "openDigger.index.openrank.getRepoOpenrank({\n",
    "    labelUnion: [':foundations/openatom'],\n",
    "    startYear: year, endYear: year, startMonth: 1, endMonth: 12,groupBy: 'Project',\n",
    "    groupTimeRange: 'year', limit: 10, order: 'DESC',\n",
    "}).then(data => console.table(data));"
   ]
  },
  {
   "cell_type": "markdown",
   "id": "d906aa82-ab2a-4bbd-a4a7-2501cd596849",
   "metadata": {},
   "source": [
    "### Apache"
   ]
  },
  {
   "cell_type": "code",
   "execution_count": 11,
   "id": "a9f3d383-fad0-45e4-a138-a2741b31d3c8",
   "metadata": {},
   "outputs": [
    {
     "name": "stdout",
     "output_type": "stream",
     "text": [
      "┌─────────┬─────────────┬──────────┬─────────────────────┬─────────────┐\n",
      "│ (index) │     id      │ platform │        name         │  openrank   │\n",
      "├─────────┼─────────────┼──────────┼─────────────────────┼─────────────┤\n",
      "│    0    │ '99919302'  │ 'GitHub' │   'apache/doris'    │ [ 3965.48 ] │\n",
      "│    1    │ '33884891'  │ 'GitHub' │  'apache/airflow'   │ [ 2867.69 ] │\n",
      "│    2    │ '17165658'  │ 'GitHub' │   'apache/spark'    │ [ 2485.28 ] │\n",
      "│    3    │  '2211243'  │ 'GitHub' │   'apache/kafka'    │ [ 2045.68 ] │\n",
      "│    4    │ '39464018'  │ 'GitHub' │  'apache/superset'  │ [ 1695.89 ] │\n",
      "│    5    │ '51905353'  │ 'GitHub' │   'apache/arrow'    │ [ 1602.44 ] │\n",
      "│    6    │ '358917318' │ 'GitHub' │ 'apache/datafusion' │ [ 1446.31 ] │\n",
      "│    7    │ '228103273' │ 'GitHub' │   'apache/nuttx'    │ [ 1423.35 ] │\n",
      "│    8    │ '20587599'  │ 'GitHub' │   'apache/flink'    │ [ 1390.9 ]  │\n",
      "│    9    │ '50904245'  │ 'GitHub' │    'apache/beam'    │ [ 1374.39 ] │\n",
      "└─────────┴─────────────┴──────────┴─────────────────────┴─────────────┘\n"
     ]
    }
   ],
   "source": [
    "openDigger.index.openrank.getRepoOpenrank({\n",
    "    labelUnion: [':foundations/apache'],\n",
    "    startYear: year, endYear: year, startMonth: 1, endMonth: 12,\n",
    "    groupTimeRange: 'year', limit: 10, order: 'DESC',\n",
    "}).then(data => console.table(data));"
   ]
  },
  {
   "cell_type": "markdown",
   "id": "1128305f-b42d-468c-9dd9-7543d5480001",
   "metadata": {},
   "source": [
    "### Eclipse"
   ]
  },
  {
   "cell_type": "code",
   "execution_count": 12,
   "id": "27ba3be8-a461-44df-8087-5bbfeb185665",
   "metadata": {},
   "outputs": [
    {
     "name": "stdout",
     "output_type": "stream",
     "text": [
      "┌─────────┬─────────────┬──────────┬──────────────────────────────────┬────────────┐\n",
      "│ (index) │     id      │ platform │               name               │  openrank  │\n",
      "├─────────┼─────────────┼──────────┼──────────────────────────────────┼────────────┤\n",
      "│    0    │ '53077478'  │ 'GitHub' │          'eclipse/omr'           │ [ 164.79 ] │\n",
      "│    1    │ '15237269'  │ 'GitHub' │          'eclipse/kura'          │ [ 152.37 ] │\n",
      "│    2    │ '70921758'  │ 'GitHub' │         'eclipse/kapua'          │ [ 131.97 ] │\n",
      "│    3    │ '35426931'  │ 'GitHub' │       'eclipse/dirigible'        │ [ 127.2 ]  │\n",
      "│    4    │ '45860898'  │ 'GitHub' │        'eclipse/hawkbit'         │ [ 120.21 ] │\n",
      "│    5    │  '1553758'  │ 'GitHub' │         'eclipse/xtext'          │ [ 109.38 ] │\n",
      "│    6    │ '53614190'  │ 'GitHub' │       'eclipse/mosquitto'        │ [ 80.88 ]  │\n",
      "│    7    │ '161500892' │ 'GitHub' │ 'eclipse/microprofile-marketing' │ [ 80.43 ]  │\n",
      "│    8    │ '259645903' │ 'GitHub' │      'eclipse/kiso-testing'      │ [ 67.84 ]  │\n",
      "│    9    │ '226955212' │ 'GitHub' │        'eclipse/openvsx'         │ [ 67.29 ]  │\n",
      "└─────────┴─────────────┴──────────┴──────────────────────────────────┴────────────┘\n"
     ]
    }
   ],
   "source": [
    "openDigger.index.openrank.getRepoOpenrank({\n",
    "    labelUnion: [':foundations/eclipse'],\n",
    "    startYear: year, endYear: year, startMonth: 1, endMonth: 12,\n",
    "    groupTimeRange: 'year', limit: 10, order: 'DESC',\n",
    "}).then(data => console.table(data));"
   ]
  },
  {
   "cell_type": "markdown",
   "id": "b8942770-8b1b-4bdf-b58b-4ddc0178054a",
   "metadata": {},
   "source": [
    "### OpenInfra"
   ]
  },
  {
   "cell_type": "code",
   "execution_count": 13,
   "id": "acb4f00a-91ad-4156-90af-57307979786e",
   "metadata": {},
   "outputs": [
    {
     "name": "stdout",
     "output_type": "stream",
     "text": [
      "┌─────────┬─────────────┬──────────┬─────────────────────────────────────────────┬────────────┐\n",
      "│ (index) │     id      │ platform │                    name                     │  openrank  │\n",
      "├─────────┼─────────────┼──────────┼─────────────────────────────────────────────┼────────────┤\n",
      "│    0    │ '113404957' │ 'GitHub' │      'kata-containers/kata-containers'      │ [ 825.13 ] │\n",
      "│    1    │ '113113705' │ 'GitHub' │         'kata-containers/community'         │ [ 25.71 ]  │\n",
      "│    2    │  '5320283'  │ 'GitHub' │          'openstack/requirements'           │  [ 14.4 ]  │\n",
      "│    3    │ '73831397'  │ 'GitHub' │          'openstack/kolla-ansible'          │ [ 12.55 ]  │\n",
      "│    4    │ '863635352' │ 'GitHub' │ 'kata-containers/kata-containers.github.io' │ [ 11.07 ]  │\n",
      "│    5    │ '112949842' │ 'GitHub' │   'kata-containers/www.katacontainers.io'   │ [ 10.71 ]  │\n",
      "│    6    │ '110539912' │ 'GitHub' │           'kata-containers/tests'           │  [ 8.48 ]  │\n",
      "│    7    │ '293399774' │ 'GitHub' │        'kata-containers/cgroups-rs'         │  [ 6.3 ]   │\n",
      "│    8    │  '6929734'  │ 'GitHub' │             'openstack/cinder'              │  [ 6.24 ]  │\n",
      "│    9    │  '790019'   │ 'GitHub' │              'openstack/swift'              │  [ 6.09 ]  │\n",
      "└─────────┴─────────────┴──────────┴─────────────────────────────────────────────┴────────────┘\n"
     ]
    }
   ],
   "source": [
    "openDigger.index.openrank.getRepoOpenrank({\n",
    "    labelUnion: [':foundations/openinfra'],\n",
    "    startYear: year, endYear: year, startMonth: 1, endMonth: 12,\n",
    "    groupTimeRange: 'year', limit: 10, order: 'DESC',\n",
    "}).then(data => console.table(data));"
   ]
  },
  {
   "cell_type": "markdown",
   "id": "4c63c2d5-a950-4854-baf9-892c5ff07e98",
   "metadata": {},
   "source": [
    "### OpenJs"
   ]
  },
  {
   "cell_type": "code",
   "execution_count": 14,
   "id": "10b4f56f-8471-4053-a69a-687407c356be",
   "metadata": {},
   "outputs": [
    {
     "name": "stdout",
     "output_type": "stream",
     "text": [
      "┌─────────┬─────────────┬──────────┬────────────────────────────────────────────┬──────────────┐\n",
      "│ (index) │     id      │ platform │                    name                    │   openrank   │\n",
      "├─────────┼─────────────┼──────────┼────────────────────────────────────────────┼──────────────┤\n",
      "│    0    │ '736802660' │ 'GitHub' │            'ghscr/ghscription'             │ [ 26226.44 ] │\n",
      "│    1    │  '4542716'  │ 'GitHub' │              'NixOS/nixpkgs'               │ [ 23345.3 ]  │\n",
      "│    2    │ '75821432'  │ 'GitHub' │            'llvm/llvm-project'             │ [ 20074.69 ] │\n",
      "│    3    │ '12888993'  │ 'GitHub' │           'home-assistant/core'            │ [ 12781.62 ] │\n",
      "│    4    │ '65600975'  │ 'GitHub' │             'pytorch/pytorch'              │ [ 11303.04 ] │\n",
      "│    5    │ '632909818' │ 'GitHub' │ 'digitalinnovationone/dio-lab-open-source' │ [ 10589.86 ] │\n",
      "│    6    │ '19745004'  │ 'GitHub' │                'odoo/odoo'                 │ [ 10400.72 ] │\n",
      "│    7    │ '41881900'  │ 'GitHub' │             'microsoft/vscode'             │ [ 9876.05 ]  │\n",
      "│    8    │ '808144141' │ 'GitHub' │        'DigitalPlatDev/FreeDomain'         │ [ 9207.61 ]  │\n",
      "│    9    │ '59771425'  │ 'GitHub' │        'zephyrproject-rtos/zephyr'         │ [ 8445.03 ]  │\n",
      "└─────────┴─────────────┴──────────┴────────────────────────────────────────────┴──────────────┘\n"
     ]
    }
   ],
   "source": [
    "openDigger.index.openrank.getRepoOpenrank({\n",
    "    labelUnion: [':foundations/openjs'],\n",
    "    startYear: year, endYear: year, startMonth: 1, endMonth: 12,\n",
    "    groupTimeRange: 'year', limit: 10, order: 'DESC',\n",
    "}).then(data => console.table(data));"
   ]
  },
  {
   "cell_type": "markdown",
   "id": "3eeee08a-be7a-4f70-ab6b-15e9c93366c3",
   "metadata": {},
   "source": [
    "## 近5年各基金会旗下项目OpenRank变化趋势"
   ]
  },
  {
   "cell_type": "code",
   "execution_count": 15,
   "id": "87cfdc5e",
   "metadata": {},
   "outputs": [],
   "source": [
    "var processTechFieldData = (label, title) => {\n",
    "    var years = [2020, 2021, 2022, 2023, 2024];\n",
    "    openDigger.index.openrank.getRepoOpenrank({\n",
    "        ...baseOptions, labelIntersect: [label], limit: 20\n",
    "    }).then(data => {\n",
    "        openDigger.render.plotly(data.map(row => {\n",
    "            return {\n",
    "                x: years,\n",
    "                y: row.openrank,\n",
    "                name: row.name\n",
    "            };\n",
    "        }), {title: `OpenRank of ${title} 2020-2024`});\n",
    "    });\n",
    "};"
   ]
  },
  {
   "cell_type": "markdown",
   "id": "d570a66a",
   "metadata": {},
   "source": [
    "### CNCF"
   ]
  },
  {
   "cell_type": "code",
   "execution_count": 16,
   "id": "cf4625e7",
   "metadata": {},
   "outputs": [
    {
     "data": {
      "application/vnd.plotly.v1+json": {
       "data": [
        {
         "name": "kubernetes/kubernetes",
         "x": [
          2020,
          2021,
          2022,
          2023,
          2024
         ],
         "y": [
          6635.27,
          6063.09,
          4422.02,
          4442.18,
          3924.93
         ]
        },
        {
         "name": "cilium/cilium",
         "x": [
          2020,
          2021,
          2022,
          2023,
          2024
         ],
         "y": [
          1455.35,
          1575.86,
          1789.09,
          2825.33,
          2842.98
         ]
        },
        {
         "name": "keycloak/keycloak",
         "x": [
          2020,
          2021,
          2022,
          2023,
          2024
         ],
         "y": [
          697.67,
          726.79,
          1633.27,
          2441.1,
          2687.79
         ]
        },
        {
         "name": "backstage/backstage",
         "x": [
          2020,
          2021,
          2022,
          2023,
          2024
         ],
         "y": [
          238.49,
          1961.32,
          2570.9,
          2706.48,
          2573.87
         ]
        },
        {
         "name": "envoyproxy/envoy",
         "x": [
          2020,
          2021,
          2022,
          2023,
          2024
         ],
         "y": [
          2545.62,
          2633.19,
          2407.59,
          2555.24,
          2431.95
         ]
        },
        {
         "name": "kubernetes/website",
         "x": [
          2020,
          2021,
          2022,
          2023,
          2024
         ],
         "y": [
          3203.2,
          2527.16,
          2822.68,
          2669.5,
          2238.74
         ]
        },
        {
         "name": "open-telemetry/opentelemetry-collector-contrib",
         "x": [
          2020,
          2021,
          2022,
          2023,
          2024
         ],
         "y": [
          318.96,
          768.26,
          1387.56,
          1870.26,
          2064.27
         ]
        },
        {
         "name": "argoproj/argo-cd",
         "x": [
          2020,
          2021,
          2022,
          2023,
          2024
         ],
         "y": [
          915.87,
          1060.01,
          1508.27,
          1785.5,
          1791.63
         ]
        },
        {
         "name": "istio/istio",
         "x": [
          2020,
          2021,
          2022,
          2023,
          2024
         ],
         "y": [
          3356.89,
          2572.42,
          1917.71,
          1702.48,
          1609
         ]
        },
        {
         "name": "kubevirt/kubevirt",
         "x": [
          2020,
          2021,
          2022,
          2023,
          2024
         ],
         "y": [
          783.13,
          1115.92,
          1149.8,
          1108.34,
          1277.57
         ]
        },
        {
         "name": "grpc/grpc",
         "x": [
          2020,
          2021,
          2022,
          2023,
          2024
         ],
         "y": [
          1492.78,
          1255.6,
          1237.91,
          1257.03,
          962.45
         ]
        },
        {
         "name": "prometheus/prometheus",
         "x": [
          2020,
          2021,
          2022,
          2023,
          2024
         ],
         "y": [
          1001.55,
          775.66,
          605.65,
          580.18,
          852.76
         ]
        },
        {
         "name": "envoyproxy/gateway",
         "x": [
          2020,
          2021,
          2022,
          2023,
          2024
         ],
         "y": [
          0,
          0,
          165.32,
          405.67,
          776.95
         ]
        },
        {
         "name": "argoproj/argo-workflows",
         "x": [
          2020,
          2021,
          2022,
          2023,
          2024
         ],
         "y": [
          1076.42,
          1024.05,
          949.49,
          744.82,
          767.25
         ]
        },
        {
         "name": "open-telemetry/opentelemetry.io",
         "x": [
          2020,
          2021,
          2022,
          2023,
          2024
         ],
         "y": [
          66.86,
          139.92,
          304.88,
          510.53,
          731.27
         ]
        },
        {
         "name": "kubernetes/enhancements",
         "x": [
          2020,
          2021,
          2022,
          2023,
          2024
         ],
         "y": [
          791.25,
          858.52,
          661.22,
          684.97,
          713.44
         ]
        },
        {
         "name": "kubernetes/autoscaler",
         "x": [
          2020,
          2021,
          2022,
          2023,
          2024
         ],
         "y": [
          550.69,
          495.55,
          516.68,
          616.16,
          685.54
         ]
        },
        {
         "name": "vitessio/vitess",
         "x": [
          2020,
          2021,
          2022,
          2023,
          2024
         ],
         "y": [
          602.98,
          724.01,
          707.13,
          720.42,
          669.74
         ]
        },
        {
         "name": "karmada-io/karmada",
         "x": [
          2020,
          2021,
          2022,
          2023,
          2024
         ],
         "y": [
          0,
          297.66,
          759.17,
          679.65,
          667.61
         ]
        },
        {
         "name": "kubernetes/minikube",
         "x": [
          2020,
          2021,
          2022,
          2023,
          2024
         ],
         "y": [
          1415.13,
          1163.64,
          912.45,
          700.21,
          666.57
         ]
        }
       ],
       "layout": {
        "autosize": true,
        "title": {
         "text": "OpenRank of CNCF 2020-2024"
        },
        "xaxis": {
         "autorange": true,
         "range": [
          2019.743399339934,
          2024.256600660066
         ],
         "type": "linear"
        },
        "yaxis": {
         "autorange": true,
         "range": [
          -547.5708252427185,
          7182.840825242719
         ],
         "type": "linear"
        }
       }
      },
      "image/png": "[encoded data removed]"
     },
     "execution_count": 16,
     "metadata": {},
     "output_type": "execute_result"
    }
   ],
   "source": [
    "processTechFieldData(':foundations/linux_foundation/cncf', 'CNCF');"
   ]
  },
  {
   "cell_type": "markdown",
   "id": "25b4311c",
   "metadata": {},
   "source": [
    "### lfai"
   ]
  },
  {
   "cell_type": "code",
   "execution_count": 17,
   "id": "596bd89f",
   "metadata": {},
   "outputs": [
    {
     "data": {
      "application/vnd.plotly.v1+json": {
       "data": [
        {
         "name": "milvus-io/milvus",
         "x": [
          2020,
          2021,
          2022,
          2023,
          2024
         ],
         "y": [
          663.66,
          943.65,
          1345.49,
          1741.56,
          1955.52
         ]
        },
        {
         "name": "delta-io/delta",
         "x": [
          2020,
          2021,
          2022,
          2023,
          2024
         ],
         "y": [
          222.7,
          177.62,
          379.98,
          518.57,
          845.73
         ]
        },
        {
         "name": "flyteorg/flyte",
         "x": [
          2020,
          2021,
          2022,
          2023,
          2024
         ],
         "y": [
          0,
          218.22,
          294.13,
          413.69,
          634.85
         ]
        },
        {
         "name": "flyteorg/flytekit",
         "x": [
          2020,
          2021,
          2022,
          2023,
          2024
         ],
         "y": [
          0,
          153.31,
          178.05,
          288.78,
          494.36
         ]
        },
        {
         "name": "kedro-org/kedro",
         "x": [
          2020,
          2021,
          2022,
          2023,
          2024
         ],
         "y": [
          0,
          0,
          374.19,
          486.66,
          374.19
         ]
        },
        {
         "name": "kserve/kserve",
         "x": [
          2020,
          2021,
          2022,
          2023,
          2024
         ],
         "y": [
          0,
          87.5,
          340.23,
          319.21,
          370.36
         ]
        },
        {
         "name": "onnx/onnx-mlir",
         "x": [
          2020,
          2021,
          2022,
          2023,
          2024
         ],
         "y": [
          218.88,
          362.09,
          509.26,
          514.98,
          354.37
         ]
        },
        {
         "name": "delta-io/delta-rs",
         "x": [
          2020,
          2021,
          2022,
          2023,
          2024
         ],
         "y": [
          11.31,
          131.84,
          133.15,
          262.04,
          352.64
         ]
        },
        {
         "name": "feast-dev/feast",
         "x": [
          2020,
          2021,
          2022,
          2023,
          2024
         ],
         "y": [
          267.85,
          380.34,
          479.52,
          246.49,
          342.22
         ]
        },
        {
         "name": "OpenLineage/OpenLineage",
         "x": [
          2020,
          2021,
          2022,
          2023,
          2024
         ],
         "y": [
          2.93,
          96.04,
          284.98,
          252.01,
          332.92
         ]
        },
        {
         "name": "nnstreamer/nntrainer",
         "x": [
          2020,
          2021,
          2022,
          2023,
          2024
         ],
         "y": [
          118.98,
          228.53,
          165.63,
          213.89,
          329.76
         ]
        },
        {
         "name": "onnx/onnx",
         "x": [
          2020,
          2021,
          2022,
          2023,
          2024
         ],
         "y": [
          329.32,
          318.8,
          307.28,
          326.21,
          235.5
         ]
        },
        {
         "name": "kedro-org/kedro-viz",
         "x": [
          2020,
          2021,
          2022,
          2023,
          2024
         ],
         "y": [
          0,
          0,
          196.39,
          183.84,
          220.74
         ]
        },
        {
         "name": "FederatedAI/FATE",
         "x": [
          2020,
          2021,
          2022,
          2023,
          2024
         ],
         "y": [
          494.79,
          389.51,
          393.3,
          319.19,
          200.25
         ]
        },
        {
         "name": "kedro-org/kedro-plugins",
         "x": [
          2020,
          2021,
          2022,
          2023,
          2024
         ],
         "y": [
          0,
          0,
          41.01,
          137.14,
          176.66
         ]
        },
        {
         "name": "milvus-io/milvus-docs",
         "x": [
          2020,
          2021,
          2022,
          2023,
          2024
         ],
         "y": [
          0,
          63.03,
          129.72,
          105.55,
          166.76
         ]
        },
        {
         "name": "nnstreamer/nnstreamer",
         "x": [
          2020,
          2021,
          2022,
          2023,
          2024
         ],
         "y": [
          239.65,
          250.67,
          186.87,
          175.93,
          148.35
         ]
        },
        {
         "name": "milvus-io/pymilvus",
         "x": [
          2020,
          2021,
          2022,
          2023,
          2024
         ],
         "y": [
          47.37,
          74.27,
          80.73,
          122.87,
          139.98
         ]
        },
        {
         "name": "JanusGraph/janusgraph",
         "x": [
          2020,
          2021,
          2022,
          2023,
          2024
         ],
         "y": [
          206.76,
          187.78,
          122.52,
          149.8,
          134.59
         ]
        },
        {
         "name": "MarquezProject/marquez",
         "x": [
          2020,
          2021,
          2022,
          2023,
          2024
         ],
         "y": [
          63.75,
          143.18,
          134.87,
          139.86,
          132.69
         ]
        }
       ],
       "layout": {
        "autosize": true,
        "title": {
         "text": "OpenRank of lfai 2020-2024"
        },
        "xaxis": {
         "autorange": true,
         "range": [
          2019.7499164159144,
          2024.2500835840856
         ],
         "type": "linear"
        },
        "yaxis": {
         "autorange": true,
         "range": [
          -161.3778640776699,
          2116.89786407767
         ],
         "type": "linear"
        }
       }
      },
      "image/png": "[encoded data removed]"
     },
     "execution_count": 17,
     "metadata": {},
     "output_type": "execute_result"
    }
   ],
   "source": [
    "processTechFieldData(':foundations/linux_foundation/lfai', 'lfai');"
   ]
  },
  {
   "cell_type": "markdown",
   "id": "1b74a531",
   "metadata": {},
   "source": [
    "### OpenAtom"
   ]
  },
  {
   "cell_type": "code",
   "execution_count": 18,
   "id": "b00b899b",
   "metadata": {},
   "outputs": [
    {
     "data": {
      "application/vnd.plotly.v1+json": {
       "data": [
        {
         "name": "OpenHarmony",
         "x": [
          2020,
          2021,
          2022,
          2023,
          2024
         ],
         "y": [
          181.38,
          5298.34,
          28241.13,
          38824.59,
          67975.58
         ]
        },
        {
         "name": "openEuler",
         "x": [
          2020,
          2021,
          2022,
          2023,
          2024
         ],
         "y": [
          4784.04,
          10166.61,
          16407.89,
          22046.2,
          24874.03
         ]
        },
        {
         "name": "Anolis OS",
         "x": [
          2020,
          2021,
          2022,
          2023,
          2024
         ],
         "y": [
          0,
          45.72,
          2518.51,
          4491.63,
          4436.64
         ]
        },
        {
         "name": "openKylin",
         "x": [
          2020,
          2021,
          2022,
          2023,
          2024
         ],
         "y": [
          0,
          2.86,
          718.01,
          4102.34,
          4258.34
         ]
        },
        {
         "name": "Taro",
         "x": [
          2020,
          2021,
          2022,
          2023,
          2024
         ],
         "y": [
          1566.94,
          1040.76,
          923.01,
          931.52,
          628.48
         ]
        },
        {
         "name": "UBML",
         "x": [
          2020,
          2021,
          2022,
          2023,
          2024
         ],
         "y": [
          0,
          31.98,
          66.84,
          242.06,
          418.35
         ]
        },
        {
         "name": "PikiwiDB",
         "x": [
          2020,
          2021,
          2022,
          2023,
          2024
         ],
         "y": [
          100.75,
          61.37,
          45.02,
          230,
          299.21
         ]
        },
        {
         "name": "OpenSolon",
         "x": [
          2020,
          2021,
          2022,
          2023,
          2024
         ],
         "y": [
          0,
          20.67,
          51.67,
          116.16,
          184.84
         ]
        },
        {
         "name": "Others",
         "x": [
          2020,
          2021,
          2022,
          2023,
          2024
         ],
         "y": [
          0,
          0,
          5.16,
          43.92,
          179.06
         ]
        },
        {
         "name": "Tongsuo",
         "x": [
          2020,
          2021,
          2022,
          2023,
          2024
         ],
         "y": [
          0,
          0,
          89.76,
          190.79,
          160.58
         ]
        },
        {
         "name": "KWDB",
         "x": [
          2020,
          2021,
          2022,
          2023,
          2024
         ],
         "y": [
          0,
          0,
          0,
          0,
          154.99
         ]
        },
        {
         "name": "Codeya IDE",
         "x": [
          2020,
          2021,
          2022,
          2023,
          2024
         ],
         "y": [
          0,
          0,
          0,
          24.52,
          126.28
         ]
        },
        {
         "name": "玲珑",
         "x": [
          2020,
          2021,
          2022,
          2023,
          2024
         ],
         "y": [
          0,
          0,
          2.57,
          26.72,
          119.88
         ]
        },
        {
         "name": "OpenTenBase",
         "x": [
          2020,
          2021,
          2022,
          2023,
          2024
         ],
         "y": [
          33.41,
          26.67,
          20.1,
          13.48,
          86.99
         ]
        },
        {
         "name": "Vearch",
         "x": [
          2020,
          2021,
          2022,
          2023,
          2024
         ],
         "y": [
          149.75,
          207.96,
          100.78,
          37.84,
          73.6
         ]
        },
        {
         "name": "OpenInula",
         "x": [
          2020,
          2021,
          2022,
          2023,
          2024
         ],
         "y": [
          0,
          0,
          0,
          38.79,
          70.23
         ]
        },
        {
         "name": "GreatSQL",
         "x": [
          2020,
          2021,
          2022,
          2023,
          2024
         ],
         "y": [
          0,
          5.08,
          26.11,
          49.87,
          67.01
         ]
        },
        {
         "name": "Kurator",
         "x": [
          2020,
          2021,
          2022,
          2023,
          2024
         ],
         "y": [
          0,
          0,
          44.53,
          132.53,
          58.38
         ]
        },
        {
         "name": "hapjs",
         "x": [
          2020,
          2021,
          2022,
          2023,
          2024
         ],
         "y": [
          0,
          0,
          84.62,
          118.12,
          48.38
         ]
        },
        {
         "name": "OpenCloudOS",
         "x": [
          2020,
          2021,
          2022,
          2023,
          2024
         ],
         "y": [
          0,
          1.73,
          87.77,
          107.25,
          43.74
         ]
        },
        {
         "name": "狮偶",
         "x": [
          2020,
          2021,
          2022,
          2023,
          2024
         ],
         "y": [
          0,
          10.47,
          59.98,
          30.07,
          37.76
         ]
        },
        {
         "name": "TKEStack",
         "x": [
          2020,
          2021,
          2022,
          2023,
          2024
         ],
         "y": [
          500.9,
          526.97,
          318.26,
          112.82,
          32.87
         ]
        },
        {
         "name": "OpenNJet",
         "x": [
          2020,
          2021,
          2022,
          2023,
          2024
         ],
         "y": [
          0,
          0,
          0,
          18.79,
          19.49
         ]
        },
        {
         "name": "XuperCore",
         "x": [
          2020,
          2021,
          2022,
          2023,
          2024
         ],
         "y": [
          252.19,
          265.81,
          263.14,
          108.31,
          16.06
         ]
        },
        {
         "name": "MiniBlink",
         "x": [
          2020,
          2021,
          2022,
          2023,
          2024
         ],
         "y": [
          50.84,
          24.68,
          14,
          9.16,
          15.23
         ]
        },
        {
         "name": "Dora SSR",
         "x": [
          2020,
          2021,
          2022,
          2023,
          2024
         ],
         "y": [
          0.22,
          0,
          2.03,
          16.78,
          14.94
         ]
        },
        {
         "name": "OpenV2X",
         "x": [
          2020,
          2021,
          2022,
          2023,
          2024
         ],
         "y": [
          0,
          0,
          90.95,
          166.14,
          10.67
         ]
        },
        {
         "name": "OpenKona",
         "x": [
          2020,
          2021,
          2022,
          2023,
          2024
         ],
         "y": [
          9.38,
          41.93,
          29.91,
          25.94,
          10.46
         ]
        },
        {
         "name": "Carsmos",
         "x": [
          2020,
          2021,
          2022,
          2023,
          2024
         ],
         "y": [
          0,
          0,
          0,
          17.32,
          7.76
         ]
        },
        {
         "name": "Cloud HPC",
         "x": [
          2020,
          2021,
          2022,
          2023,
          2024
         ],
         "y": [
          0,
          0,
          0,
          19.14,
          4.82
         ]
        },
        {
         "name": "MetaToC",
         "x": [
          2020,
          2021,
          2022,
          2023,
          2024
         ],
         "y": [
          0,
          0,
          18.59,
          25.11,
          2.28
         ]
        },
        {
         "name": "AliOS Things",
         "x": [
          2020,
          2021,
          2022,
          2023,
          2024
         ],
         "y": [
          67.97,
          40.84,
          199.72,
          21.55,
          1.28
         ]
        },
        {
         "name": "TencentOS Tiny",
         "x": [
          2020,
          2021,
          2022,
          2023,
          2024
         ],
         "y": [
          98.4,
          47.52,
          26.13,
          24.56,
          0.94
         ]
        },
        {
         "name": "CrowdOS",
         "x": [
          2020,
          2021,
          2022,
          2023,
          2024
         ],
         "y": [
          0,
          0,
          0,
          0,
          0.37
         ]
        },
        {
         "name": "HyperBench",
         "x": [
          2020,
          2021,
          2022,
          2023,
          2024
         ],
         "y": [
          0,
          3.29,
          3.38,
          0.73,
          0.24
         ]
        },
        {
         "name": "SmartIDE",
         "x": [
          2020,
          2021,
          2022,
          2023,
          2024
         ],
         "y": [
          0,
          6.09,
          63.83,
          7.21,
          0.22
         ]
        },
        {
         "name": "RT-TKern",
         "x": [
          2020,
          2021,
          2022,
          2023,
          2024
         ],
         "y": [
          1.63,
          5.48,
          0.42,
          0,
          0.18
         ]
        },
        {
         "name": "ZTDBP",
         "x": [
          2020,
          2021,
          2022,
          2023,
          2024
         ],
         "y": [
          0,
          0,
          0,
          18.14,
          0
         ]
        },
        {
         "name": "EasyBaaS",
         "x": [
          2020,
          2021,
          2022,
          2023,
          2024
         ],
         "y": [
          0,
          0,
          0,
          0.62,
          0
         ]
        }
       ],
       "layout": {
        "autosize": true,
        "title": {
         "text": "OpenRank of OpenAtom Project 2020-2024"
        },
        "xaxis": {
         "autorange": true,
         "range": [
          -0.24756690997566916,
          4.247566909975669
         ],
         "type": "category"
        },
        "yaxis": {
         "autorange": true,
         "range": [
          -5609.635242718447,
          73585.21524271845
         ],
         "type": "linear"
        }
       }
      },
      "image/png": "[encoded data removed]"
     },
     "execution_count": 18,
     "metadata": {},
     "output_type": "execute_result"
    }
   ],
   "source": [
    "openDigger.index.openrank.getRepoOpenrank({\n",
    "    labelUnion: [':foundations/openatom'],\n",
    "    startYear: 2020, endYear: 2024, endMonth: 12,\n",
    "    groupBy: 'Project',\n",
    "    groupTimeRange: 'year',\n",
    "    order: 'DESC',\n",
    "    limit: -1\n",
    "}).then(data => {\n",
    "    // var data = data.filter(i => i.id.startsWith(':technology'));\n",
    "    openDigger.render.plotly(data.map(row => {\n",
    "        return {\n",
    "            x: years,\n",
    "            y: row.openrank,\n",
    "            name: row.name\n",
    "        };\n",
    "    }), {title: `OpenRank of OpenAtom Project 2020-2024`, xaxis: { type: 'category' }});\n",
    "})"
   ]
  },
  {
   "cell_type": "markdown",
   "id": "0f5f565f",
   "metadata": {},
   "source": [
    "### Apache"
   ]
  },
  {
   "cell_type": "code",
   "execution_count": 19,
   "id": "23fe84fc",
   "metadata": {},
   "outputs": [
    {
     "data": {
      "application/vnd.plotly.v1+json": {
       "data": [
        {
         "name": "apache/doris",
         "x": [
          2020,
          2021,
          2022,
          2023,
          2024
         ],
         "y": [
          894.83,
          835.53,
          2069.31,
          3860.91,
          3965.48
         ]
        },
        {
         "name": "apache/airflow",
         "x": [
          2020,
          2021,
          2022,
          2023,
          2024
         ],
         "y": [
          2072.85,
          2924.05,
          2716.74,
          2864.32,
          2867.69
         ]
        },
        {
         "name": "apache/spark",
         "x": [
          2020,
          2021,
          2022,
          2023,
          2024
         ],
         "y": [
          2734.85,
          2412.73,
          2187.92,
          2570.78,
          2485.28
         ]
        },
        {
         "name": "apache/kafka",
         "x": [
          2020,
          2021,
          2022,
          2023,
          2024
         ],
         "y": [
          1551.07,
          1457.59,
          1189.66,
          1644.91,
          2045.68
         ]
        },
        {
         "name": "apache/superset",
         "x": [
          2020,
          2021,
          2022,
          2023,
          2024
         ],
         "y": [
          1286.91,
          2000.65,
          1863.8,
          1670.45,
          1695.89
         ]
        },
        {
         "name": "apache/arrow",
         "x": [
          2020,
          2021,
          2022,
          2023,
          2024
         ],
         "y": [
          1264.39,
          1304.49,
          1454.97,
          1860.12,
          1602.44
         ]
        },
        {
         "name": "apache/arrow-datafusion",
         "x": [
          2020,
          2021,
          2022,
          2023,
          2024
         ],
         "y": [
          0,
          274.69,
          601.66,
          957.11,
          1446.31
         ]
        },
        {
         "name": "apache/nuttx",
         "x": [
          2020,
          2021,
          2022,
          2023,
          2024
         ],
         "y": [
          599.8,
          851.59,
          979.07,
          1334.87,
          1423.35
         ]
        },
        {
         "name": "apache/flink",
         "x": [
          2020,
          2021,
          2022,
          2023,
          2024
         ],
         "y": [
          2289.77,
          2188.18,
          2059.34,
          1658.51,
          1390.9
         ]
        },
        {
         "name": "apache/beam",
         "x": [
          2020,
          2021,
          2022,
          2023,
          2024
         ],
         "y": [
          2043.73,
          1742.7,
          2049.12,
          1867.82,
          1374.39
         ]
        },
        {
         "name": "apache/iceberg",
         "x": [
          2020,
          2021,
          2022,
          2023,
          2024
         ],
         "y": [
          710.54,
          1083.36,
          1485.28,
          1473.98,
          1348.23
         ]
        },
        {
         "name": "apache/hudi",
         "x": [
          2020,
          2021,
          2022,
          2023,
          2024
         ],
         "y": [
          858.17,
          1195.14,
          1828.44,
          1877.23,
          1229.99
         ]
        },
        {
         "name": "apache/pinot",
         "x": [
          2020,
          2021,
          2022,
          2023,
          2024
         ],
         "y": [
          799.28,
          986.02,
          1118.13,
          1238.12,
          1162.54
         ]
        },
        {
         "name": "apache/druid",
         "x": [
          2020,
          2021,
          2022,
          2023,
          2024
         ],
         "y": [
          832.97,
          923.04,
          938.83,
          1084.39,
          1105.11
         ]
        },
        {
         "name": "apache/ozone",
         "x": [
          2020,
          2021,
          2022,
          2023,
          2024
         ],
         "y": [
          841.12,
          921.51,
          949.42,
          1218.16,
          1103.78
         ]
        },
        {
         "name": "apache/cloudstack",
         "x": [
          2020,
          2021,
          2022,
          2023,
          2024
         ],
         "y": [
          557.65,
          899.43,
          899.42,
          926.63,
          1088.89
         ]
        },
        {
         "name": "apache/incubator-gluten",
         "x": [
          2020,
          2021,
          2022,
          2023,
          2024
         ],
         "y": [
          0,
          0,
          0,
          0,
          1042.47
         ]
        },
        {
         "name": "apache/shardingsphere",
         "x": [
          2020,
          2021,
          2022,
          2023,
          2024
         ],
         "y": [
          1250.27,
          1358.14,
          1735.15,
          1428.65,
          1039.95
         ]
        },
        {
         "name": "apache/seatunnel",
         "x": [
          2020,
          2021,
          2022,
          2023,
          2024
         ],
         "y": [
          0,
          22.83,
          672.97,
          922.7,
          953.81
         ]
        },
        {
         "name": "apache/iotdb",
         "x": [
          2020,
          2021,
          2022,
          2023,
          2024
         ],
         "y": [
          671.6,
          873.29,
          1278.08,
          1210.02,
          950.31
         ]
        }
       ],
       "layout": {
        "autosize": true,
        "title": {
         "text": "OpenRank of Apache 2020-2024"
        },
        "xaxis": {
         "autorange": true,
         "range": [
          2019.7502886359887,
          2024.2497113640113
         ],
         "type": "linear"
        },
        "yaxis": {
         "autorange": true,
         "range": [
          -327.24834951456313,
          4292.728349514563
         ],
         "type": "linear"
        }
       }
      },
      "image/png": "[encoded data removed]"
     },
     "execution_count": 19,
     "metadata": {},
     "output_type": "execute_result"
    }
   ],
   "source": [
    "processTechFieldData(':foundations/apache', 'Apache');"
   ]
  },
  {
   "cell_type": "markdown",
   "id": "84227883-6ca5-44ab-8133-89bdb28a1724",
   "metadata": {},
   "source": [
    "### Eclipse"
   ]
  },
  {
   "cell_type": "code",
   "execution_count": 20,
   "id": "c3c2d555-564a-4d2f-b098-56a09a30e071",
   "metadata": {},
   "outputs": [
    {
     "data": {
      "application/vnd.plotly.v1+json": {
       "data": [
        {
         "name": "eclipse/omr",
         "x": [
          2020,
          2021,
          2022,
          2023,
          2024
         ],
         "y": [
          601.65,
          327.02,
          356.15,
          257.6,
          164.79
         ]
        },
        {
         "name": "eclipse/kura",
         "x": [
          2020,
          2021,
          2022,
          2023,
          2024
         ],
         "y": [
          179.95,
          189.9,
          225.09,
          264.66,
          152.37
         ]
        },
        {
         "name": "eclipse/kapua",
         "x": [
          2020,
          2021,
          2022,
          2023,
          2024
         ],
         "y": [
          179.31,
          121.87,
          78.22,
          120.99,
          131.97
         ]
        },
        {
         "name": "eclipse/dirigible",
         "x": [
          2020,
          2021,
          2022,
          2023,
          2024
         ],
         "y": [
          77.73,
          103.87,
          174.55,
          121.32,
          127.2
         ]
        },
        {
         "name": "eclipse/hawkbit",
         "x": [
          2020,
          2021,
          2022,
          2023,
          2024
         ],
         "y": [
          165.26,
          153.72,
          70.99,
          145.15,
          120.21
         ]
        },
        {
         "name": "eclipse/xtext",
         "x": [
          2020,
          2021,
          2022,
          2023,
          2024
         ],
         "y": [
          70.18,
          42.41,
          16.58,
          149.69,
          109.38
         ]
        },
        {
         "name": "eclipse/mosquitto",
         "x": [
          2020,
          2021,
          2022,
          2023,
          2024
         ],
         "y": [
          241.63,
          256.15,
          149.96,
          131.04,
          80.88
         ]
        },
        {
         "name": "eclipse/microprofile-marketing",
         "x": [
          2020,
          2021,
          2022,
          2023,
          2024
         ],
         "y": [
          70.59,
          122.52,
          99.71,
          72.69,
          80.43
         ]
        },
        {
         "name": "eclipse/kiso-testing",
         "x": [
          2020,
          2021,
          2022,
          2023,
          2024
         ],
         "y": [
          0,
          5.37,
          131.85,
          167.25,
          67.84
         ]
        },
        {
         "name": "eclipse/openvsx",
         "x": [
          2020,
          2021,
          2022,
          2023,
          2024
         ],
         "y": [
          74.53,
          62.75,
          69.48,
          76.99,
          67.29
         ]
        },
        {
         "name": "eclipse/chemclipse",
         "x": [
          2020,
          2021,
          2022,
          2023,
          2024
         ],
         "y": [
          75.62,
          82.82,
          69.57,
          67,
          66.56
         ]
        },
        {
         "name": "eclipse/lsp4e",
         "x": [
          2020,
          2021,
          2022,
          2023,
          2024
         ],
         "y": [
          0,
          7.73,
          79.34,
          118.7,
          64
         ]
        },
        {
         "name": "eclipse/jkube",
         "x": [
          2020,
          2021,
          2022,
          2023,
          2024
         ],
         "y": [
          105.72,
          170.64,
          196.36,
          119.3,
          62.11
         ]
        },
        {
         "name": "eclipse/cloe",
         "x": [
          2020,
          2021,
          2022,
          2023,
          2024
         ],
         "y": [
          0,
          48.73,
          50.53,
          58.84,
          60.64
         ]
        },
        {
         "name": "eclipse/che",
         "x": [
          2020,
          2021,
          2022,
          2023,
          2024
         ],
         "y": [
          877.01,
          538.96,
          274.07,
          231.98,
          58.86
         ]
        },
        {
         "name": "eclipse/mosaic",
         "x": [
          2020,
          2021,
          2022,
          2023,
          2024
         ],
         "y": [
          10.95,
          71.75,
          73.83,
          62.18,
          56.4
         ]
        },
        {
         "name": "eclipse/paho.mqtt.python",
         "x": [
          2020,
          2021,
          2022,
          2023,
          2024
         ],
         "y": [
          40.13,
          54.61,
          28.81,
          35.7,
          54.91
         ]
        },
        {
         "name": "eclipse/eclipse-collections",
         "x": [
          2020,
          2021,
          2022,
          2023,
          2024
         ],
         "y": [
          155.35,
          83.42,
          111.12,
          61.21,
          51.48
         ]
        },
        {
         "name": "eclipse/elk",
         "x": [
          2020,
          2021,
          2022,
          2023,
          2024
         ],
         "y": [
          104.06,
          33.58,
          37.19,
          49.89,
          46.14
         ]
        },
        {
         "name": "eclipse/gef-classic",
         "x": [
          2020,
          2021,
          2022,
          2023,
          2024
         ],
         "y": [
          0,
          0.12,
          28,
          55.79,
          45.98
         ]
        }
       ],
       "layout": {
        "autosize": true,
        "title": {
         "text": "OpenRank of Eclipse 2020-2024"
        },
        "xaxis": {
         "autorange": true,
         "range": [
          2019.7489177489178,
          2024.2510822510822
         ],
         "type": "linear"
        },
        "yaxis": {
         "autorange": true,
         "range": [
          -72.37461165048543,
          949.3846116504855
         ],
         "type": "linear"
        }
       }
      },
      "image/png": "[encoded data removed]"
     },
     "execution_count": 20,
     "metadata": {},
     "output_type": "execute_result"
    }
   ],
   "source": [
    "processTechFieldData(':foundations/eclipse', 'Eclipse');"
   ]
  },
  {
   "cell_type": "markdown",
   "id": "170e85ff-3878-4452-8047-433c536d25aa",
   "metadata": {},
   "source": [
    "### OpenInfra"
   ]
  },
  {
   "cell_type": "code",
   "execution_count": 21,
   "id": "0c074d90-78de-4175-bac0-c878c91a3005",
   "metadata": {},
   "outputs": [
    {
     "data": {
      "application/vnd.plotly.v1+json": {
       "data": [
        {
         "name": "kata-containers/kata-containers",
         "x": [
          2020,
          2021,
          2022,
          2023,
          2024
         ],
         "y": [
          267.4,
          727.33,
          963.73,
          1115.2,
          825.13
         ]
        },
        {
         "name": "kata-containers/community",
         "x": [
          2020,
          2021,
          2022,
          2023,
          2024
         ],
         "y": [
          22.11,
          19.8,
          18.66,
          21.04,
          25.71
         ]
        },
        {
         "name": "openstack/requirements",
         "x": [
          2020,
          2021,
          2022,
          2023,
          2024
         ],
         "y": [
          0.28,
          8.53,
          13.89,
          17.79,
          14.4
         ]
        },
        {
         "name": "openstack/kolla-ansible",
         "x": [
          2020,
          2021,
          2022,
          2023,
          2024
         ],
         "y": [
          15.73,
          16.05,
          4.01,
          3.4,
          12.55
         ]
        },
        {
         "name": "kata-containers/kata-containers.github.io",
         "x": [
          2020,
          2021,
          2022,
          2023,
          2024
         ],
         "y": [
          0,
          0,
          0,
          0,
          11.07
         ]
        },
        {
         "name": "kata-containers/www.katacontainers.io",
         "x": [
          2020,
          2021,
          2022,
          2023,
          2024
         ],
         "y": [
          19.41,
          15.63,
          10.08,
          6.09,
          10.71
         ]
        },
        {
         "name": "kata-containers/tests",
         "x": [
          2020,
          2021,
          2022,
          2023,
          2024
         ],
         "y": [
          241.31,
          331.28,
          287.28,
          148.75,
          8.48
         ]
        },
        {
         "name": "kata-containers/cgroups-rs",
         "x": [
          2020,
          2021,
          2022,
          2023,
          2024
         ],
         "y": [
          6.02,
          19.98,
          10.29,
          18.37,
          6.3
         ]
        },
        {
         "name": "openstack/cinder",
         "x": [
          2020,
          2021,
          2022,
          2023,
          2024
         ],
         "y": [
          0,
          0.83,
          2.66,
          11.08,
          6.24
         ]
        },
        {
         "name": "openstack/swift",
         "x": [
          2020,
          2021,
          2022,
          2023,
          2024
         ],
         "y": [
          1.3,
          0.44,
          0.84,
          2.14,
          6.09
         ]
        },
        {
         "name": "openstack/manila",
         "x": [
          2020,
          2021,
          2022,
          2023,
          2024
         ],
         "y": [
          0.37,
          0.33,
          0,
          7.2,
          5.16
         ]
        },
        {
         "name": "openstack/neutron",
         "x": [
          2020,
          2021,
          2022,
          2023,
          2024
         ],
         "y": [
          6.07,
          4.76,
          5.38,
          0.19,
          4.99
         ]
        },
        {
         "name": "openstack/nova",
         "x": [
          2020,
          2021,
          2022,
          2023,
          2024
         ],
         "y": [
          0.32,
          9.02,
          5.16,
          9.16,
          4.29
         ]
        },
        {
         "name": "openstack/openstack-helm",
         "x": [
          2020,
          2021,
          2022,
          2023,
          2024
         ],
         "y": [
          3.31,
          0.65,
          0.52,
          0.71,
          4.05
         ]
        },
        {
         "name": "openstack/octavia",
         "x": [
          2020,
          2021,
          2022,
          2023,
          2024
         ],
         "y": [
          0.28,
          4.64,
          0,
          0.32,
          3.49
         ]
        },
        {
         "name": "openstack/upstream-institute-virtual-environment",
         "x": [
          2020,
          2021,
          2022,
          2023,
          2024
         ],
         "y": [
          1.56,
          0.82,
          0.95,
          1.32,
          2.73
         ]
        },
        {
         "name": "openstack/kolla",
         "x": [
          2020,
          2021,
          2022,
          2023,
          2024
         ],
         "y": [
          0.92,
          0.2,
          0.16,
          6.56,
          2.62
         ]
        },
        {
         "name": "openstack/openstacksdk",
         "x": [
          2020,
          2021,
          2022,
          2023,
          2024
         ],
         "y": [
          0,
          0.96,
          0,
          3.69,
          2.29
         ]
        },
        {
         "name": "openstack/horizon",
         "x": [
          2020,
          2021,
          2022,
          2023,
          2024
         ],
         "y": [
          10.3,
          0.54,
          0.4,
          0.72,
          2.22
         ]
        },
        {
         "name": "openstack/openstack-ansible-ops",
         "x": [
          2020,
          2021,
          2022,
          2023,
          2024
         ],
         "y": [
          0.12,
          0.46,
          0.31,
          0.64,
          2.17
         ]
        }
       ],
       "layout": {
        "autosize": true,
        "title": {
         "text": "OpenRank of OpenInfra 2020-2024"
        },
        "xaxis": {
         "autorange": true,
         "range": [
          2019.742481999153,
          2024.257518000847
         ],
         "type": "linear"
        },
        "yaxis": {
         "autorange": true,
         "range": [
          -92.03106796116505,
          1207.231067961165
         ],
         "type": "linear"
        }
       }
      },
      "image/png": "[encoded data removed]"
     },
     "execution_count": 21,
     "metadata": {},
     "output_type": "execute_result"
    }
   ],
   "source": [
    "processTechFieldData(':foundations/openinfra', 'OpenInfra');"
   ]
  },
  {
   "cell_type": "markdown",
   "id": "1b0b3271-a2b0-4d70-81bf-5f9907992ce4",
   "metadata": {},
   "source": [
    "### OpenJs"
   ]
  },
  {
   "cell_type": "code",
   "execution_count": 22,
   "id": "7293f924-b80b-438f-8f3c-72c9ad598588",
   "metadata": {},
   "outputs": [
    {
     "data": {
      "application/vnd.plotly.v1+json": {
       "data": [
        {
         "name": "nodejs/node",
         "x": [
          2020,
          2021,
          2022,
          2023,
          2024
         ],
         "y": [
          2500.45,
          1952.66,
          1901.72,
          2056.58,
          1925.41
         ]
        },
        {
         "name": "electron/electron",
         "x": [
          2020,
          2021,
          2022,
          2023,
          2024
         ],
         "y": [
          2197.22,
          1747.9,
          1624.4,
          1477.23,
          1406.53
         ]
        },
        {
         "name": "webdriverio/webdriverio",
         "x": [
          2020,
          2021,
          2022,
          2023,
          2024
         ],
         "y": [
          629.29,
          508.13,
          298.98,
          593.3,
          550.43
         ]
        },
        {
         "name": "nodejs/undici",
         "x": [
          2020,
          2021,
          2022,
          2023,
          2024
         ],
         "y": [
          97.34,
          257.36,
          221.34,
          223.04,
          446.65
         ]
        },
        {
         "name": "eslint/eslint",
         "x": [
          2020,
          2021,
          2022,
          2023,
          2024
         ],
         "y": [
          574.71,
          424,
          401.52,
          447.97,
          407.6
         ]
        },
        {
         "name": "nodejs/nodejs.org",
         "x": [
          2020,
          2021,
          2022,
          2023,
          2024
         ],
         "y": [
          187.98,
          182.91,
          172.87,
          370.6,
          382.25
         ]
        },
        {
         "name": "appium/appium",
         "x": [
          2020,
          2021,
          2022,
          2023,
          2024
         ],
         "y": [
          573.83,
          409.68,
          394.53,
          343.36,
          270.44
         ]
        },
        {
         "name": "interledger/rafiki",
         "x": [
          2020,
          2021,
          2022,
          2023,
          2024
         ],
         "y": [
          0,
          35.96,
          124.77,
          182.42,
          269.86
         ]
        },
        {
         "name": "expressjs/express",
         "x": [
          2020,
          2021,
          2022,
          2023,
          2024
         ],
         "y": [
          172.11,
          120.25,
          120.85,
          103.73,
          257.9
         ]
        },
        {
         "name": "fastify/fastify",
         "x": [
          2020,
          2021,
          2022,
          2023,
          2024
         ],
         "y": [
          321.11,
          304.05,
          313.54,
          285.71,
          243.29
         ]
        },
        {
         "name": "webpack/webpack",
         "x": [
          2020,
          2021,
          2022,
          2023,
          2024
         ],
         "y": [
          786.84,
          769.79,
          428.41,
          272.96,
          233.5
         ]
        },
        {
         "name": "interledger/testnet",
         "x": [
          2020,
          2021,
          2022,
          2023,
          2024
         ],
         "y": [
          0,
          0,
          0,
          119.74,
          151.99
         ]
        },
        {
         "name": "electron/forge",
         "x": [
          2020,
          2021,
          2022,
          2023,
          2024
         ],
         "y": [
          0,
          0,
          60.55,
          165.37,
          150.44
         ]
        },
        {
         "name": "libuv/libuv",
         "x": [
          2020,
          2021,
          2022,
          2023,
          2024
         ],
         "y": [
          224.25,
          135.17,
          140.72,
          122.87,
          148.34
         ]
        },
        {
         "name": "node-red/node-red",
         "x": [
          2020,
          2021,
          2022,
          2023,
          2024
         ],
         "y": [
          220.51,
          243.85,
          194.05,
          142.76,
          145.37
         ]
        },
        {
         "name": "interledger/web-monetization-extension",
         "x": [
          2020,
          2021,
          2022,
          2023,
          2024
         ],
         "y": [
          0,
          0,
          0,
          14.21,
          143.72
         ]
        },
        {
         "name": "ampproject/amphtml",
         "x": [
          2020,
          2021,
          2022,
          2023,
          2024
         ],
         "y": [
          2031.85,
          1808.61,
          724.47,
          292.81,
          139.11
         ]
        },
        {
         "name": "nvm-sh/nvm",
         "x": [
          2020,
          2021,
          2022,
          2023,
          2024
         ],
         "y": [
          142.31,
          154.8,
          132.87,
          119.13,
          128.09
         ]
        },
        {
         "name": "nodejs/build",
         "x": [
          2020,
          2021,
          2022,
          2023,
          2024
         ],
         "y": [
          134.82,
          99.81,
          82.03,
          123.04,
          116.55
         ]
        },
        {
         "name": "nodejs/help",
         "x": [
          2020,
          2021,
          2022,
          2023,
          2024
         ],
         "y": [
          335.08,
          225.09,
          174.46,
          132.2,
          112.78
         ]
        }
       ],
       "layout": {
        "autosize": true,
        "title": {
         "text": "OpenRank of OpenJs 2020-2024"
        },
        "xaxis": {
         "autorange": true,
         "range": [
          2019.7461041429115,
          2024.2538958570885
         ],
         "type": "linear"
        },
        "yaxis": {
         "autorange": true,
         "range": [
          -206.34781553398057,
          2706.7978155339806
         ],
         "type": "linear"
        }
       }
      },
      "image/png": "[encoded data removed]"
     },
     "execution_count": 22,
     "metadata": {},
     "output_type": "execute_result"
    }
   ],
   "source": [
    "processTechFieldData(':foundations/linux_foundation/openjs', 'OpenJs');"
   ]
  },
  {
   "cell_type": "code",
   "execution_count": null,
   "id": "b8dfd218-0463-4f5c-b370-2a0dfd1b3950",
   "metadata": {},
   "outputs": [],
   "source": []
  }
 ],
 "metadata": {
  "kernelspec": {
   "display_name": "JavaScript (Node.js)",
   "language": "javascript",
   "name": "javascript"
  },
  "language_info": {
   "file_extension": ".js",
   "mimetype": "application/javascript",
   "name": "javascript",
   "version": "16.13.2"
  }
 },
 "nbformat": 4,
 "nbformat_minor": 5
}
