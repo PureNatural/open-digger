{
 "cells": [
  {
   "cell_type": "code",
   "execution_count": 1,
   "id": "8c226615",
   "metadata": {},
   "outputs": [],
   "source": [
    "var openDigger = require('../src/open_digger');\n",
    "var year = 2023, startMonth = 1, endMonth = 12, startYear = 2019\n",
    "var years = Array.from({ length: year - startYear + 1 }, (_, i) => i + startYear); // [2018, 2019, 2020, 2021, 2022]\n",
    "var baseOptions = {\n",
    "    startYear, endYear: year,\n",
    "    startMonth, endMonth,\n",
    "    groupTimeRange: 'year',\n",
    "    order: 'DESC'\n",
    "};"
   ]
  },
  {
   "cell_type": "markdown",
   "id": "7a5ca49e",
   "metadata": {},
   "source": [
    "## 基金会洞察"
   ]
  },
  {
   "cell_type": "markdown",
   "id": "2af24950-6b86-4c83-9c4d-662f3c48b352",
   "metadata": {},
   "source": [
    "### 全球基金会旗下项目OpenRank Top 10"
   ]
  },
  {
   "cell_type": "code",
   "execution_count": 2,
   "id": "c3589969-4b09-4006-8cbb-81297620dc87",
   "metadata": {},
   "outputs": [
    {
     "name": "stdout",
     "output_type": "stream",
     "text": [
      "┌─────────┬─────────────┬──────────┬─────────────────────────┬─────────────┐\n",
      "│ (index) │     id      │ platform │          name           │  openrank   │\n",
      "├─────────┼─────────────┼──────────┼─────────────────────────┼─────────────┤\n",
      "│    0    │ '10919030'  │ 'Gitee'  │   'openharmony/docs'    │ [ 5203.18 ] │\n",
      "│    1    │ '20580498'  │ 'GitHub' │ 'kubernetes/kubernetes' │ [ 4442.18 ] │\n",
      "│    2    │ '99919302'  │ 'GitHub' │     'apache/doris'      │ [ 3860.91 ] │\n",
      "│    3    │ '33884891'  │ 'GitHub' │    'apache/airflow'     │ [ 2864.32 ] │\n",
      "│    4    │ '48109239'  │ 'GitHub' │     'cilium/cilium'     │ [ 2825.33 ] │\n",
      "│    5    │ '236095576' │ 'GitHub' │  'backstage/backstage'  │ [ 2706.48 ] │\n",
      "│    6    │ '51478266'  │ 'GitHub' │  'kubernetes/website'   │ [ 2669.5 ]  │\n",
      "│    7    │ '17165658'  │ 'GitHub' │     'apache/spark'      │ [ 2570.78 ] │\n",
      "│    8    │ '65214191'  │ 'GitHub' │   'envoyproxy/envoy'    │ [ 2555.24 ] │\n",
      "│    9    │ '11125589'  │ 'GitHub' │   'keycloak/keycloak'   │ [ 2441.1 ]  │\n",
      "└─────────┴─────────────┴──────────┴─────────────────────────┴─────────────┘\n"
     ]
    }
   ],
   "source": [
    "openDigger.index.openrank.getRepoOpenrank({\n",
    "    labelIntersect: ['Foundation'],\n",
    "    startYear: year, endYear: year, startMonth: 1, endMonth: 12,\n",
    "    groupTimeRange: 'year', limit: 10, order: 'DESC',\n",
    "}).then(data => console.table(data));"
   ]
  },
  {
   "cell_type": "code",
   "execution_count": 3,
   "id": "b9b84f3d-deb4-40f1-9e19-237da4c6b91c",
   "metadata": {},
   "outputs": [],
   "source": [
    "var processFoundationFieldData = (label, title) => {\n",
    "    var years = [2020, 2021, 2022, 2023, 2024];\n",
    "    openDigger.index.openrank.getRepoOpenrank({\n",
    "        ...baseOptions, labelIntersect: label, limit: 20\n",
    "    }).then(data => {\n",
    "        openDigger.render.plotly(data.map(row => {\n",
    "            return {\n",
    "                x: years,\n",
    "                y: row.openrank,\n",
    "                name: row.name\n",
    "            };\n",
    "        }), {title: `OpenRank of ${title} 2020-2024`});\n",
    "    });\n",
    "};"
   ]
  },
  {
   "cell_type": "markdown",
   "id": "056fe2f4-ac14-44d4-91d6-9230900b580f",
   "metadata": {},
   "source": [
    "### 全球基金会旗下项目OpenRank Top 10 变化趋势"
   ]
  },
  {
   "cell_type": "code",
   "execution_count": 4,
   "id": "97b3d7c2-578a-447c-8cfd-4a87c2a8ebef",
   "metadata": {},
   "outputs": [
    {
     "data": {
      "application/vnd.plotly.v1+json": {
       "data": [
        {
         "name": "openharmony/docs",
         "x": [
          2020,
          2021,
          2022,
          2023,
          2024
         ],
         "y": [
          0,
          0,
          389.77,
          2868.44,
          5203.18
         ]
        },
        {
         "name": "kubernetes/kubernetes",
         "x": [
          2020,
          2021,
          2022,
          2023,
          2024
         ],
         "y": [
          7856.97,
          6635.27,
          6063.09,
          4422.02,
          4442.18
         ]
        },
        {
         "name": "apache/doris",
         "x": [
          2020,
          2021,
          2022,
          2023,
          2024
         ],
         "y": [
          466.25,
          894.83,
          835.53,
          2069.31,
          3860.91
         ]
        },
        {
         "name": "apache/airflow",
         "x": [
          2020,
          2021,
          2022,
          2023,
          2024
         ],
         "y": [
          1246.75,
          2072.85,
          2924.05,
          2716.74,
          2864.32
         ]
        },
        {
         "name": "cilium/cilium",
         "x": [
          2020,
          2021,
          2022,
          2023,
          2024
         ],
         "y": [
          810.82,
          1455.35,
          1575.86,
          1789.09,
          2825.33
         ]
        },
        {
         "name": "backstage/backstage",
         "x": [
          2020,
          2021,
          2022,
          2023,
          2024
         ],
         "y": [
          0,
          238.49,
          1961.32,
          2570.9,
          2706.48
         ]
        },
        {
         "name": "kubernetes/website",
         "x": [
          2020,
          2021,
          2022,
          2023,
          2024
         ],
         "y": [
          2705.81,
          3203.2,
          2527.16,
          2822.68,
          2669.5
         ]
        },
        {
         "name": "apache/spark",
         "x": [
          2020,
          2021,
          2022,
          2023,
          2024
         ],
         "y": [
          2831.96,
          2734.85,
          2412.73,
          2187.92,
          2570.78
         ]
        },
        {
         "name": "envoyproxy/envoy",
         "x": [
          2020,
          2021,
          2022,
          2023,
          2024
         ],
         "y": [
          2143.96,
          2545.62,
          2633.19,
          2407.59,
          2555.24
         ]
        },
        {
         "name": "keycloak/keycloak",
         "x": [
          2020,
          2021,
          2022,
          2023,
          2024
         ],
         "y": [
          551.44,
          697.67,
          726.79,
          1633.27,
          2441.1
         ]
        },
        {
         "name": "nodejs/node",
         "x": [
          2020,
          2021,
          2022,
          2023,
          2024
         ],
         "y": [
          2839.89,
          2500.45,
          1952.66,
          1901.72,
          2056.58
         ]
        },
        {
         "name": "openharmony/graphic_graphic_2d",
         "x": [
          2020,
          2021,
          2022,
          2023,
          2024
         ],
         "y": [
          0,
          0,
          44.26,
          1078.01,
          1996
         ]
        },
        {
         "name": "openharmony/interface_sdk-js",
         "x": [
          2020,
          2021,
          2022,
          2023,
          2024
         ],
         "y": [
          0,
          0,
          52.68,
          869.65,
          1968.59
         ]
        },
        {
         "name": "apache/hudi",
         "x": [
          2020,
          2021,
          2022,
          2023,
          2024
         ],
         "y": [
          275.61,
          858.17,
          1195.14,
          1828.44,
          1877.23
         ]
        },
        {
         "name": "open-telemetry/opentelemetry-collector-contrib",
         "x": [
          2020,
          2021,
          2022,
          2023,
          2024
         ],
         "y": [
          22.53,
          318.96,
          768.26,
          1387.56,
          1870.26
         ]
        },
        {
         "name": "apache/beam",
         "x": [
          2020,
          2021,
          2022,
          2023,
          2024
         ],
         "y": [
          2018.78,
          2043.73,
          1742.7,
          2049.12,
          1867.82
         ]
        },
        {
         "name": "apache/arrow",
         "x": [
          2020,
          2021,
          2022,
          2023,
          2024
         ],
         "y": [
          1203.14,
          1264.39,
          1304.49,
          1454.97,
          1860.12
         ]
        },
        {
         "name": "openharmony/xts_acts",
         "x": [
          2020,
          2021,
          2022,
          2023,
          2024
         ],
         "y": [
          0,
          11.27,
          309.22,
          1528.34,
          1834.14
         ]
        },
        {
         "name": "argoproj/argo-cd",
         "x": [
          2020,
          2021,
          2022,
          2023,
          2024
         ],
         "y": [
          590.81,
          915.87,
          1060.01,
          1508.27,
          1785.5
         ]
        },
        {
         "name": "milvus-io/milvus",
         "x": [
          2020,
          2021,
          2022,
          2023,
          2024
         ],
         "y": [
          61.86,
          663.66,
          943.65,
          1345.49,
          1741.56
         ]
        }
       ],
       "layout": {
        "autosize": true,
        "title": {
         "text": "OpenRank of Foundation 2020-2024"
        },
        "xaxis": {
         "autorange": true,
         "range": [
          2019.707543194269,
          2024.292456805731
         ],
         "type": "linear"
        },
        "yaxis": {
         "autorange": true,
         "range": [
          -648.3907281553398,
          8505.36072815534
         ],
         "type": "linear"
        }
       }
      },
      "image/png": "[encoded data removed]"
     },
     "execution_count": 4,
     "metadata": {},
     "output_type": "execute_result"
    }
   ],
   "source": [
    "processFoundationFieldData(['Foundation'], 'Foundation');"
   ]
  },
  {
   "cell_type": "markdown",
   "id": "efdefa34-ded3-4b93-89f4-e346760f8cfa",
   "metadata": {},
   "source": [
    "### 各基金会 OpenRank 变化趋势"
   ]
  },
  {
   "cell_type": "code",
   "execution_count": 5,
   "id": "05e71093-9285-4bae-a80f-be3ff6219d56",
   "metadata": {},
   "outputs": [
    {
     "data": {
      "application/vnd.plotly.v1+json": {
       "data": [
        {
         "name": "OpenAtom Foundation",
         "x": [
          2019,
          2020,
          2021,
          2022,
          2023
         ],
         "y": [
          7797.8,
          17885.84,
          50539.8,
          72454.56,
          104526.16
         ]
        },
        {
         "name": "Cloud Native Computing Foundation (CNCF)",
         "x": [
          2019,
          2020,
          2021,
          2022,
          2023
         ],
         "y": [
          84327.25,
          84628.36,
          83012.99,
          87461.33,
          83764.41
         ]
        },
        {
         "name": "Apache Software Foundation",
         "x": [
          2019,
          2020,
          2021,
          2022,
          2023
         ],
         "y": [
          59929.99,
          64802.56,
          72163.16,
          77250.54,
          75780.61
         ]
        },
        {
         "name": "OpenJS Foundation",
         "x": [
          2019,
          2020,
          2021,
          2022,
          2023
         ],
         "y": [
          21967.59,
          17958.43,
          13961.21,
          12855.23,
          13008.11
         ]
        },
        {
         "name": "Linux Foundation",
         "x": [
          2019,
          2020,
          2021,
          2022,
          2023
         ],
         "y": [
          7819.17,
          7951.03,
          7917.1,
          7337.74,
          6207.95
         ]
        },
        {
         "name": "LF AI & Data Foundation",
         "x": [
          2019,
          2020,
          2021,
          2022,
          2023
         ],
         "y": [
          3845.1,
          5276.5,
          6158.52,
          6764.33,
          6040.08
         ]
        },
        {
         "name": "Hyperledger Foundation",
         "x": [
          2019,
          2020,
          2021,
          2022,
          2023
         ],
         "y": [
          4728.86,
          4465.56,
          4647.4,
          4381.81,
          3778.2
         ]
        },
        {
         "name": "RICSV Foundation",
         "x": [
          2019,
          2020,
          2021,
          2022,
          2023
         ],
         "y": [
          1329.55,
          1955.04,
          1831.07,
          2453.41,
          3011.26
         ]
        },
        {
         "name": "Eclipse Foundation",
         "x": [
          2019,
          2020,
          2021,
          2022,
          2023
         ],
         "y": [
          13641.86,
          9622.51,
          7850.08,
          5893.78,
          2882.32
         ]
        },
        {
         "name": "OpenSSF Foundation",
         "x": [
          2019,
          2020,
          2021,
          2022,
          2023
         ],
         "y": [
          246.16,
          1192.76,
          2394.16,
          2969.19,
          2515.36
         ]
        },
        {
         "name": "LF Edge Foundation",
         "x": [
          2019,
          2020,
          2021,
          2022,
          2023
         ],
         "y": [
          2844.6,
          2757.15,
          2286.18,
          2348.02,
          1716.41
         ]
        },
        {
         "name": "Open 3D Foundation",
         "x": [
          2019,
          2020,
          2021,
          2022,
          2023
         ],
         "y": [
          0,
          1102.48,
          3694.24,
          2498.36,
          996.38
         ]
        },
        {
         "name": "OpenInfra Foundation",
         "x": [
          2019,
          2020,
          2021,
          2022,
          2023
         ],
         "y": [
          1257.68,
          1346.43,
          1398.89,
          1437.48,
          984.25
         ]
        },
        {
         "name": "LF Networking Foundation",
         "x": [
          2019,
          2020,
          2021,
          2022,
          2023
         ],
         "y": [
          153.1,
          185.53,
          227.13,
          364.33,
          344.36
         ]
        },
        {
         "name": "FinOps Foundation",
         "x": [
          2019,
          2020,
          2021,
          2022,
          2023
         ],
         "y": [
          22.92,
          100.03,
          127.71,
          78.23,
          61.53
         ]
        }
       ],
       "layout": {
        "autosize": true,
        "title": {
         "text": "OpenRank of Foundations 2020-2024"
        },
        "xaxis": {
         "autorange": true,
         "range": [
          -0.28659714175357287,
          4.286597141753573
         ],
         "type": "category"
        },
        "yaxis": {
         "autorange": true,
         "range": [
          -8625.945242718446,
          113152.10524271845
         ],
         "type": "linear"
        }
       }
      },
      "image/png": "[encoded data removed]"
     },
     "execution_count": 5,
     "metadata": {},
     "output_type": "execute_result"
    }
   ],
   "source": [
    "openDigger.index.openrank.getRepoOpenrank({\n",
    "    labelUnion: [':foundations'],\n",
    "    startYear: 2020, endYear: 2024, endMonth: 12,\n",
    "    groupBy: 'Foundation',\n",
    "    groupTimeRange: 'year',\n",
    "    order: 'DESC',\n",
    "    limit: -1\n",
    "}).then(data => {\n",
    "    var data = data.filter(i => i.id.startsWith(':foundations'));\n",
    "    openDigger.render.plotly(data.map(row => {\n",
    "        return {\n",
    "            x: years,\n",
    "            y: row.openrank,\n",
    "            name: row.name\n",
    "        };\n",
    "    }), {title: `OpenRank of Foundations 2020-2024`, xaxis: { type: 'category' }});\n",
    "})"
   ]
  },
  {
   "cell_type": "markdown",
   "id": "035a4967-6e5a-4558-b3ea-5d24b06a55eb",
   "metadata": {},
   "source": [
    "### 中国基金会旗下项目OpenRank Top 10"
   ]
  },
  {
   "cell_type": "code",
   "execution_count": 6,
   "id": "47cb02bf-9313-4c97-92b4-a6ff7c79c6e7",
   "metadata": {},
   "outputs": [
    {
     "name": "stdout",
     "output_type": "stream",
     "text": [
      "┌─────────┬─────────────┬──────────┬────────────────────────────────────────────┬─────────────┐\n",
      "│ (index) │     id      │ platform │                    name                    │  openrank   │\n",
      "├─────────┼─────────────┼──────────┼────────────────────────────────────────────┼─────────────┤\n",
      "│    0    │ '10919030'  │ 'Gitee'  │             'openharmony/docs'             │ [ 5203.18 ] │\n",
      "│    1    │ '99919302'  │ 'GitHub' │               'apache/doris'               │ [ 3860.91 ] │\n",
      "│    2    │ '16184969'  │ 'Gitee'  │      'openharmony/graphic_graphic_2d'      │  [ 1996 ]   │\n",
      "│    3    │ '16184977'  │ 'Gitee'  │       'openharmony/interface_sdk-js'       │ [ 1968.59 ] │\n",
      "│    4    │ '11218621'  │ 'Gitee'  │           'openharmony/xts_acts'           │ [ 1834.14 ] │\n",
      "│    5    │ '208728772' │ 'GitHub' │             'milvus-io/milvus'             │ [ 1741.56 ] │\n",
      "│    6    │ '20587599'  │ 'GitHub' │               'apache/flink'               │ [ 1658.51 ] │\n",
      "│    7    │ '49876476'  │ 'GitHub' │          'apache/shardingsphere'           │ [ 1428.65 ] │\n",
      "│    8    │  '7696525'  │ 'Gitee'  │             'openeuler/kernel'             │ [ 1370.29 ] │\n",
      "│    9    │ '23615951'  │ 'Gitee'  │ 'openharmony-sig/arkcompiler_runtime_core' │ [ 1339.28 ] │\n",
      "└─────────┴─────────────┴──────────┴────────────────────────────────────────────┴─────────────┘\n"
     ]
    }
   ],
   "source": [
    "openDigger.index.openrank.getRepoOpenrank({\n",
    "    labelIntersect: [':regions/CN', 'Foundation'],\n",
    "    startYear: year, endYear: year, startMonth: 1, endMonth: 12,\n",
    "    groupTimeRange: 'year', limit: 10, order: 'DESC',\n",
    "}).then(data => console.table(data));"
   ]
  },
  {
   "cell_type": "markdown",
   "id": "604dec1e-038c-4d9e-86e5-e72228ef56b7",
   "metadata": {},
   "source": [
    "### 中国基金会旗下项目OpenRank Top 10 变化趋势"
   ]
  },
  {
   "cell_type": "code",
   "execution_count": 7,
   "id": "f7c44d7d-9f3d-4e96-bdf4-3a78fec96a9e",
   "metadata": {},
   "outputs": [
    {
     "data": {
      "application/vnd.plotly.v1+json": {
       "data": [
        {
         "name": "openharmony/docs",
         "x": [
          2020,
          2021,
          2022,
          2023,
          2024
         ],
         "y": [
          0,
          0,
          389.77,
          2868.44,
          5203.18
         ]
        },
        {
         "name": "apache/doris",
         "x": [
          2020,
          2021,
          2022,
          2023,
          2024
         ],
         "y": [
          466.25,
          894.83,
          835.53,
          2069.31,
          3860.91
         ]
        },
        {
         "name": "openharmony/graphic_graphic_2d",
         "x": [
          2020,
          2021,
          2022,
          2023,
          2024
         ],
         "y": [
          0,
          0,
          44.26,
          1078.01,
          1996
         ]
        },
        {
         "name": "openharmony/interface_sdk-js",
         "x": [
          2020,
          2021,
          2022,
          2023,
          2024
         ],
         "y": [
          0,
          0,
          52.68,
          869.65,
          1968.59
         ]
        },
        {
         "name": "openharmony/xts_acts",
         "x": [
          2020,
          2021,
          2022,
          2023,
          2024
         ],
         "y": [
          0,
          11.27,
          309.22,
          1528.34,
          1834.14
         ]
        },
        {
         "name": "milvus-io/milvus",
         "x": [
          2020,
          2021,
          2022,
          2023,
          2024
         ],
         "y": [
          61.86,
          663.66,
          943.65,
          1345.49,
          1741.56
         ]
        },
        {
         "name": "apache/flink",
         "x": [
          2020,
          2021,
          2022,
          2023,
          2024
         ],
         "y": [
          1890.63,
          2289.77,
          2188.18,
          2059.34,
          1658.51
         ]
        },
        {
         "name": "apache/shardingsphere",
         "x": [
          2020,
          2021,
          2022,
          2023,
          2024
         ],
         "y": [
          756.18,
          1250.27,
          1358.14,
          1735.15,
          1428.65
         ]
        },
        {
         "name": "openeuler/kernel",
         "x": [
          2020,
          2021,
          2022,
          2023,
          2024
         ],
         "y": [
          0,
          0,
          0,
          145.63,
          1370.29
         ]
        },
        {
         "name": "openharmony-sig/arkcompiler_runtime_core",
         "x": [
          2020,
          2021,
          2022,
          2023,
          2024
         ],
         "y": [
          0,
          0,
          0,
          324.89,
          1339.28
         ]
        },
        {
         "name": "openeuler/docs",
         "x": [
          2020,
          2021,
          2022,
          2023,
          2024
         ],
         "y": [
          0,
          131.59,
          282.36,
          522.58,
          1291.9
         ]
        },
        {
         "name": "apache/ozone",
         "x": [
          2020,
          2021,
          2022,
          2023,
          2024
         ],
         "y": [
          146.17,
          841.12,
          921.51,
          949.42,
          1218.16
         ]
        },
        {
         "name": "apache/iotdb",
         "x": [
          2020,
          2021,
          2022,
          2023,
          2024
         ],
         "y": [
          308.15,
          671.6,
          873.29,
          1278.08,
          1210.02
         ]
        },
        {
         "name": "kata-containers/kata-containers",
         "x": [
          2020,
          2021,
          2022,
          2023,
          2024
         ],
         "y": [
          20.55,
          267.4,
          727.33,
          963.73,
          1115.2
         ]
        },
        {
         "name": "openharmony/ability_ability_runtime",
         "x": [
          2020,
          2021,
          2022,
          2023,
          2024
         ],
         "y": [
          0,
          0,
          36.52,
          809.82,
          1081.02
         ]
        },
        {
         "name": "openharmony/communication_dsoftbus",
         "x": [
          2020,
          2021,
          2022,
          2023,
          2024
         ],
         "y": [
          0,
          0,
          201.82,
          941.44,
          1079.21
         ]
        },
        {
         "name": "apache/pulsar",
         "x": [
          2020,
          2021,
          2022,
          2023,
          2024
         ],
         "y": [
          1053.59,
          1197.52,
          1637.17,
          1818.65,
          999.05
         ]
        },
        {
         "name": "NervJS/taro",
         "x": [
          2020,
          2021,
          2022,
          2023,
          2024
         ],
         "y": [
          2022.28,
          1566.94,
          1040.76,
          923.01,
          931.52
         ]
        },
        {
         "name": "apache/apisix",
         "x": [
          2020,
          2021,
          2022,
          2023,
          2024
         ],
         "y": [
          88.33,
          563.62,
          883.19,
          1075.57,
          921.58
         ]
        },
        {
         "name": "apache/dolphinscheduler",
         "x": [
          2020,
          2021,
          2022,
          2023,
          2024
         ],
         "y": [
          185.74,
          888,
          917.23,
          1433.33,
          919.92
         ]
        }
       ],
       "layout": {
        "autosize": true,
        "title": {
         "text": "OpenRank of China Foundation 2020-2024"
        },
        "xaxis": {
         "autorange": true,
         "range": [
          2019.7122641509434,
          2024.2877358490566
         ],
         "type": "linear"
        },
        "yaxis": {
         "autorange": true,
         "range": [
          -429.38864077669905,
          5632.568640776699
         ],
         "type": "linear"
        }
       }
      },
      "image/png": "[encoded data removed]"
     },
     "execution_count": 7,
     "metadata": {},
     "output_type": "execute_result"
    }
   ],
   "source": [
    "processFoundationFieldData([':regions/CN', 'Foundation'], 'China Foundation');"
   ]
  },
  {
   "cell_type": "markdown",
   "id": "7f58fcfb-bce5-44c0-8e51-784f5f3f4ffb",
   "metadata": {},
   "source": [
    "## 各基金会旗下项目OpenRank TOP 10 榜单"
   ]
  },
  {
   "cell_type": "markdown",
   "id": "7ae3542b-f630-41bf-86b8-9842482a4116",
   "metadata": {},
   "source": [
    "### CNCF"
   ]
  },
  {
   "cell_type": "code",
   "execution_count": 8,
   "id": "07aa63b1-0af3-4410-97f5-33da46c3e27f",
   "metadata": {},
   "outputs": [
    {
     "name": "stdout",
     "output_type": "stream",
     "text": [
      "┌─────────┬─────────────┬──────────┬──────────────────────────────────────────────────┬─────────────┐\n",
      "│ (index) │     id      │ platform │                       name                       │  openrank   │\n",
      "├─────────┼─────────────┼──────────┼──────────────────────────────────────────────────┼─────────────┤\n",
      "│    0    │ '20580498'  │ 'GitHub' │             'kubernetes/kubernetes'              │ [ 4442.18 ] │\n",
      "│    1    │ '48109239'  │ 'GitHub' │                 'cilium/cilium'                  │ [ 2825.33 ] │\n",
      "│    2    │ '236095576' │ 'GitHub' │              'backstage/backstage'               │ [ 2706.48 ] │\n",
      "│    3    │ '51478266'  │ 'GitHub' │               'kubernetes/website'               │ [ 2669.5 ]  │\n",
      "│    4    │ '65214191'  │ 'GitHub' │                'envoyproxy/envoy'                │ [ 2555.24 ] │\n",
      "│    5    │ '11125589'  │ 'GitHub' │               'keycloak/keycloak'                │ [ 2441.1 ]  │\n",
      "│    6    │ '196414933' │ 'GitHub' │ 'open-telemetry/opentelemetry-collector-contrib' │ [ 1870.26 ] │\n",
      "│    7    │ '120896210' │ 'GitHub' │                'argoproj/argo-cd'                │ [ 1785.5 ]  │\n",
      "│    8    │ '74175805'  │ 'GitHub' │                  'istio/istio'                   │ [ 1702.48 ] │\n",
      "│    9    │ '27729880'  │ 'GitHub' │                   'grpc/grpc'                    │ [ 1257.03 ] │\n",
      "└─────────┴─────────────┴──────────┴──────────────────────────────────────────────────┴─────────────┘\n"
     ]
    }
   ],
   "source": [
    "openDigger.index.openrank.getRepoOpenrank({\n",
    "    labelUnion: [':foundations/linux_foundation/cncf'],\n",
    "    startYear: year, endYear: year, startMonth: 1, endMonth: 12,\n",
    "    groupTimeRange: 'year', limit: 10, order: 'DESC',\n",
    "}).then(data => console.table(data));"
   ]
  },
  {
   "cell_type": "markdown",
   "id": "6d06808a-4eac-4604-864e-d7b69ea6e905",
   "metadata": {},
   "source": [
    "### lfai"
   ]
  },
  {
   "cell_type": "code",
   "execution_count": 9,
   "id": "473bf4b1-834a-4e1e-82fb-c7ea2b725bde",
   "metadata": {},
   "outputs": [
    {
     "name": "stdout",
     "output_type": "stream",
     "text": [
      "┌─────────┬─────────────┬──────────┬─────────────────────┬─────────────┐\n",
      "│ (index) │     id      │ platform │        name         │  openrank   │\n",
      "├─────────┼─────────────┼──────────┼─────────────────────┼─────────────┤\n",
      "│    0    │ '208728772' │ 'GitHub' │ 'milvus-io/milvus'  │ [ 1741.56 ] │\n",
      "│    1    │ '182849188' │ 'GitHub' │  'delta-io/delta'   │ [ 518.57 ]  │\n",
      "│    2    │ '241400276' │ 'GitHub' │  'onnx/onnx-mlir'   │ [ 514.98 ]  │\n",
      "│    3    │ '182067506' │ 'GitHub' │  'kedro-org/kedro'  │ [ 486.66 ]  │\n",
      "│    4    │ '163346054' │ 'GitHub' │ 'ludwig-ai/ludwig'  │ [ 447.81 ]  │\n",
      "│    5    │ '216628419' │ 'GitHub' │  'flyteorg/flyte'   │ [ 413.69 ]  │\n",
      "│    6    │ '102692863' │ 'GitHub' │     'onnx/onnx'     │ [ 326.21 ]  │\n",
      "│    7    │ '178075572' │ 'GitHub' │   'kserve/kserve'   │ [ 319.21 ]  │\n",
      "│    8    │ '167349656' │ 'GitHub' │ 'FederatedAI/FATE'  │ [ 319.19 ]  │\n",
      "│    9    │ '203634431' │ 'GitHub' │ 'flyteorg/flytekit' │ [ 288.78 ]  │\n",
      "└─────────┴─────────────┴──────────┴─────────────────────┴─────────────┘\n"
     ]
    }
   ],
   "source": [
    "openDigger.index.openrank.getRepoOpenrank({\n",
    "    labelUnion: [':foundations/linux_foundation/lfai'],\n",
    "    startYear: year, endYear: year, startMonth: 1, endMonth: 12,\n",
    "    groupTimeRange: 'year', limit: 10, order: 'DESC',\n",
    "}).then(data => console.table(data));"
   ]
  },
  {
   "cell_type": "markdown",
   "id": "e6d2bb23-0157-4bcd-8fe4-8d02cb9c9740",
   "metadata": {},
   "source": [
    "### OpenAtom"
   ]
  },
  {
   "cell_type": "code",
   "execution_count": 10,
   "id": "f679febc-07be-4818-9182-e100e6ace057",
   "metadata": {},
   "outputs": [
    {
     "name": "stdout",
     "output_type": "stream",
     "text": [
      "┌─────────┬──────────────────────────────────┬──────────┬───────────────┬──────────────┐\n",
      "│ (index) │                id                │ platform │     name      │   openrank   │\n",
      "├─────────┼──────────────────────────────────┼──────────┼───────────────┼──────────────┤\n",
      "│    0    │ ':companies/huawei/openharmony'  │  'All'   │ 'OpenHarmony' │ [ 38824.59 ] │\n",
      "│    1    │  ':companies/huawei/openeuler'   │  'All'   │  'openEuler'  │ [ 22046.2 ]  │\n",
      "│    2    │   ':companies/alibaba/anolis'    │  'All'   │  'Anolis OS'  │ [ 4491.63 ]  │\n",
      "│    3    │ ':companies/openkylin/openkylin' │  'All'   │  'openKylin'  │ [ 4102.34 ]  │\n",
      "│    4    │   ':foundations/openatom/taro'   │  'All'   │    'Taro'     │  [ 931.52 ]  │\n",
      "│    5    │   ':foundations/openatom/ubml'   │  'All'   │    'UBML'     │  [ 242.06 ]  │\n",
      "│    6    │    ':companies/360/pikiwidb'     │  'All'   │  'PikiwiDB'   │   [ 230 ]    │\n",
      "│    7    │  ':companies/antgroup/tongsuo'   │  'All'   │   'Tongsuo'   │  [ 190.79 ]  │\n",
      "│    8    │ ':foundations/openatom/openv2x'  │  'All'   │   'OpenV2X'   │  [ 166.14 ]  │\n",
      "│    9    │   ':companies/huawei/kurator'    │  'All'   │   'Kurator'   │  [ 132.53 ]  │\n",
      "└─────────┴──────────────────────────────────┴──────────┴───────────────┴──────────────┘\n"
     ]
    }
   ],
   "source": [
    "openDigger.index.openrank.getRepoOpenrank({\n",
    "    labelUnion: [':foundations/openatom'],\n",
    "    startYear: year, endYear: year, startMonth: 1, endMonth: 12,groupBy: 'Project',\n",
    "    groupTimeRange: 'year', limit: 10, order: 'DESC',\n",
    "}).then(data => console.table(data));"
   ]
  },
  {
   "cell_type": "markdown",
   "id": "d906aa82-ab2a-4bbd-a4a7-2501cd596849",
   "metadata": {},
   "source": [
    "### Apache"
   ]
  },
  {
   "cell_type": "code",
   "execution_count": 11,
   "id": "a9f3d383-fad0-45e4-a138-a2741b31d3c8",
   "metadata": {},
   "outputs": [
    {
     "name": "stdout",
     "output_type": "stream",
     "text": [
      "┌─────────┬─────────────┬──────────┬───────────────────┬─────────────┐\n",
      "│ (index) │     id      │ platform │       name        │  openrank   │\n",
      "├─────────┼─────────────┼──────────┼───────────────────┼─────────────┤\n",
      "│    0    │ '99919302'  │ 'GitHub' │  'apache/doris'   │ [ 3860.91 ] │\n",
      "│    1    │ '33884891'  │ 'GitHub' │ 'apache/airflow'  │ [ 2864.32 ] │\n",
      "│    2    │ '17165658'  │ 'GitHub' │  'apache/spark'   │ [ 2570.78 ] │\n",
      "│    3    │ '76474200'  │ 'GitHub' │   'apache/hudi'   │ [ 1877.23 ] │\n",
      "│    4    │ '50904245'  │ 'GitHub' │   'apache/beam'   │ [ 1867.82 ] │\n",
      "│    5    │ '51905353'  │ 'GitHub' │  'apache/arrow'   │ [ 1860.12 ] │\n",
      "│    6    │ '39464018'  │ 'GitHub' │ 'apache/superset' │ [ 1670.45 ] │\n",
      "│    7    │ '20587599'  │ 'GitHub' │  'apache/flink'   │ [ 1658.51 ] │\n",
      "│    8    │  '2211243'  │ 'GitHub' │  'apache/kafka'   │ [ 1644.91 ] │\n",
      "│    9    │ '158256479' │ 'GitHub' │ 'apache/iceberg'  │ [ 1473.98 ] │\n",
      "└─────────┴─────────────┴──────────┴───────────────────┴─────────────┘\n"
     ]
    }
   ],
   "source": [
    "openDigger.index.openrank.getRepoOpenrank({\n",
    "    labelUnion: [':foundations/apache'],\n",
    "    startYear: year, endYear: year, startMonth: 1, endMonth: 12,\n",
    "    groupTimeRange: 'year', limit: 10, order: 'DESC',\n",
    "}).then(data => console.table(data));"
   ]
  },
  {
   "cell_type": "markdown",
   "id": "1128305f-b42d-468c-9dd9-7543d5480001",
   "metadata": {},
   "source": [
    "### Eclipse"
   ]
  },
  {
   "cell_type": "code",
   "execution_count": 12,
   "id": "27ba3be8-a461-44df-8087-5bbfeb185665",
   "metadata": {},
   "outputs": [
    {
     "name": "stdout",
     "output_type": "stream",
     "text": [
      "┌─────────┬─────────────┬──────────┬──────────────────────────┬────────────┐\n",
      "│ (index) │     id      │ platform │           name           │  openrank  │\n",
      "├─────────┼─────────────┼──────────┼──────────────────────────┼────────────┤\n",
      "│    0    │ '108592307' │ 'GitHub' │      'eclipse/sumo'      │ [ 487.57 ] │\n",
      "│    1    │  '2045207'  │ 'GitHub' │ 'eclipse/jetty.project'  │ [ 355.12 ] │\n",
      "│    2    │ '15237269'  │ 'GitHub' │      'eclipse/kura'      │ [ 264.66 ] │\n",
      "│    3    │ '53077478'  │ 'GitHub' │      'eclipse/omr'       │ [ 257.6 ]  │\n",
      "│    4    │ '32935745'  │ 'GitHub' │      'eclipse/che'       │ [ 231.98 ] │\n",
      "│    5    │ '259645903' │ 'GitHub' │  'eclipse/kiso-testing'  │ [ 167.25 ] │\n",
      "│    6    │  '1553758'  │ 'GitHub' │     'eclipse/xtext'      │ [ 149.69 ] │\n",
      "│    7    │ '45860898'  │ 'GitHub' │    'eclipse/hawkbit'     │ [ 145.15 ] │\n",
      "│    8    │ '53614190'  │ 'GitHub' │   'eclipse/mosquitto'    │ [ 131.04 ] │\n",
      "│    9    │ '62056780'  │ 'GitHub' │ 'eclipse/eclipse.jdt.ls' │ [ 125.88 ] │\n",
      "└─────────┴─────────────┴──────────┴──────────────────────────┴────────────┘\n"
     ]
    }
   ],
   "source": [
    "openDigger.index.openrank.getRepoOpenrank({\n",
    "    labelUnion: [':foundations/eclipse'],\n",
    "    startYear: year, endYear: year, startMonth: 1, endMonth: 12,\n",
    "    groupTimeRange: 'year', limit: 10, order: 'DESC',\n",
    "}).then(data => console.table(data));"
   ]
  },
  {
   "cell_type": "markdown",
   "id": "b8942770-8b1b-4bdf-b58b-4ddc0178054a",
   "metadata": {},
   "source": [
    "### OpenInfra"
   ]
  },
  {
   "cell_type": "code",
   "execution_count": 13,
   "id": "acb4f00a-91ad-4156-90af-57307979786e",
   "metadata": {},
   "outputs": [
    {
     "name": "stdout",
     "output_type": "stream",
     "text": [
      "┌─────────┬─────────────┬──────────┬───────────────────────────────────┬────────────┐\n",
      "│ (index) │     id      │ platform │               name                │  openrank  │\n",
      "├─────────┼─────────────┼──────────┼───────────────────────────────────┼────────────┤\n",
      "│    0    │ '113404957' │ 'GitHub' │ 'kata-containers/kata-containers' │ [ 1115.2 ] │\n",
      "│    1    │ '110539912' │ 'GitHub' │      'kata-containers/tests'      │ [ 148.75 ] │\n",
      "│    2    │ '113113705' │ 'GitHub' │    'kata-containers/community'    │ [ 21.04 ]  │\n",
      "│    3    │ '293399774' │ 'GitHub' │   'kata-containers/cgroups-rs'    │ [ 18.37 ]  │\n",
      "│    4    │  '5320283'  │ 'GitHub' │     'openstack/requirements'      │ [ 17.79 ]  │\n",
      "│    5    │ '119962177' │ 'GitHub' │       'kata-containers/ci'        │  [ 12.1 ]  │\n",
      "│    6    │  '6929734'  │ 'GitHub' │        'openstack/cinder'         │ [ 11.08 ]  │\n",
      "│    7    │  '790031'   │ 'GitHub' │         'openstack/nova'          │  [ 9.16 ]  │\n",
      "│    8    │ '24245238'  │ 'GitHub' │        'openstack/manila'         │  [ 7.2 ]   │\n",
      "│    9    │ '24681398'  │ 'GitHub' │         'openstack/kolla'         │  [ 6.56 ]  │\n",
      "└─────────┴─────────────┴──────────┴───────────────────────────────────┴────────────┘\n"
     ]
    }
   ],
   "source": [
    "openDigger.index.openrank.getRepoOpenrank({\n",
    "    labelUnion: [':foundations/openinfra'],\n",
    "    startYear: year, endYear: year, startMonth: 1, endMonth: 12,\n",
    "    groupTimeRange: 'year', limit: 10, order: 'DESC',\n",
    "}).then(data => console.table(data));"
   ]
  },
  {
   "cell_type": "markdown",
   "id": "4c63c2d5-a950-4854-baf9-892c5ff07e98",
   "metadata": {},
   "source": [
    "### OpenJs"
   ]
  },
  {
   "cell_type": "code",
   "execution_count": 14,
   "id": "10b4f56f-8471-4053-a69a-687407c356be",
   "metadata": {},
   "outputs": [
    {
     "name": "stdout",
     "output_type": "stream",
     "text": [
      "┌─────────┬────────────┬──────────┬────────────────────────────┬──────────────┐\n",
      "│ (index) │     id     │ platform │            name            │   openrank   │\n",
      "├─────────┼────────────┼──────────┼────────────────────────────┼──────────────┤\n",
      "│    0    │ '4542716'  │ 'GitHub' │      'NixOS/nixpkgs'       │ [ 18075.14 ] │\n",
      "│    1    │ '12888993' │ 'GitHub' │   'home-assistant/core'    │ [ 10958.68 ] │\n",
      "│    2    │ '65600975' │ 'GitHub' │     'pytorch/pytorch'      │ [ 10288.27 ] │\n",
      "│    3    │ '41881900' │ 'GitHub' │     'microsoft/vscode'     │ [ 9875.34 ]  │\n",
      "│    4    │ '8649239'  │ 'Gitee'  │   'mindspore/mindspore'    │ [ 8735.43 ]  │\n",
      "│    5    │ '19745004' │ 'GitHub' │        'odoo/odoo'         │ [ 8656.81 ]  │\n",
      "│    6    │ '72685026' │ 'GitHub' │ 'MicrosoftDocs/azure-docs' │ [ 8021.57 ]  │\n",
      "│    7    │ '75821432' │ 'GitHub' │    'llvm/llvm-project'     │ [ 7991.01 ]  │\n",
      "│    8    │ '15634981' │ 'GitHub' │    'godotengine/godot'     │ [ 7705.45 ]  │\n",
      "│    9    │ '31792824' │ 'GitHub' │     'flutter/flutter'      │ [ 7268.91 ]  │\n",
      "└─────────┴────────────┴──────────┴────────────────────────────┴──────────────┘\n"
     ]
    }
   ],
   "source": [
    "openDigger.index.openrank.getRepoOpenrank({\n",
    "    labelUnion: [':foundations/openjs'],\n",
    "    startYear: year, endYear: year, startMonth: 1, endMonth: 12,\n",
    "    groupTimeRange: 'year', limit: 10, order: 'DESC',\n",
    "}).then(data => console.table(data));"
   ]
  },
  {
   "cell_type": "markdown",
   "id": "3eeee08a-be7a-4f70-ab6b-15e9c93366c3",
   "metadata": {},
   "source": [
    "## 近5年各基金会旗下项目OpenRank变化趋势"
   ]
  },
  {
   "cell_type": "code",
   "execution_count": 15,
   "id": "87cfdc5e",
   "metadata": {},
   "outputs": [],
   "source": [
    "var processTechFieldData = (label, title) => {\n",
    "    var years = [2020, 2021, 2022, 2023, 2024];\n",
    "    openDigger.index.openrank.getRepoOpenrank({\n",
    "        ...baseOptions, labelIntersect: [label], limit: 20\n",
    "    }).then(data => {\n",
    "        openDigger.render.plotly(data.map(row => {\n",
    "            return {\n",
    "                x: years,\n",
    "                y: row.openrank,\n",
    "                name: row.name\n",
    "            };\n",
    "        }), {title: `OpenRank of ${title} 2020-2024`});\n",
    "    });\n",
    "};"
   ]
  },
  {
   "cell_type": "markdown",
   "id": "d570a66a",
   "metadata": {},
   "source": [
    "### CNCF"
   ]
  },
  {
   "cell_type": "code",
   "execution_count": 16,
   "id": "cf4625e7",
   "metadata": {},
   "outputs": [
    {
     "data": {
      "application/vnd.plotly.v1+json": {
       "data": [
        {
         "name": "kubernetes/kubernetes",
         "x": [
          2020,
          2021,
          2022,
          2023,
          2024
         ],
         "y": [
          7856.97,
          6635.27,
          6063.09,
          4422.02,
          4442.18
         ]
        },
        {
         "name": "cilium/cilium",
         "x": [
          2020,
          2021,
          2022,
          2023,
          2024
         ],
         "y": [
          810.82,
          1455.35,
          1575.86,
          1789.09,
          2825.33
         ]
        },
        {
         "name": "backstage/backstage",
         "x": [
          2020,
          2021,
          2022,
          2023,
          2024
         ],
         "y": [
          0,
          238.49,
          1961.32,
          2570.9,
          2706.48
         ]
        },
        {
         "name": "kubernetes/website",
         "x": [
          2020,
          2021,
          2022,
          2023,
          2024
         ],
         "y": [
          2705.81,
          3203.2,
          2527.16,
          2822.68,
          2669.5
         ]
        },
        {
         "name": "envoyproxy/envoy",
         "x": [
          2020,
          2021,
          2022,
          2023,
          2024
         ],
         "y": [
          2143.96,
          2545.62,
          2633.19,
          2407.59,
          2555.24
         ]
        },
        {
         "name": "keycloak/keycloak",
         "x": [
          2020,
          2021,
          2022,
          2023,
          2024
         ],
         "y": [
          551.44,
          697.67,
          726.79,
          1633.27,
          2441.1
         ]
        },
        {
         "name": "open-telemetry/opentelemetry-collector-contrib",
         "x": [
          2020,
          2021,
          2022,
          2023,
          2024
         ],
         "y": [
          22.53,
          318.96,
          768.26,
          1387.56,
          1870.26
         ]
        },
        {
         "name": "argoproj/argo-cd",
         "x": [
          2020,
          2021,
          2022,
          2023,
          2024
         ],
         "y": [
          590.81,
          915.87,
          1060.01,
          1508.27,
          1785.5
         ]
        },
        {
         "name": "istio/istio",
         "x": [
          2020,
          2021,
          2022,
          2023,
          2024
         ],
         "y": [
          3062.12,
          3356.89,
          2572.42,
          1917.71,
          1702.48
         ]
        },
        {
         "name": "grpc/grpc",
         "x": [
          2020,
          2021,
          2022,
          2023,
          2024
         ],
         "y": [
          1613.16,
          1492.78,
          1255.6,
          1237.91,
          1257.03
         ]
        },
        {
         "name": "kubevirt/kubevirt",
         "x": [
          2020,
          2021,
          2022,
          2023,
          2024
         ],
         "y": [
          606.28,
          783.13,
          1115.92,
          1149.8,
          1108.34
         ]
        },
        {
         "name": "kubernetes/test-infra",
         "x": [
          2020,
          2021,
          2022,
          2023,
          2024
         ],
         "y": [
          1270.22,
          1107.01,
          1013.54,
          853.29,
          793.37
         ]
        },
        {
         "name": "fluent/fluent-bit",
         "x": [
          2020,
          2021,
          2022,
          2023,
          2024
         ],
         "y": [
          451.57,
          609.45,
          840.44,
          796.29,
          768.2
         ]
        },
        {
         "name": "argoproj/argo-workflows",
         "x": [
          2020,
          2021,
          2022,
          2023,
          2024
         ],
         "y": [
          312.72,
          1076.42,
          1024.05,
          949.49,
          744.82
         ]
        },
        {
         "name": "vitessio/vitess",
         "x": [
          2020,
          2021,
          2022,
          2023,
          2024
         ],
         "y": [
          477.39,
          602.98,
          724.01,
          707.13,
          720.42
         ]
        },
        {
         "name": "containerd/containerd",
         "x": [
          2020,
          2021,
          2022,
          2023,
          2024
         ],
         "y": [
          419.06,
          424.31,
          617.39,
          613.99,
          715.02
         ]
        },
        {
         "name": "kyverno/kyverno",
         "x": [
          2020,
          2021,
          2022,
          2023,
          2024
         ],
         "y": [
          0,
          47.49,
          412.55,
          745.06,
          700.76
         ]
        },
        {
         "name": "kubernetes/minikube",
         "x": [
          2020,
          2021,
          2022,
          2023,
          2024
         ],
         "y": [
          1069.45,
          1415.13,
          1163.64,
          912.45,
          700.21
         ]
        },
        {
         "name": "goharbor/harbor",
         "x": [
          2020,
          2021,
          2022,
          2023,
          2024
         ],
         "y": [
          1162.07,
          1329.46,
          917.7,
          788.77,
          699.13
         ]
        },
        {
         "name": "dapr/dapr",
         "x": [
          2020,
          2021,
          2022,
          2023,
          2024
         ],
         "y": [
          59.1,
          424.94,
          611.28,
          627.79,
          697.78
         ]
        }
       ],
       "layout": {
        "autosize": true,
        "title": {
         "text": "OpenRank of CNCF 2020-2024"
        },
        "xaxis": {
         "autorange": true,
         "range": [
          2019.707543194269,
          2024.292456805731
         ],
         "type": "linear"
        },
        "yaxis": {
         "autorange": true,
         "range": [
          -648.3907281553398,
          8505.36072815534
         ],
         "type": "linear"
        }
       }
      },
      "image/png": "[encoded data removed]"
     },
     "execution_count": 16,
     "metadata": {},
     "output_type": "execute_result"
    }
   ],
   "source": [
    "processTechFieldData(':foundations/linux_foundation/cncf', 'CNCF');"
   ]
  },
  {
   "cell_type": "markdown",
   "id": "25b4311c",
   "metadata": {},
   "source": [
    "### lfai"
   ]
  },
  {
   "cell_type": "code",
   "execution_count": 17,
   "id": "596bd89f",
   "metadata": {},
   "outputs": [
    {
     "data": {
      "application/vnd.plotly.v1+json": {
       "data": [
        {
         "name": "milvus-io/milvus",
         "x": [
          2020,
          2021,
          2022,
          2023,
          2024
         ],
         "y": [
          61.86,
          663.66,
          943.65,
          1345.49,
          1741.56
         ]
        },
        {
         "name": "delta-io/delta",
         "x": [
          2020,
          2021,
          2022,
          2023,
          2024
         ],
         "y": [
          152.49,
          222.7,
          177.62,
          379.98,
          518.57
         ]
        },
        {
         "name": "onnx/onnx-mlir",
         "x": [
          2020,
          2021,
          2022,
          2023,
          2024
         ],
         "y": [
          0,
          218.88,
          362.09,
          509.26,
          514.98
         ]
        },
        {
         "name": "kedro-org/kedro",
         "x": [
          2020,
          2021,
          2022,
          2023,
          2024
         ],
         "y": [
          0,
          0,
          0,
          374.19,
          486.66
         ]
        },
        {
         "name": "ludwig-ai/ludwig",
         "x": [
          2020,
          2021,
          2022,
          2023,
          2024
         ],
         "y": [
          0,
          25.66,
          246.25,
          442.95,
          447.81
         ]
        },
        {
         "name": "flyteorg/flyte",
         "x": [
          2020,
          2021,
          2022,
          2023,
          2024
         ],
         "y": [
          0,
          0,
          218.22,
          294.13,
          413.69
         ]
        },
        {
         "name": "onnx/onnx",
         "x": [
          2020,
          2021,
          2022,
          2023,
          2024
         ],
         "y": [
          364.06,
          329.32,
          318.8,
          307.28,
          326.21
         ]
        },
        {
         "name": "kserve/kserve",
         "x": [
          2020,
          2021,
          2022,
          2023,
          2024
         ],
         "y": [
          0,
          0,
          87.5,
          340.23,
          319.21
         ]
        },
        {
         "name": "FederatedAI/FATE",
         "x": [
          2020,
          2021,
          2022,
          2023,
          2024
         ],
         "y": [
          170.43,
          494.79,
          389.51,
          393.3,
          319.19
         ]
        },
        {
         "name": "flyteorg/flytekit",
         "x": [
          2020,
          2021,
          2022,
          2023,
          2024
         ],
         "y": [
          0,
          0,
          153.31,
          178.05,
          288.78
         ]
        },
        {
         "name": "docarray/docarray",
         "x": [
          2020,
          2021,
          2022,
          2023,
          2024
         ],
         "y": [
          0,
          0,
          0,
          53.82,
          284.7
         ]
        },
        {
         "name": "delta-io/delta-rs",
         "x": [
          2020,
          2021,
          2022,
          2023,
          2024
         ],
         "y": [
          0,
          11.31,
          131.84,
          133.15,
          262.04
         ]
        },
        {
         "name": "OpenLineage/OpenLineage",
         "x": [
          2020,
          2021,
          2022,
          2023,
          2024
         ],
         "y": [
          0,
          2.93,
          96.04,
          284.98,
          252.01
         ]
        },
        {
         "name": "feast-dev/feast",
         "x": [
          2020,
          2021,
          2022,
          2023,
          2024
         ],
         "y": [
          0,
          267.85,
          380.34,
          479.52,
          246.49
         ]
        },
        {
         "name": "nnstreamer/nntrainer",
         "x": [
          2020,
          2021,
          2022,
          2023,
          2024
         ],
         "y": [
          0,
          118.98,
          228.53,
          165.63,
          213.89
         ]
        },
        {
         "name": "kedro-org/kedro-viz",
         "x": [
          2020,
          2021,
          2022,
          2023,
          2024
         ],
         "y": [
          0,
          0,
          0,
          196.39,
          183.84
         ]
        },
        {
         "name": "nnstreamer/nnstreamer",
         "x": [
          2020,
          2021,
          2022,
          2023,
          2024
         ],
         "y": [
          0,
          239.65,
          250.67,
          186.87,
          175.93
         ]
        },
        {
         "name": "Trusted-AI/adversarial-robustness-toolbox",
         "x": [
          2020,
          2021,
          2022,
          2023,
          2024
         ],
         "y": [
          115.42,
          253.53,
          298.98,
          167.65,
          163.75
         ]
        },
        {
         "name": "JanusGraph/janusgraph",
         "x": [
          2020,
          2021,
          2022,
          2023,
          2024
         ],
         "y": [
          278.84,
          206.76,
          187.78,
          122.52,
          149.8
         ]
        },
        {
         "name": "MarquezProject/marquez",
         "x": [
          2020,
          2021,
          2022,
          2023,
          2024
         ],
         "y": [
          97.52,
          63.75,
          143.18,
          134.87,
          139.86
         ]
        }
       ],
       "layout": {
        "autosize": true,
        "title": {
         "text": "OpenRank of lfai 2020-2024"
        },
        "xaxis": {
         "autorange": true,
         "range": [
          2019.7153558052435,
          2024.2846441947565
         ],
         "type": "linear"
        },
        "yaxis": {
         "autorange": true,
         "range": [
          -143.7209708737864,
          1885.2809708737864
         ],
         "type": "linear"
        }
       }
      },
      "image/png": "[encoded data removed]"
     },
     "execution_count": 17,
     "metadata": {},
     "output_type": "execute_result"
    }
   ],
   "source": [
    "processTechFieldData(':foundations/linux_foundation/lfai', 'lfai');"
   ]
  },
  {
   "cell_type": "markdown",
   "id": "1b74a531",
   "metadata": {},
   "source": [
    "### OpenAtom"
   ]
  },
  {
   "cell_type": "code",
   "execution_count": 18,
   "id": "b00b899b",
   "metadata": {},
   "outputs": [
    {
     "data": {
      "application/vnd.plotly.v1+json": {
       "data": [
        {
         "name": "OpenHarmony",
         "x": [
          2019,
          2020,
          2021,
          2022,
          2023
         ],
         "y": [
          181.38,
          5298.34,
          28241.13,
          38824.59,
          67975.58
         ]
        },
        {
         "name": "openEuler",
         "x": [
          2019,
          2020,
          2021,
          2022,
          2023
         ],
         "y": [
          4784.04,
          10166.61,
          16407.89,
          22046.2,
          24874.03
         ]
        },
        {
         "name": "Anolis OS",
         "x": [
          2019,
          2020,
          2021,
          2022,
          2023
         ],
         "y": [
          0,
          45.72,
          2518.51,
          4491.63,
          4436.64
         ]
        },
        {
         "name": "openKylin",
         "x": [
          2019,
          2020,
          2021,
          2022,
          2023
         ],
         "y": [
          0,
          2.86,
          718.01,
          4102.34,
          4258.34
         ]
        },
        {
         "name": "Taro",
         "x": [
          2019,
          2020,
          2021,
          2022,
          2023
         ],
         "y": [
          1566.94,
          1040.76,
          923.01,
          931.52,
          628.48
         ]
        },
        {
         "name": "UBML",
         "x": [
          2019,
          2020,
          2021,
          2022,
          2023
         ],
         "y": [
          0,
          31.98,
          66.84,
          242.06,
          418.35
         ]
        },
        {
         "name": "PikiwiDB",
         "x": [
          2019,
          2020,
          2021,
          2022,
          2023
         ],
         "y": [
          100.75,
          61.37,
          45.02,
          230,
          299.21
         ]
        },
        {
         "name": "OpenSolon",
         "x": [
          2019,
          2020,
          2021,
          2022,
          2023
         ],
         "y": [
          0,
          20.67,
          51.67,
          116.16,
          184.84
         ]
        },
        {
         "name": "Others",
         "x": [
          2019,
          2020,
          2021,
          2022,
          2023
         ],
         "y": [
          0,
          0,
          5.16,
          43.92,
          179.06
         ]
        },
        {
         "name": "Tongsuo",
         "x": [
          2019,
          2020,
          2021,
          2022,
          2023
         ],
         "y": [
          0,
          0,
          89.76,
          190.79,
          160.58
         ]
        },
        {
         "name": "KWDB",
         "x": [
          2019,
          2020,
          2021,
          2022,
          2023
         ],
         "y": [
          0,
          0,
          0,
          0,
          154.99
         ]
        },
        {
         "name": "Codeya IDE",
         "x": [
          2019,
          2020,
          2021,
          2022,
          2023
         ],
         "y": [
          0,
          0,
          0,
          24.52,
          126.28
         ]
        },
        {
         "name": "玲珑",
         "x": [
          2019,
          2020,
          2021,
          2022,
          2023
         ],
         "y": [
          0,
          0,
          2.57,
          26.72,
          119.88
         ]
        },
        {
         "name": "OpenKona",
         "x": [
          2019,
          2020,
          2021,
          2022,
          2023
         ],
         "y": [
          9.38,
          44.96,
          45.91,
          89.8,
          96.45
         ]
        },
        {
         "name": "OpenTenBase",
         "x": [
          2019,
          2020,
          2021,
          2022,
          2023
         ],
         "y": [
          33.41,
          26.67,
          20.1,
          13.48,
          86.99
         ]
        },
        {
         "name": "Vearch",
         "x": [
          2019,
          2020,
          2021,
          2022,
          2023
         ],
         "y": [
          149.75,
          207.96,
          100.78,
          37.84,
          73.6
         ]
        },
        {
         "name": "OpenInula",
         "x": [
          2019,
          2020,
          2021,
          2022,
          2023
         ],
         "y": [
          0,
          0,
          0,
          38.79,
          70.23
         ]
        },
        {
         "name": "GreatSQL",
         "x": [
          2019,
          2020,
          2021,
          2022,
          2023
         ],
         "y": [
          0,
          5.08,
          26.11,
          49.87,
          67.01
         ]
        },
        {
         "name": "Kurator",
         "x": [
          2019,
          2020,
          2021,
          2022,
          2023
         ],
         "y": [
          0,
          0,
          44.53,
          132.53,
          58.38
         ]
        },
        {
         "name": "hapjs",
         "x": [
          2019,
          2020,
          2021,
          2022,
          2023
         ],
         "y": [
          0,
          0,
          84.62,
          118.12,
          48.38
         ]
        },
        {
         "name": "OpenCloudOS",
         "x": [
          2019,
          2020,
          2021,
          2022,
          2023
         ],
         "y": [
          0,
          1.73,
          87.77,
          107.25,
          43.74
         ]
        },
        {
         "name": "狮偶",
         "x": [
          2019,
          2020,
          2021,
          2022,
          2023
         ],
         "y": [
          0,
          10.47,
          59.98,
          30.07,
          37.76
         ]
        },
        {
         "name": "TKEStack",
         "x": [
          2019,
          2020,
          2021,
          2022,
          2023
         ],
         "y": [
          500.9,
          526.97,
          318.26,
          112.82,
          32.87
         ]
        },
        {
         "name": "OpenNJet",
         "x": [
          2019,
          2020,
          2021,
          2022,
          2023
         ],
         "y": [
          0,
          0,
          0,
          18.79,
          19.49
         ]
        },
        {
         "name": "XuperCore",
         "x": [
          2019,
          2020,
          2021,
          2022,
          2023
         ],
         "y": [
          252.19,
          265.81,
          263.14,
          108.31,
          16.06
         ]
        },
        {
         "name": "MiniBlink",
         "x": [
          2019,
          2020,
          2021,
          2022,
          2023
         ],
         "y": [
          50.84,
          24.68,
          14,
          9.16,
          15.23
         ]
        },
        {
         "name": "Dora SSR",
         "x": [
          2019,
          2020,
          2021,
          2022,
          2023
         ],
         "y": [
          0.22,
          0,
          2.03,
          16.78,
          14.94
         ]
        },
        {
         "name": "OpenV2X",
         "x": [
          2019,
          2020,
          2021,
          2022,
          2023
         ],
         "y": [
          0,
          0,
          90.95,
          166.14,
          10.67
         ]
        },
        {
         "name": "Carsmos",
         "x": [
          2019,
          2020,
          2021,
          2022,
          2023
         ],
         "y": [
          0,
          0,
          0,
          17.32,
          7.76
         ]
        },
        {
         "name": "Cloud HPC",
         "x": [
          2019,
          2020,
          2021,
          2022,
          2023
         ],
         "y": [
          0,
          0,
          0,
          19.14,
          4.82
         ]
        },
        {
         "name": "MetaToC",
         "x": [
          2019,
          2020,
          2021,
          2022,
          2023
         ],
         "y": [
          0,
          0,
          18.59,
          25.11,
          2.28
         ]
        },
        {
         "name": "AliOS Things",
         "x": [
          2019,
          2020,
          2021,
          2022,
          2023
         ],
         "y": [
          67.97,
          40.84,
          199.72,
          21.55,
          1.28
         ]
        },
        {
         "name": "TencentOS Tiny",
         "x": [
          2019,
          2020,
          2021,
          2022,
          2023
         ],
         "y": [
          98.4,
          47.52,
          26.13,
          24.56,
          0.94
         ]
        },
        {
         "name": "CrowdOS",
         "x": [
          2019,
          2020,
          2021,
          2022,
          2023
         ],
         "y": [
          0,
          0,
          0,
          0,
          0.37
         ]
        },
        {
         "name": "HyperBench",
         "x": [
          2019,
          2020,
          2021,
          2022,
          2023
         ],
         "y": [
          0,
          3.29,
          3.38,
          0.73,
          0.24
         ]
        },
        {
         "name": "SmartIDE",
         "x": [
          2019,
          2020,
          2021,
          2022,
          2023
         ],
         "y": [
          0,
          6.09,
          63.83,
          7.21,
          0.22
         ]
        },
        {
         "name": "RT-TKern",
         "x": [
          2019,
          2020,
          2021,
          2022,
          2023
         ],
         "y": [
          1.63,
          5.48,
          0.42,
          0,
          0.18
         ]
        },
        {
         "name": "ZTDBP",
         "x": [
          2019,
          2020,
          2021,
          2022,
          2023
         ],
         "y": [
          0,
          0,
          0,
          18.14,
          0
         ]
        },
        {
         "name": "EasyBaaS",
         "x": [
          2019,
          2020,
          2021,
          2022,
          2023
         ],
         "y": [
          0,
          0,
          0,
          0.62,
          0
         ]
        }
       ],
       "layout": {
        "autosize": true,
        "title": {
         "text": "OpenRank of OpenAtom Project 2020-2024"
        },
        "xaxis": {
         "autorange": true,
         "range": [
          -0.2628627164106315,
          4.262862716410631
         ],
         "type": "category"
        },
        "yaxis": {
         "autorange": true,
         "range": [
          -5609.635242718447,
          73585.21524271845
         ],
         "type": "linear"
        }
       }
      },
      "image/png": "[encoded data removed]"
     },
     "execution_count": 18,
     "metadata": {},
     "output_type": "execute_result"
    }
   ],
   "source": [
    "openDigger.index.openrank.getRepoOpenrank({\n",
    "    labelUnion: [':foundations/openatom'],\n",
    "    startYear: 2020, endYear: 2024, endMonth: 12,\n",
    "    groupBy: 'Project',\n",
    "    groupTimeRange: 'year',\n",
    "    order: 'DESC',\n",
    "    limit: -1\n",
    "}).then(data => {\n",
    "    // var data = data.filter(i => i.id.startsWith(':technology'));\n",
    "    openDigger.render.plotly(data.map(row => {\n",
    "        return {\n",
    "            x: years,\n",
    "            y: row.openrank,\n",
    "            name: row.name\n",
    "        };\n",
    "    }), {title: `OpenRank of OpenAtom Project 2020-2024`, xaxis: { type: 'category' }});\n",
    "})"
   ]
  },
  {
   "cell_type": "markdown",
   "id": "0f5f565f",
   "metadata": {},
   "source": [
    "### Apache"
   ]
  },
  {
   "cell_type": "code",
   "execution_count": 19,
   "id": "23fe84fc",
   "metadata": {},
   "outputs": [
    {
     "data": {
      "application/vnd.plotly.v1+json": {
       "data": [
        {
         "name": "apache/doris",
         "x": [
          2020,
          2021,
          2022,
          2023,
          2024
         ],
         "y": [
          466.25,
          894.83,
          835.53,
          2069.31,
          3860.91
         ]
        },
        {
         "name": "apache/airflow",
         "x": [
          2020,
          2021,
          2022,
          2023,
          2024
         ],
         "y": [
          1246.75,
          2072.85,
          2924.05,
          2716.74,
          2864.32
         ]
        },
        {
         "name": "apache/spark",
         "x": [
          2020,
          2021,
          2022,
          2023,
          2024
         ],
         "y": [
          2831.96,
          2734.85,
          2412.73,
          2187.92,
          2570.78
         ]
        },
        {
         "name": "apache/hudi",
         "x": [
          2020,
          2021,
          2022,
          2023,
          2024
         ],
         "y": [
          275.61,
          858.17,
          1195.14,
          1828.44,
          1877.23
         ]
        },
        {
         "name": "apache/beam",
         "x": [
          2020,
          2021,
          2022,
          2023,
          2024
         ],
         "y": [
          2018.78,
          2043.73,
          1742.7,
          2049.12,
          1867.82
         ]
        },
        {
         "name": "apache/arrow",
         "x": [
          2020,
          2021,
          2022,
          2023,
          2024
         ],
         "y": [
          1203.14,
          1264.39,
          1304.49,
          1454.97,
          1860.12
         ]
        },
        {
         "name": "apache/superset",
         "x": [
          2020,
          2021,
          2022,
          2023,
          2024
         ],
         "y": [
          1024.73,
          1286.91,
          2000.65,
          1863.8,
          1670.45
         ]
        },
        {
         "name": "apache/flink",
         "x": [
          2020,
          2021,
          2022,
          2023,
          2024
         ],
         "y": [
          1890.63,
          2289.77,
          2188.18,
          2059.34,
          1658.51
         ]
        },
        {
         "name": "apache/kafka",
         "x": [
          2020,
          2021,
          2022,
          2023,
          2024
         ],
         "y": [
          1499.88,
          1551.07,
          1457.59,
          1189.66,
          1644.91
         ]
        },
        {
         "name": "apache/iceberg",
         "x": [
          2020,
          2021,
          2022,
          2023,
          2024
         ],
         "y": [
          343.11,
          710.54,
          1083.36,
          1485.28,
          1473.98
         ]
        },
        {
         "name": "apache/shardingsphere",
         "x": [
          2020,
          2021,
          2022,
          2023,
          2024
         ],
         "y": [
          756.18,
          1250.27,
          1358.14,
          1735.15,
          1428.65
         ]
        },
        {
         "name": "apache/tvm",
         "x": [
          2020,
          2021,
          2022,
          2023,
          2024
         ],
         "y": [
          259.72,
          1633.46,
          1816.59,
          1942.32,
          1379.76
         ]
        },
        {
         "name": "apache/nuttx",
         "x": [
          2020,
          2021,
          2022,
          2023,
          2024
         ],
         "y": [
          6.79,
          599.8,
          851.59,
          979.07,
          1334.87
         ]
        },
        {
         "name": "apache/pinot",
         "x": [
          2020,
          2021,
          2022,
          2023,
          2024
         ],
         "y": [
          678.85,
          799.28,
          986.02,
          1118.13,
          1238.12
         ]
        },
        {
         "name": "apache/ozone",
         "x": [
          2020,
          2021,
          2022,
          2023,
          2024
         ],
         "y": [
          146.17,
          841.12,
          921.51,
          949.42,
          1218.16
         ]
        },
        {
         "name": "apache/iotdb",
         "x": [
          2020,
          2021,
          2022,
          2023,
          2024
         ],
         "y": [
          308.15,
          671.6,
          873.29,
          1278.08,
          1210.02
         ]
        },
        {
         "name": "apache/druid",
         "x": [
          2020,
          2021,
          2022,
          2023,
          2024
         ],
         "y": [
          1076.83,
          832.97,
          923.04,
          938.83,
          1084.39
         ]
        },
        {
         "name": "apache/hadoop",
         "x": [
          2020,
          2021,
          2022,
          2023,
          2024
         ],
         "y": [
          687.05,
          724.64,
          996.09,
          1111.23,
          1031.62
         ]
        },
        {
         "name": "apache/pulsar",
         "x": [
          2020,
          2021,
          2022,
          2023,
          2024
         ],
         "y": [
          1053.59,
          1197.52,
          1637.17,
          1818.65,
          999.05
         ]
        },
        {
         "name": "apache/arrow-datafusion",
         "x": [
          2020,
          2021,
          2022,
          2023,
          2024
         ],
         "y": [
          0,
          0,
          274.69,
          601.66,
          957.11
         ]
        }
       ],
       "layout": {
        "autosize": true,
        "title": {
         "text": "OpenRank of Apache 2020-2024"
        },
        "xaxis": {
         "autorange": true,
         "range": [
          2019.73132664437,
          2024.26867335563
         ],
         "type": "linear"
        },
        "yaxis": {
         "autorange": true,
         "range": [
          -318.618786407767,
          4179.528786407767
         ],
         "type": "linear"
        }
       }
      },
      "image/png": "[encoded data removed]"
     },
     "execution_count": 19,
     "metadata": {},
     "output_type": "execute_result"
    }
   ],
   "source": [
    "processTechFieldData(':foundations/apache', 'Apache');"
   ]
  },
  {
   "cell_type": "markdown",
   "id": "84227883-6ca5-44ab-8133-89bdb28a1724",
   "metadata": {},
   "source": [
    "### Eclipse"
   ]
  },
  {
   "cell_type": "code",
   "execution_count": 20,
   "id": "c3c2d555-564a-4d2f-b098-56a09a30e071",
   "metadata": {},
   "outputs": [
    {
     "data": {
      "application/vnd.plotly.v1+json": {
       "data": [
        {
         "name": "eclipse/sumo",
         "x": [
          2020,
          2021,
          2022,
          2023,
          2024
         ],
         "y": [
          458.67,
          554.13,
          629.39,
          640.59,
          487.57
         ]
        },
        {
         "name": "eclipse/jetty.project",
         "x": [
          2020,
          2021,
          2022,
          2023,
          2024
         ],
         "y": [
          564.89,
          520.12,
          465.84,
          409.54,
          355.12
         ]
        },
        {
         "name": "eclipse/kura",
         "x": [
          2020,
          2021,
          2022,
          2023,
          2024
         ],
         "y": [
          163.69,
          179.95,
          189.9,
          225.09,
          264.66
         ]
        },
        {
         "name": "eclipse/omr",
         "x": [
          2020,
          2021,
          2022,
          2023,
          2024
         ],
         "y": [
          595.36,
          601.65,
          327.02,
          356.15,
          257.6
         ]
        },
        {
         "name": "eclipse/che",
         "x": [
          2020,
          2021,
          2022,
          2023,
          2024
         ],
         "y": [
          1007.68,
          877.01,
          538.96,
          274.07,
          231.98
         ]
        },
        {
         "name": "eclipse/kiso-testing",
         "x": [
          2020,
          2021,
          2022,
          2023,
          2024
         ],
         "y": [
          0,
          0,
          5.37,
          131.85,
          167.25
         ]
        },
        {
         "name": "eclipse/xtext",
         "x": [
          2020,
          2021,
          2022,
          2023,
          2024
         ],
         "y": [
          47.6,
          70.18,
          42.41,
          16.58,
          149.69
         ]
        },
        {
         "name": "eclipse/hawkbit",
         "x": [
          2020,
          2021,
          2022,
          2023,
          2024
         ],
         "y": [
          218.91,
          165.26,
          153.72,
          70.99,
          145.15
         ]
        },
        {
         "name": "eclipse/mosquitto",
         "x": [
          2020,
          2021,
          2022,
          2023,
          2024
         ],
         "y": [
          251.08,
          241.63,
          256.15,
          149.96,
          131.04
         ]
        },
        {
         "name": "eclipse/eclipse.jdt.ls",
         "x": [
          2020,
          2021,
          2022,
          2023,
          2024
         ],
         "y": [
          152.78,
          142.09,
          137.26,
          151.37,
          125.88
         ]
        },
        {
         "name": "eclipse/capella",
         "x": [
          2020,
          2021,
          2022,
          2023,
          2024
         ],
         "y": [
          0,
          136.08,
          155.82,
          120.56,
          123.26
         ]
        },
        {
         "name": "eclipse/dirigible",
         "x": [
          2020,
          2021,
          2022,
          2023,
          2024
         ],
         "y": [
          55.45,
          77.73,
          103.87,
          174.55,
          121.32
         ]
        },
        {
         "name": "eclipse/kapua",
         "x": [
          2020,
          2021,
          2022,
          2023,
          2024
         ],
         "y": [
          278.29,
          179.31,
          121.87,
          78.22,
          120.99
         ]
        },
        {
         "name": "eclipse/jkube",
         "x": [
          2020,
          2021,
          2022,
          2023,
          2024
         ],
         "y": [
          3.51,
          105.72,
          170.64,
          196.36,
          119.3
         ]
        },
        {
         "name": "eclipse/lsp4e",
         "x": [
          2020,
          2021,
          2022,
          2023,
          2024
         ],
         "y": [
          0,
          0,
          7.73,
          79.34,
          118.7
         ]
        },
        {
         "name": "eclipse/rdf4j",
         "x": [
          2020,
          2021,
          2022,
          2023,
          2024
         ],
         "y": [
          126.32,
          247.39,
          225.02,
          213.32,
          102.33
         ]
        },
        {
         "name": "eclipse/kuksa.val",
         "x": [
          2020,
          2021,
          2022,
          2023,
          2024
         ],
         "y": [
          0,
          57.83,
          62.67,
          54.92,
          98.09
         ]
        },
        {
         "name": "eclipse/openvsx",
         "x": [
          2020,
          2021,
          2022,
          2023,
          2024
         ],
         "y": [
          0,
          74.53,
          62.75,
          69.48,
          76.99
         ]
        },
        {
         "name": "eclipse/paho.mqtt.c",
         "x": [
          2020,
          2021,
          2022,
          2023,
          2024
         ],
         "y": [
          107.04,
          173.04,
          112.64,
          84.51,
          75.46
         ]
        },
        {
         "name": "eclipse/microprofile-marketing",
         "x": [
          2020,
          2021,
          2022,
          2023,
          2024
         ],
         "y": [
          88.98,
          70.59,
          122.52,
          99.71,
          72.69
         ]
        }
       ],
       "layout": {
        "autosize": true,
        "title": {
         "text": "OpenRank of Eclipse 2020-2024"
        },
        "xaxis": {
         "autorange": true,
         "range": [
          2019.7272727272727,
          2024.2727272727273
         ],
         "type": "linear"
        },
        "yaxis": {
         "autorange": true,
         "range": [
          -83.15805825242718,
          1090.8380582524271
         ],
         "type": "linear"
        }
       }
      },
      "image/png": "[encoded data removed]"
     },
     "execution_count": 20,
     "metadata": {},
     "output_type": "execute_result"
    }
   ],
   "source": [
    "processTechFieldData(':foundations/eclipse', 'Eclipse');"
   ]
  },
  {
   "cell_type": "markdown",
   "id": "170e85ff-3878-4452-8047-433c536d25aa",
   "metadata": {},
   "source": [
    "### OpenInfra"
   ]
  },
  {
   "cell_type": "code",
   "execution_count": 21,
   "id": "0c074d90-78de-4175-bac0-c878c91a3005",
   "metadata": {},
   "outputs": [
    {
     "data": {
      "application/vnd.plotly.v1+json": {
       "data": [
        {
         "name": "kata-containers/kata-containers",
         "x": [
          2020,
          2021,
          2022,
          2023,
          2024
         ],
         "y": [
          20.55,
          267.4,
          727.33,
          963.73,
          1115.2
         ]
        },
        {
         "name": "kata-containers/tests",
         "x": [
          2020,
          2021,
          2022,
          2023,
          2024
         ],
         "y": [
          261.06,
          241.31,
          331.28,
          287.28,
          148.75
         ]
        },
        {
         "name": "kata-containers/community",
         "x": [
          2020,
          2021,
          2022,
          2023,
          2024
         ],
         "y": [
          22.78,
          22.11,
          19.8,
          18.66,
          21.04
         ]
        },
        {
         "name": "kata-containers/cgroups-rs",
         "x": [
          2020,
          2021,
          2022,
          2023,
          2024
         ],
         "y": [
          0,
          6.02,
          19.98,
          10.29,
          18.37
         ]
        },
        {
         "name": "openstack/requirements",
         "x": [
          2020,
          2021,
          2022,
          2023,
          2024
         ],
         "y": [
          5.72,
          0.28,
          8.53,
          13.89,
          17.79
         ]
        },
        {
         "name": "kata-containers/ci",
         "x": [
          2020,
          2021,
          2022,
          2023,
          2024
         ],
         "y": [
          26.76,
          24.59,
          18.11,
          20.83,
          12.1
         ]
        },
        {
         "name": "openstack/cinder",
         "x": [
          2020,
          2021,
          2022,
          2023,
          2024
         ],
         "y": [
          8.58,
          0,
          0.83,
          2.66,
          11.08
         ]
        },
        {
         "name": "openstack/nova",
         "x": [
          2020,
          2021,
          2022,
          2023,
          2024
         ],
         "y": [
          15.62,
          0.32,
          9.02,
          5.16,
          9.16
         ]
        },
        {
         "name": "openstack/manila",
         "x": [
          2020,
          2021,
          2022,
          2023,
          2024
         ],
         "y": [
          3.04,
          0.37,
          0.33,
          0,
          7.2
         ]
        },
        {
         "name": "openstack/kolla",
         "x": [
          2020,
          2021,
          2022,
          2023,
          2024
         ],
         "y": [
          2.19,
          0.92,
          0.2,
          0.16,
          6.56
         ]
        },
        {
         "name": "kata-containers/www.katacontainers.io",
         "x": [
          2020,
          2021,
          2022,
          2023,
          2024
         ],
         "y": [
          9.9,
          19.41,
          15.63,
          10.08,
          6.09
         ]
        },
        {
         "name": "openstack/skyline-console",
         "x": [
          2020,
          2021,
          2022,
          2023,
          2024
         ],
         "y": [
          0,
          0,
          0,
          0.77,
          4.81
         ]
        },
        {
         "name": "kata-containers/kata-containers-github-actions-tests",
         "x": [
          2020,
          2021,
          2022,
          2023,
          2024
         ],
         "y": [
          0,
          0,
          0,
          0,
          4.79
         ]
        },
        {
         "name": "openstack/openstacksdk",
         "x": [
          2020,
          2021,
          2022,
          2023,
          2024
         ],
         "y": [
          0.87,
          0,
          0.96,
          0,
          3.69
         ]
        },
        {
         "name": "openstack/python-novaclient",
         "x": [
          2020,
          2021,
          2022,
          2023,
          2024
         ],
         "y": [
          0,
          0,
          0,
          0.06,
          3.53
         ]
        },
        {
         "name": "openstack/kolla-ansible",
         "x": [
          2020,
          2021,
          2022,
          2023,
          2024
         ],
         "y": [
          16.24,
          15.73,
          16.05,
          4.01,
          3.4
         ]
        },
        {
         "name": "openstack/ironic",
         "x": [
          2020,
          2021,
          2022,
          2023,
          2024
         ],
         "y": [
          5.23,
          0,
          0,
          0,
          3.34
         ]
        },
        {
         "name": "openstack/openstack-ansible",
         "x": [
          2020,
          2021,
          2022,
          2023,
          2024
         ],
         "y": [
          1.91,
          0.8,
          0,
          1.43,
          3.14
         ]
        },
        {
         "name": "openstack/openstack-ansible-galera_server",
         "x": [
          2020,
          2021,
          2022,
          2023,
          2024
         ],
         "y": [
          0,
          0.32,
          0,
          0,
          2.76
         ]
        },
        {
         "name": "openstack/diskimage-builder",
         "x": [
          2020,
          2021,
          2022,
          2023,
          2024
         ],
         "y": [
          4.14,
          3.94,
          0.84,
          9.14,
          2.66
         ]
        }
       ],
       "layout": {
        "autosize": true,
        "title": {
         "text": "OpenRank of OpenInfra 2020-2024"
        },
        "xaxis": {
         "autorange": true,
         "range": [
          2019.698525915359,
          2024.301474084641
         ],
         "type": "linear"
        },
        "yaxis": {
         "autorange": true,
         "range": [
          -92.03106796116505,
          1207.231067961165
         ],
         "type": "linear"
        }
       }
      },
      "image/png": "[encoded data removed]"
     },
     "execution_count": 21,
     "metadata": {},
     "output_type": "execute_result"
    }
   ],
   "source": [
    "processTechFieldData(':foundations/openinfra', 'OpenInfra');"
   ]
  },
  {
   "cell_type": "markdown",
   "id": "1b0b3271-a2b0-4d70-81bf-5f9907992ce4",
   "metadata": {},
   "source": [
    "### OpenJs"
   ]
  },
  {
   "cell_type": "code",
   "execution_count": 22,
   "id": "7293f924-b80b-438f-8f3c-72c9ad598588",
   "metadata": {},
   "outputs": [
    {
     "data": {
      "application/vnd.plotly.v1+json": {
       "data": [
        {
         "name": "nodejs/node",
         "x": [
          2020,
          2021,
          2022,
          2023,
          2024
         ],
         "y": [
          2839.89,
          2500.45,
          1952.66,
          1901.72,
          2056.58
         ]
        },
        {
         "name": "electron/electron",
         "x": [
          2020,
          2021,
          2022,
          2023,
          2024
         ],
         "y": [
          2298.12,
          2197.22,
          1747.9,
          1624.4,
          1477.23
         ]
        },
        {
         "name": "webdriverio/webdriverio",
         "x": [
          2020,
          2021,
          2022,
          2023,
          2024
         ],
         "y": [
          862.72,
          629.29,
          508.13,
          298.98,
          593.3
         ]
        },
        {
         "name": "eslint/eslint",
         "x": [
          2020,
          2021,
          2022,
          2023,
          2024
         ],
         "y": [
          660.68,
          574.71,
          424,
          401.52,
          447.97
         ]
        },
        {
         "name": "nodejs/nodejs.org",
         "x": [
          2020,
          2021,
          2022,
          2023,
          2024
         ],
         "y": [
          377.28,
          187.98,
          182.91,
          172.87,
          370.6
         ]
        },
        {
         "name": "appium/appium",
         "x": [
          2020,
          2021,
          2022,
          2023,
          2024
         ],
         "y": [
          771.31,
          573.83,
          409.68,
          394.53,
          343.36
         ]
        },
        {
         "name": "ampproject/amphtml",
         "x": [
          2020,
          2021,
          2022,
          2023,
          2024
         ],
         "y": [
          2259.33,
          2031.85,
          1808.61,
          724.47,
          292.81
         ]
        },
        {
         "name": "fastify/fastify",
         "x": [
          2020,
          2021,
          2022,
          2023,
          2024
         ],
         "y": [
          288.65,
          321.11,
          304.05,
          313.54,
          285.71
         ]
        },
        {
         "name": "webpack/webpack",
         "x": [
          2020,
          2021,
          2022,
          2023,
          2024
         ],
         "y": [
          752.23,
          786.84,
          769.79,
          428.41,
          272.96
         ]
        },
        {
         "name": "nodejs/undici",
         "x": [
          2020,
          2021,
          2022,
          2023,
          2024
         ],
         "y": [
          0,
          97.34,
          257.36,
          221.34,
          223.04
         ]
        },
        {
         "name": "interledger/rafiki",
         "x": [
          2020,
          2021,
          2022,
          2023,
          2024
         ],
         "y": [
          0,
          0,
          35.96,
          124.77,
          182.42
         ]
        },
        {
         "name": "electron/forge",
         "x": [
          2020,
          2021,
          2022,
          2023,
          2024
         ],
         "y": [
          0,
          0,
          0,
          60.55,
          165.37
         ]
        },
        {
         "name": "node-red/node-red",
         "x": [
          2020,
          2021,
          2022,
          2023,
          2024
         ],
         "y": [
          222.96,
          220.51,
          243.85,
          194.05,
          142.76
         ]
        },
        {
         "name": "nodejs/help",
         "x": [
          2020,
          2021,
          2022,
          2023,
          2024
         ],
         "y": [
          317.91,
          335.08,
          225.09,
          174.46,
          132.2
         ]
        },
        {
         "name": "nodejs/build",
         "x": [
          2020,
          2021,
          2022,
          2023,
          2024
         ],
         "y": [
          152.7,
          134.82,
          99.81,
          82.03,
          123.04
         ]
        },
        {
         "name": "libuv/libuv",
         "x": [
          2020,
          2021,
          2022,
          2023,
          2024
         ],
         "y": [
          229.81,
          224.25,
          135.17,
          140.72,
          122.87
         ]
        },
        {
         "name": "interledger/testnet",
         "x": [
          2020,
          2021,
          2022,
          2023,
          2024
         ],
         "y": [
          0,
          0,
          0,
          0,
          119.74
         ]
        },
        {
         "name": "nvm-sh/nvm",
         "x": [
          2020,
          2021,
          2022,
          2023,
          2024
         ],
         "y": [
          77.43,
          142.31,
          154.8,
          132.87,
          119.13
         ]
        },
        {
         "name": "moment/luxon",
         "x": [
          2020,
          2021,
          2022,
          2023,
          2024
         ],
         "y": [
          149.29,
          130.21,
          139.65,
          127.89,
          108.08
         ]
        },
        {
         "name": "expressjs/express",
         "x": [
          2020,
          2021,
          2022,
          2023,
          2024
         ],
         "y": [
          150.88,
          172.11,
          120.25,
          120.85,
          103.73
         ]
        }
       ],
       "layout": {
        "autosize": true,
        "title": {
         "text": "OpenRank of OpenJs 2020-2024"
        },
        "xaxis": {
         "autorange": true,
         "range": [
          2019.7320153761668,
          2024.2679846238332
         ],
         "type": "linear"
        },
        "yaxis": {
         "autorange": true,
         "range": [
          -234.35985436893205,
          3074.249854368932
         ],
         "type": "linear"
        }
       }
      },
      "image/png": "[encoded data removed]"
     },
     "execution_count": 22,
     "metadata": {},
     "output_type": "execute_result"
    }
   ],
   "source": [
    "processTechFieldData(':foundations/linux_foundation/openjs', 'OpenJs');"
   ]
  },
  {
   "cell_type": "code",
   "execution_count": null,
   "id": "b8dfd218-0463-4f5c-b370-2a0dfd1b3950",
   "metadata": {},
   "outputs": [],
   "source": []
  }
 ],
 "metadata": {
  "kernelspec": {
   "display_name": "JavaScript (Node.js)",
   "language": "javascript",
   "name": "javascript"
  },
  "language_info": {
   "file_extension": ".js",
   "mimetype": "application/javascript",
   "name": "javascript",
   "version": "16.13.2"
  }
 },
 "nbformat": 4,
 "nbformat_minor": 5
}
